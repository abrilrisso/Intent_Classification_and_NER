{
 "cells": [
  {
   "cell_type": "markdown",
   "metadata": {
    "id": "5b0R18qGjOxT"
   },
   "source": [
    "<center>\n",
    "<h1 style=\"font-family:verdana\">\n",
    " 💻 🧑 Reconeixement d'entitats anomenades 🧑 💻\n"
   ]
  },
  {
   "cell_type": "markdown",
   "metadata": {
    "id": "PZOmxM4_kAUC"
   },
   "source": [
    "<p> 🎯 <b>Objectiu</b>: en aquesta segona part de la pràctica aprendrem a reconèixer entitats anomenades, és a dir, identificar i classificar entitats en una oració que poden ser (en el context de reserva de vols) la ciutat de sortida o d'arribada, la data del mes i el dia, si es de negocis o turista o altres categories específiques. Aquesta tasca se sol plantejar etiquetant cada paraula amb una etiqueta de la categoria de l'entitat a la qual correspon.\n",
    "\n",
    "Tant la classificació d'intencions (tasca estudiada a la primera part) com el reconeixement d'entitats anomenades (Name Entity Recognition, NER) que veurem en aquesta part són components crucials dels sistemes de processament del llenguatge natural (Natural Language Processing, NLP) i sovint s'utilitzen junts per crear aplicacions d'intel·ligència artificial (IA) conversacionals més sofisticades. Per exemple, en un xatbot, la classificació d'intencions ajuda a entendre la intenció principal de l'usuari, mentre que el reconeixement d'entitats anomenades ajuda a extreure entitats rellevants per proporcionar respostes més contextualitzades.\n",
    "\n",
    "\n",
    "<p> ✨ <b>Contingut</b>: els passos d'aquesta segona part seran similars a la primera. En primer lloc, analitzarem el conjunt de dades. En segon lloc, prepararem les dades per a poder entrenar el model. I finalment dissenyarem l'arquitectura i entrenarem el model. </p>\n",
    "\n",
    "\n",
    "<p> ✏ <b>Exercicis</b>: en cada secció anireu trobant exercicis que haureu d'anar resolent. </p>"
   ]
  },
  {
   "cell_type": "markdown",
   "metadata": {},
   "source": [
    "Notebook realitzat per:\n",
    "- Marta Juncarol Pi\n",
    "- Jaume Mora Ladària\n",
    "- Abril Risso Matas"
   ]
  },
  {
   "cell_type": "markdown",
   "metadata": {
    "id": "BI_K-e1cmXlb"
   },
   "source": [
    "---\n",
    "\n",
    "<h2> Índex </h2>\n",
    "\n",
    "1. [Inspecció del conjunt de dades](#section-one)\n",
    "  * [Exercici 1](#ex-one)\n",
    "  * [Exercici 2](#ex-two)\n",
    "2. [Preprocessament de dades](#section-two)\n",
    "  * [Exercici 3](#ex-three)\n",
    "  * [Exercici 4](#ex-four)\n",
    "3. [Disseny del model i entrenament](#section-three)\n",
    "  * [Exercici 5](#ex-five)\n",
    "  * [Exercici 6](#ex-six)\n",
    "4. [Lliurable](#section-four)\n",
    "\n",
    "---"
   ]
  },
  {
   "cell_type": "code",
   "execution_count": null,
   "metadata": {
    "id": "XKn_1FnTxvfV"
   },
   "outputs": [],
   "source": [
    "import keras\n",
    "import random\n",
    "import numpy as np\n",
    "import pandas as pd\n",
    "import tensorflow as tf\n",
    "import seaborn as sns\n",
    "import matplotlib.pyplot as plt\n",
    "\n",
    "from sklearn.preprocessing import LabelEncoder\n",
    "from sklearn.utils import compute_class_weight\n",
    "from sklearn.metrics import classification_report, confusion_matrix, f1_score\n",
    "\n",
    "from keras.utils import to_categorical\n",
    "from keras.models import Sequential\n",
    "from keras.layers import Embedding, LSTM, Dense, Bidirectional, Dropout\n",
    "\n",
    "from tensorflow.keras.preprocessing.text import Tokenizer\n",
    "from tensorflow.keras.preprocessing.sequence import pad_sequences\n",
    "from tensorflow.keras.models import Sequential\n",
    "from tensorflow.keras.losses import categorical_crossentropy\n",
    "from tensorflow.keras.optimizers import Adam\n",
    "from tensorflow.keras.layers import Embedding, LSTM, Conv1D, Dense, TimeDistributed, LSTM, GRU, Bidirectional, MaxPooling1D, GlobalMaxPooling1D, Dropout\n",
    "from tensorflow.keras.utils import to_categorical"
   ]
  },
  {
   "cell_type": "markdown",
   "metadata": {
    "id": "Swhc9NwqpUs8"
   },
   "source": [
    "<h1><a name=\"section-one\"> 1. Inspecció del conjunt de dades </a></h1>"
   ]
  },
  {
   "cell_type": "code",
   "execution_count": 3,
   "metadata": {
    "colab": {
     "base_uri": "https://localhost:8080/"
    },
    "id": "SSM223cvp7wJ",
    "outputId": "62ae195f-8f07-4cf5-8b57-dd22323c77bf"
   },
   "outputs": [
    {
     "name": "stdout",
     "output_type": "stream",
     "text": [
      "Requirement already satisfied: gdown in c:\\users\\marta\\appdata\\local\\programs\\python\\python311\\lib\\site-packages (5.2.0)\n",
      "Requirement already satisfied: beautifulsoup4 in c:\\users\\marta\\appdata\\local\\programs\\python\\python311\\lib\\site-packages (from gdown) (4.12.3)\n",
      "Requirement already satisfied: filelock in c:\\users\\marta\\appdata\\local\\programs\\python\\python311\\lib\\site-packages (from gdown) (3.14.0)\n",
      "Requirement already satisfied: requests[socks] in c:\\users\\marta\\appdata\\local\\programs\\python\\python311\\lib\\site-packages (from gdown) (2.31.0)\n",
      "Requirement already satisfied: tqdm in c:\\users\\marta\\appdata\\local\\programs\\python\\python311\\lib\\site-packages (from gdown) (4.66.2)\n",
      "Requirement already satisfied: soupsieve>1.2 in c:\\users\\marta\\appdata\\local\\programs\\python\\python311\\lib\\site-packages (from beautifulsoup4->gdown) (2.6)\n",
      "Requirement already satisfied: charset-normalizer<4,>=2 in c:\\users\\marta\\appdata\\local\\programs\\python\\python311\\lib\\site-packages (from requests[socks]->gdown) (3.3.2)\n",
      "Requirement already satisfied: idna<4,>=2.5 in c:\\users\\marta\\appdata\\local\\programs\\python\\python311\\lib\\site-packages (from requests[socks]->gdown) (3.6)\n",
      "Requirement already satisfied: urllib3<3,>=1.21.1 in c:\\users\\marta\\appdata\\local\\programs\\python\\python311\\lib\\site-packages (from requests[socks]->gdown) (2.2.1)\n",
      "Requirement already satisfied: certifi>=2017.4.17 in c:\\users\\marta\\appdata\\local\\programs\\python\\python311\\lib\\site-packages (from requests[socks]->gdown) (2024.2.2)\n",
      "Requirement already satisfied: PySocks!=1.5.7,>=1.5.6 in c:\\users\\marta\\appdata\\local\\programs\\python\\python311\\lib\\site-packages (from requests[socks]->gdown) (1.7.1)\n",
      "Requirement already satisfied: colorama in c:\\users\\marta\\appdata\\roaming\\python\\python311\\site-packages (from tqdm->gdown) (0.4.6)\n"
     ]
    },
    {
     "name": "stderr",
     "output_type": "stream",
     "text": [
      "\n",
      "[notice] A new release of pip is available: 23.2.1 -> 24.3.1\n",
      "[notice] To update, run: python.exe -m pip install --upgrade pip\n",
      "Downloading...\n",
      "From: https://drive.google.com/uc?id=1u2wzXvsuscLeFHwXcDwMDaNDy0u_99-t\n",
      "To: c:\\Users\\marta\\tercer\\TVD\\lab2\\nlu_ATIS_data.tar.gz\n",
      "\n",
      "  0%|          | 0.00/122k [00:00<?, ?B/s]\n",
      "100%|██████████| 122k/122k [00:00<00:00, 2.49MB/s]\n"
     ]
    }
   ],
   "source": [
    "!pip install gdown\n",
    "!gdown \"https://drive.google.com/uc?id=1u2wzXvsuscLeFHwXcDwMDaNDy0u_99-t\"\n",
    "!tar -zxf nlu_ATIS_data.tar.gz"
   ]
  },
  {
   "cell_type": "code",
   "execution_count": 4,
   "metadata": {
    "colab": {
     "base_uri": "https://localhost:8080/"
    },
    "id": "OAp0lemwjd71",
    "outputId": "5a51d8f6-d217-451c-ea14-24f3402ddd78"
   },
   "outputs": [
    {
     "name": "stderr",
     "output_type": "stream",
     "text": [
      "\"ls\" no se reconoce como un comando interno o externo,\n",
      "programa o archivo por lotes ejecutable.\n"
     ]
    }
   ],
   "source": [
    "!ls data"
   ]
  },
  {
   "cell_type": "markdown",
   "metadata": {
    "id": "sqKtLqYUpWkZ"
   },
   "source": [
    "En aquesta segona part de la pràctica utilitzarem el mateix dataset que a la primera part, però en aquest cas utilitzarem la **primera columna** que correspon a les **oracions** introduïdes pels usuaris i la **segona columna** on trobarem les oracions d'entrada en format **BILOU**.\n",
    "\n",
    "El format BILOU  és un esquema d'etiquetatge que es fa servir a les tasques de reconeixement d'entitats anomenades. El nom *BILOU* representa les etiquetes utilitzades en aquest esquema:\n",
    "\n",
    "*   **B** - Beginning: primer token d'una entitat.\n",
    "*   **I** - Inside: token dins d'una entitat.\n",
    "*   **L** - Last: últim token de l'entitat.\n",
    "*   **O** - Outside: token que no pertany a cap entitat.\n",
    "*   **U** - Unit: entitats d'un sol token\n",
    "\n",
    "A continuació, carregarem les dades per visualitzar i poder entendre millor aquestes etiquetes."
   ]
  },
  {
   "cell_type": "markdown",
   "metadata": {
    "id": "4fUGDuD9wUfm"
   },
   "source": [
    "---\n",
    "\n",
    " <h1><a name=\"ex-one\"><center> ✏ Exercici 1 ✏</a></h1>\n",
    "\n",
    "A continuació us demanem que carregueu els dos CSVs de la carpeta `data`: `train.csv`, `test.csv` utilitzant pandas. Recorda que aquests CSVs no tenen capçalera. Agafeu les 900 últimes lineas del fitxer `train.csv` per crear un dataframe per validació."
   ]
  },
  {
   "cell_type": "code",
   "execution_count": 5,
   "metadata": {
    "colab": {
     "base_uri": "https://localhost:8080/"
    },
    "id": "93lI2dDVxmST",
    "outputId": "fd4ff6ed-e021-407b-979d-aad4025a8c43"
   },
   "outputs": [
    {
     "name": "stdout",
     "output_type": "stream",
     "text": [
      "Training size: 4078\n",
      "Validation dataset size: 900\n",
      "Test dataset size: 893\n"
     ]
    }
   ],
   "source": [
    "train_data = pd.read_csv('data/train.csv', header=None)\n",
    "test_data = pd.read_csv('data/test.csv', header=None)\n",
    "val_data = train_data.tail(900)\n",
    "train_data = train_data.head(len(train_data)-900)\n",
    "\n",
    "print('Training size:', len(train_data))\n",
    "print('Validation dataset size:', len(val_data))\n",
    "print('Test dataset size:', len(test_data))"
   ]
  },
  {
   "cell_type": "markdown",
   "metadata": {
    "id": "CugYB4oNyFju"
   },
   "source": [
    "---\n",
    "\n",
    " <h1><a name=\"ex-two\"><center> ✏ Exercici 2 ✏</a></h1>\n",
    "\n",
    "Tal com hem introduït abans, per a aquest exercici ens centrarem en la **primera** i la **segona** columna. Per tant, ara us demanem que guardeu en les següents variables, les llistes corresponents a les oracions i a les etiquetes de les tres particions (`train`, `validation` i `test`)."
   ]
  },
  {
   "cell_type": "code",
   "execution_count": 6,
   "metadata": {
    "colab": {
     "base_uri": "https://localhost:8080/",
     "height": 206
    },
    "id": "FOlZYDEiIxvb",
    "outputId": "2246e60a-6518-4ba7-e100-f15004799a1f"
   },
   "outputs": [
    {
     "data": {
      "text/html": [
       "<div>\n",
       "<style scoped>\n",
       "    .dataframe tbody tr th:only-of-type {\n",
       "        vertical-align: middle;\n",
       "    }\n",
       "\n",
       "    .dataframe tbody tr th {\n",
       "        vertical-align: top;\n",
       "    }\n",
       "\n",
       "    .dataframe thead th {\n",
       "        text-align: right;\n",
       "    }\n",
       "</style>\n",
       "<table border=\"1\" class=\"dataframe\">\n",
       "  <thead>\n",
       "    <tr style=\"text-align: right;\">\n",
       "      <th></th>\n",
       "      <th>0</th>\n",
       "      <th>1</th>\n",
       "      <th>2</th>\n",
       "    </tr>\n",
       "  </thead>\n",
       "  <tbody>\n",
       "    <tr>\n",
       "      <th>0</th>\n",
       "      <td>i want to fly from boston at 838 am and arrive...</td>\n",
       "      <td>\"O O O O O B-fromloc.city_name O B-depart_tim...</td>\n",
       "      <td>\"flight\"</td>\n",
       "    </tr>\n",
       "    <tr>\n",
       "      <th>1</th>\n",
       "      <td>what flights are available from pittsburgh to ...</td>\n",
       "      <td>\"O O O O O B-fromloc.city_name O B-toloc.city...</td>\n",
       "      <td>\"flight\"</td>\n",
       "    </tr>\n",
       "    <tr>\n",
       "      <th>2</th>\n",
       "      <td>what is the arrival time in san francisco for ...</td>\n",
       "      <td>\"O O O B-flight_time I-flight_time O B-fromlo...</td>\n",
       "      <td>\"flight_time\"</td>\n",
       "    </tr>\n",
       "    <tr>\n",
       "      <th>3</th>\n",
       "      <td>cheapest airfare from tacoma to orlando</td>\n",
       "      <td>\"B-cost_relative O O B-fromloc.city_name O B-...</td>\n",
       "      <td>\"airfare\"</td>\n",
       "    </tr>\n",
       "    <tr>\n",
       "      <th>4</th>\n",
       "      <td>round trip fares from pittsburgh to philadelph...</td>\n",
       "      <td>\"B-round_trip I-round_trip O O B-fromloc.city...</td>\n",
       "      <td>\"airfare\"</td>\n",
       "    </tr>\n",
       "  </tbody>\n",
       "</table>\n",
       "</div>"
      ],
      "text/plain": [
       "                                                   0  \\\n",
       "0  i want to fly from boston at 838 am and arrive...   \n",
       "1  what flights are available from pittsburgh to ...   \n",
       "2  what is the arrival time in san francisco for ...   \n",
       "3            cheapest airfare from tacoma to orlando   \n",
       "4  round trip fares from pittsburgh to philadelph...   \n",
       "\n",
       "                                                   1               2  \n",
       "0   \"O O O O O B-fromloc.city_name O B-depart_tim...        \"flight\"  \n",
       "1   \"O O O O O B-fromloc.city_name O B-toloc.city...        \"flight\"  \n",
       "2   \"O O O B-flight_time I-flight_time O B-fromlo...   \"flight_time\"  \n",
       "3   \"B-cost_relative O O B-fromloc.city_name O B-...       \"airfare\"  \n",
       "4   \"B-round_trip I-round_trip O O B-fromloc.city...       \"airfare\"  "
      ]
     },
     "execution_count": 6,
     "metadata": {},
     "output_type": "execute_result"
    }
   ],
   "source": [
    "train_data.head()"
   ]
  },
  {
   "cell_type": "code",
   "execution_count": 7,
   "metadata": {
    "id": "edw3mK_Hy-M3"
   },
   "outputs": [],
   "source": [
    "train_sentences = train_data[0].tolist()\n",
    "train_labels = list(s.replace('\"', '') for s in train_data[1])\n",
    "\n",
    "val_sentences = val_data[0].tolist()\n",
    "val_labels = list(s.replace('\"', '') for s in val_data[1])\n",
    "\n",
    "test_sentences = test_data[0].tolist()\n",
    "test_labels = list(s.replace('\"', '') for s in test_data[1])\n"
   ]
  },
  {
   "cell_type": "markdown",
   "metadata": {
    "id": "eKgiGo7UzYDU"
   },
   "source": [
    "---\n",
    "\n",
    "Si tot ha anat bé ja podem analitzar quin aspecte té el format BILOU."
   ]
  },
  {
   "cell_type": "code",
   "execution_count": 8,
   "metadata": {
    "colab": {
     "base_uri": "https://localhost:8080/"
    },
    "id": "lgjKAyCUzp_M",
    "outputId": "51f3b54b-81c3-4938-c9fb-6bdb9523b44c"
   },
   "outputs": [
    {
     "name": "stdout",
     "output_type": "stream",
     "text": [
      "i need a flight tomorrow from columbus to minneapolis\n",
      " O O O O B-depart_date.today_relative O B-fromloc.city_name O B-toloc.city_name\n"
     ]
    }
   ],
   "source": [
    "print(train_sentences[5])\n",
    "print(train_labels[5])"
   ]
  },
  {
   "cell_type": "markdown",
   "metadata": {
    "id": "oWzA_MPL02kk"
   },
   "source": [
    "Aquest hauria de ser el resultat obtingut si executeu la cel·la anterior:\n",
    "\n",
    "```\n",
    "\n",
    "\n",
    "i want to fly from boston at 838 am and arrive in denver at 1110 in the morning\n",
    " \"O O O O O B-fromloc.city_name O B-depart_time.time I-depart_time.time O O O B-toloc.city_name O B-arrive_time.time O O B-arrive_time.period_of_day\"\n",
    "\n",
    "\n",
    "```\n",
    "\n",
    "En aquest exemple, `boston` i `838 am` corresponen a l'entitat \"ciutat de sortida\" i a l'entitat \"hora de sortida\" respectivament (`fromloc.city_name`,`depart_time.time`). `838` correspon al primer token que pertany la entitat `depart_time.time` i `am` al segon de la mateixa entitat. Els tokens com `i` o `want` no pertanyen a cap entitat."
   ]
  },
  {
   "cell_type": "code",
   "execution_count": 9,
   "metadata": {
    "colab": {
     "base_uri": "https://localhost:8080/"
    },
    "id": "7BuHmIx62MUA",
    "outputId": "ca641ffa-571e-4858-c94a-6ddc232e2fa6"
   },
   "outputs": [
    {
     "name": "stdout",
     "output_type": "stream",
     "text": [
      "what flights are available from pittsburgh to baltimore on thursday morning\n",
      " O O O O O B-fromloc.city_name O B-toloc.city_name O B-depart_date.day_name B-depart_time.period_of_day\n"
     ]
    }
   ],
   "source": [
    "print(train_sentences[1])\n",
    "print(train_labels[1])"
   ]
  },
  {
   "cell_type": "markdown",
   "metadata": {
    "id": "tSWlVauS2gll"
   },
   "source": [
    "I aquest hauria de ser el resultat de la cel·la anterior:\n",
    "\n",
    "```\n",
    "what flights are available from pittsburgh to baltimore on thursday morning\n",
    " O O O O O B-fromloc.city_name O B-toloc.city_name O B-depart_date.day_name B-depart_time.period_of_day\n",
    "```\n",
    "\n",
    "En l'anterior exemple, `what`, `flights`, `are`, `available`, `from`, `to` i `on` estan etiquetades com a no pertanyents a cap entitat. I, en canvi, `pittsburgh` pertany a l'entitat d'un sol token anomenada ciutat d'arribada (`toloc.city_name`). També hi ha entitats compostes com `baltimore` que pertany a l'entitat ciutat de sortida (`fromloc.city_name`) i `thursday morning` que pertanyen a les entitats data de sortida (`depart_date.day_name`, `depart_time.period_of_day`)."
   ]
  },
  {
   "cell_type": "markdown",
   "metadata": {
    "id": "0hwZtqaI7rOQ"
   },
   "source": [
    "Vegem-ne la llista completa d'entitats."
   ]
  },
  {
   "cell_type": "code",
   "execution_count": 10,
   "metadata": {
    "colab": {
     "base_uri": "https://localhost:8080/"
    },
    "id": "2VDzOwWk4Ee2",
    "outputId": "0c32c570-148b-4a14-869a-c2cab00106bb"
   },
   "outputs": [
    {
     "name": "stdout",
     "output_type": "stream",
     "text": [
      "Number of different entities: 119\n",
      "Unique entities: ['O', 'B-fromloc.city_name', 'B-depart_time.time', 'I-depart_time.time', 'B-toloc.city_name', 'B-arrive_time.time', 'B-arrive_time.period_of_day', 'B-depart_date.day_name', 'B-depart_time.period_of_day', 'B-flight_time', 'I-flight_time', 'I-fromloc.city_name', 'B-cost_relative', 'B-round_trip', 'I-round_trip', 'B-fare_amount', 'I-fare_amount', 'B-depart_date.today_relative', 'I-toloc.city_name', 'B-city_name', 'B-stoploc.city_name', 'B-toloc.airport_code', 'B-depart_time.time_relative', 'B-class_type', 'I-class_type', 'B-depart_date.date_relative', 'B-airline_name', 'I-airline_name', 'B-arrive_time.time_relative', 'B-depart_time.start_time', 'I-depart_time.start_time', 'B-depart_time.end_time', 'I-depart_time.end_time', 'B-fromloc.airport_name', 'I-fromloc.airport_name', 'B-toloc.state_name', 'B-depart_date.day_number', 'I-depart_date.day_number', 'B-depart_date.month_name', 'B-mod', 'B-fare_basis_code', 'B-transport_type', 'B-flight_mod', 'I-cost_relative', 'B-arrive_date.month_name', 'B-arrive_date.day_number', 'B-meal', 'B-toloc.state_code', 'B-meal_description', 'B-return_date.month_name', 'B-return_date.day_number', 'B-airline_code', 'B-depart_time.period_mod', 'I-arrive_time.time', 'B-flight_stop', 'I-city_name', 'B-fromloc.airport_code', 'B-arrive_date.day_name', 'B-time', 'B-or', 'I-arrive_date.day_number', 'B-economy', 'I-economy', 'B-flight_number', 'B-arrive_time.period_mod', 'I-transport_type', 'B-flight_days', 'I-stoploc.city_name', 'B-toloc.airport_name', 'I-toloc.airport_name', 'B-state_code', 'I-flight_stop', 'B-arrive_time.start_time', 'B-arrive_time.end_time', 'I-arrive_time.end_time', 'B-fromloc.state_name', 'I-fromloc.state_name', 'B-arrive_date.date_relative', 'B-depart_date.year', 'B-return_date.date_relative', 'B-airport_code', 'B-aircraft_code', 'B-fromloc.state_code', 'B-connect', 'I-arrive_time.start_time', 'B-restriction_code', 'I-restriction_code', 'I-toloc.state_name', 'B-airport_name', 'I-airport_name', 'B-toloc.country_name', 'B-days_code', 'I-fare_basis_code', 'I-arrive_time.time_relative', 'I-arrive_time.period_of_day', 'I-depart_time.time_relative', 'B-day_name', 'B-period_of_day', 'I-depart_date.day_name', 'B-today_relative', 'B-stoploc.state_code', 'B-meal_code', 'I-meal_code', 'I-today_relative', 'I-flight_mod', 'B-state_name', 'B-stoploc.airport_name', 'B-arrive_date.today_relative', 'B-time_relative', 'I-time', 'B-return_time.period_of_day', 'I-return_date.day_number', 'I-depart_time.period_of_day', 'B-return_time.period_mod', 'I-depart_date.today_relative', 'I-mod', 'B-month_name', 'B-day_number', 'I-return_date.date_relative']\n"
     ]
    }
   ],
   "source": [
    "from collections import Counter\n",
    "\n",
    "def count_unique_entities(list_of_label_sentences):\n",
    "  flat_labels = []\n",
    "  for labels in list_of_label_sentences:\n",
    "    flat_labels += labels.split()\n",
    "  c = Counter(flat_labels)\n",
    "  return len(c), list(c.keys())\n",
    "\n",
    "num_unique_entities, unique_entities = count_unique_entities(train_labels)\n",
    "\n",
    "print(\"Number of different entities:\", num_unique_entities)\n",
    "\n",
    "print(\"Unique entities:\", unique_entities)"
   ]
  },
  {
   "cell_type": "markdown",
   "metadata": {
    "id": "1wlsgR88_D8g"
   },
   "source": [
    "<h1><a name=\"section-two\"> 2. Preprocessament de dades </a></h1>"
   ]
  },
  {
   "cell_type": "markdown",
   "metadata": {
    "id": "e8yM79_n_OPA"
   },
   "source": [
    "El processament de les dades serà semblant al de la primera part d'aquesta pràctica."
   ]
  },
  {
   "cell_type": "markdown",
   "metadata": {
    "id": "bLrvW1frMus9"
   },
   "source": [
    "---\n",
    "\n",
    " <h1><a name=\"ex-three\"><center> ✏ Exercici 3 ✏</a></h1>\n",
    "\n",
    "En aquest exercici us demanem que realitzeu els passos següents per preparar les dades.\n",
    "\n",
    " 1. El primer pas serà construir el vocabulari a partir de les paraules presents a les oracions d'entrenament.\n",
    "\n",
    "2. El segon pas serà convertir les oracions en seqüències de nombres enters usant el tokenitzador.\n",
    "\n",
    "3. El tercer pas serà guardar la longitud original de cada oració. Això ens serà útil per evaluar el nostre model sense tenir en compte el padding.\n",
    "\n",
    "3. Finalment, per aconseguir que totes les seqüències tinguen la mateixa longitud, fixarem la longitud segons la màxima trobada a l'entrenament i afegirem zeros a les oracions de menor longitud.\n",
    "\n",
    "Recordeu que podeu consultar com fer-ho a la documentació de la llibrería:\n",
    "* <a href=\"https://www.tensorflow.org/api_docs/python/tf/keras/preprocessing/text/Tokenizer\"> Tokenizer </a>\n",
    "* <a href=\"https://www.tensorflow.org/api_docs/python/tf/keras/utils/pad_sequences\"> Pad Sequences </a>\n",
    "\n",
    "\n"
   ]
  },
  {
   "cell_type": "code",
   "execution_count": 11,
   "metadata": {
    "colab": {
     "base_uri": "https://localhost:8080/"
    },
    "id": "e0zOvP3UI_CE",
    "outputId": "6b9485ff-0f95-4545-a775-f6c71a95f785"
   },
   "outputs": [
    {
     "name": "stdout",
     "output_type": "stream",
     "text": [
      "46\n"
     ]
    }
   ],
   "source": [
    "num_words=500\n",
    "tokenizer = Tokenizer()\n",
    "tokenizer.fit_on_texts(train_sentences)\n",
    "\n",
    "train_sequences = tokenizer.texts_to_sequences(train_sentences)\n",
    "len_train_sequences = [len(seq) for seq in train_sequences]\n",
    "max_sequence_length = max(len_train_sequences)\n",
    "print(max_sequence_length)\n",
    "train_pad_sequences = pad_sequences(train_sequences, maxlen=max_sequence_length, padding='post', truncating='post')\n",
    "\n",
    "val_sequences = tokenizer.texts_to_sequences(val_sentences)\n",
    "len_val_sequences = [len(seq) for seq in val_sequences]\n",
    "val_pad_sequences = pad_sequences(val_sequences, maxlen=max_sequence_length, padding='post', truncating='post')\n",
    "\n",
    "test_sequences = tokenizer.texts_to_sequences(test_sentences)\n",
    "len_test_sequences = [len(seq) for seq in test_sequences]\n",
    "test_pad_sequences = pad_sequences(test_sequences, maxlen=max_sequence_length, padding='post', truncating='post')"
   ]
  },
  {
   "cell_type": "code",
   "execution_count": 12,
   "metadata": {
    "colab": {
     "base_uri": "https://localhost:8080/"
    },
    "id": "UQPTc0CyOzLh",
    "outputId": "7a08c6f9-5055-439d-a1d6-aad73214760a"
   },
   "outputs": [
    {
     "data": {
      "text/plain": [
       "array([ 12,  69,   1,  38,   2,   9,  64, 415,  84,  17,  75,  16,  13,\n",
       "        64, 493,  16,   4,  36,   0,   0,   0,   0,   0,   0,   0,   0,\n",
       "         0,   0,   0,   0,   0,   0,   0,   0,   0,   0,   0,   0,   0,\n",
       "         0,   0,   0,   0,   0,   0,   0], dtype=int32)"
      ]
     },
     "execution_count": 12,
     "metadata": {},
     "output_type": "execute_result"
    }
   ],
   "source": [
    "train_pad_sequences[0]"
   ]
  },
  {
   "cell_type": "markdown",
   "metadata": {
    "id": "n55MNuHfMegM"
   },
   "source": [
    "\n",
    "---\n",
    "\n"
   ]
  },
  {
   "cell_type": "markdown",
   "metadata": {
    "id": "1wNo-X61OyRc"
   },
   "source": [
    "Tal com vam fer a la primera part, aquí també hem de convertir les diferents classes d'entitats en vectors one-hot."
   ]
  },
  {
   "cell_type": "markdown",
   "metadata": {
    "id": "pD9_A1RJP1LZ"
   },
   "source": [
    "---\n",
    "\n",
    " <h1><a name=\"ex-four\"><center> ✏ Exercici 4 ✏</a></h1>\n",
    "\n",
    "Per aconseguir-ho haureu de seguir els passos següents.\n",
    "\n",
    " 1. En primer lloc, haureu d'esbrinar quantes etiquetes diferents hi ha. Podeu prendre com a exemple la funció `count_unique_entities` per fer-ho. Tingueu en compte que haureu de modificar la funció, ja que per exemple aquesta funció considera que `B-depart_time.time`, `I-depart_time.time`, `L-depart_time.time`, `U-depart_time.time` són la mateixa entitat. En aquest exercici, necessitarem comptar-les per separat. També l'entitat O ha de ser considerada com una classe.\n",
    "\n",
    " 2. El segon pas serà codificar les diferents classes trobades en etiquetes numèriques. Tingueu en compte que cada paraula de l'oració té una etiqueta i, per tant, per a cada oració tindrem una llista d'etiquetes. El *padding* el codificarem amb l'etiqueta corresponent a **O** (outside). Per ajudar-vos hem preparat el processament per a les etiquetes d'entrenament, intenteu comprendre el que es fa i així repetir-ho per a la partició de validació i test.\n",
    "\n",
    " 3. Finalment, haureu de convertir les diferents classes a vectors one-hot. Recordeu de nou que per a cada oració tindrem una llista de vectors one-hot.\n",
    "\n",
    "\n",
    " Podeu consultar els apartats de la documentació:\n",
    " * <a href=https://www.tensorflow.org/guide/keras/understanding_masking_and_padding> Masking and Padding </a>\n",
    "\n",
    " * <a href=https://www.tensorflow.org/api_docs/python/tf/keras/utils/to_categorical> To Categorical </a>\n",
    "\n"
   ]
  },
  {
   "cell_type": "code",
   "execution_count": 13,
   "metadata": {
    "colab": {
     "base_uri": "https://localhost:8080/"
    },
    "id": "Xl8GyFz4MgY3",
    "outputId": "ee59ee63-449a-4f4d-d28c-53aa6bf56c8c"
   },
   "outputs": [
    {
     "name": "stdout",
     "output_type": "stream",
     "text": [
      "Number of different entities: 119\n",
      "Unique entities: ['O', 'B-fromloc.city_name', 'B-depart_time.time', 'I-depart_time.time', 'B-toloc.city_name', 'B-arrive_time.time', 'B-arrive_time.period_of_day', 'B-depart_date.day_name', 'B-depart_time.period_of_day', 'B-flight_time', 'I-flight_time', 'I-fromloc.city_name', 'B-cost_relative', 'B-round_trip', 'I-round_trip', 'B-fare_amount', 'I-fare_amount', 'B-depart_date.today_relative', 'I-toloc.city_name', 'B-city_name', 'B-stoploc.city_name', 'B-toloc.airport_code', 'B-depart_time.time_relative', 'B-class_type', 'I-class_type', 'B-depart_date.date_relative', 'B-airline_name', 'I-airline_name', 'B-arrive_time.time_relative', 'B-depart_time.start_time', 'I-depart_time.start_time', 'B-depart_time.end_time', 'I-depart_time.end_time', 'B-fromloc.airport_name', 'I-fromloc.airport_name', 'B-toloc.state_name', 'B-depart_date.day_number', 'I-depart_date.day_number', 'B-depart_date.month_name', 'B-mod', 'B-fare_basis_code', 'B-transport_type', 'B-flight_mod', 'I-cost_relative', 'B-arrive_date.month_name', 'B-arrive_date.day_number', 'B-meal', 'B-toloc.state_code', 'B-meal_description', 'B-return_date.month_name', 'B-return_date.day_number', 'B-airline_code', 'B-depart_time.period_mod', 'I-arrive_time.time', 'B-flight_stop', 'I-city_name', 'B-fromloc.airport_code', 'B-arrive_date.day_name', 'B-time', 'B-or', 'I-arrive_date.day_number', 'B-economy', 'I-economy', 'B-flight_number', 'B-arrive_time.period_mod', 'I-transport_type', 'B-flight_days', 'I-stoploc.city_name', 'B-toloc.airport_name', 'I-toloc.airport_name', 'B-state_code', 'I-flight_stop', 'B-arrive_time.start_time', 'B-arrive_time.end_time', 'I-arrive_time.end_time', 'B-fromloc.state_name', 'I-fromloc.state_name', 'B-arrive_date.date_relative', 'B-depart_date.year', 'B-return_date.date_relative', 'B-airport_code', 'B-aircraft_code', 'B-fromloc.state_code', 'B-connect', 'I-arrive_time.start_time', 'B-restriction_code', 'I-restriction_code', 'I-toloc.state_name', 'B-airport_name', 'I-airport_name', 'B-toloc.country_name', 'B-days_code', 'I-fare_basis_code', 'I-arrive_time.time_relative', 'I-arrive_time.period_of_day', 'I-depart_time.time_relative', 'B-day_name', 'B-period_of_day', 'I-depart_date.day_name', 'B-today_relative', 'B-stoploc.state_code', 'B-meal_code', 'I-meal_code', 'I-today_relative', 'I-flight_mod', 'B-state_name', 'B-stoploc.airport_name', 'B-arrive_date.today_relative', 'B-time_relative', 'I-time', 'B-return_time.period_of_day', 'I-return_date.day_number', 'I-depart_time.period_of_day', 'B-return_time.period_mod', 'I-depart_date.today_relative', 'I-mod', 'B-month_name', 'B-day_number', 'I-return_date.date_relative']\n"
     ]
    }
   ],
   "source": [
    "# Step 1: Counting Unique Entities\n",
    "def count_unique_entities(list_of_label_sentences):\n",
    "    flat_labels = []\n",
    "    for labels in list_of_label_sentences:\n",
    "        flat_labels += labels.split()\n",
    "    c = Counter(flat_labels)\n",
    "    unique_entities = list(c.keys())\n",
    "    return len(unique_entities), unique_entities\n",
    "\n",
    "num_unique_entities, unique_entities = count_unique_entities(train_labels)\n",
    "\n",
    "def count_unique_words(list_of_sentences):\n",
    "    flat_sentences = []\n",
    "    for sentences in list_of_sentences:\n",
    "        flat_sentences += sentences.split()\n",
    "    c = Counter(flat_sentences)\n",
    "    unique_words = list(c.keys())\n",
    "    return len(unique_words), unique_words\n",
    "\n",
    "num_unique_words, unique_words_dict = count_unique_words(train_sentences)\n",
    "\n",
    "print(\"Number of different entities:\", num_unique_entities)\n",
    "print(\"Unique entities:\", unique_entities)\n",
    "\n",
    "# Step 2: Label Encoding and Padding\n",
    "# Initialize LabelEncoder and fit on unique_entities\n",
    "label_encoder = LabelEncoder()\n",
    "label_encoder.fit(unique_entities)\n",
    "\n",
    "# Transform train_labels into numerical labels\n",
    "train_labels_split = [labels.split() for labels in train_labels]\n",
    "train_numerical_labels = [label_encoder.transform(labels) for labels in train_labels_split]  # +1 to reserve 0 for padding\n",
    "\n",
    "# Determine the maximum sequence length\n",
    "max_len = train_pad_sequences.shape[1]\n",
    "\n",
    "# Pad the training labels\n",
    "train_pad_labels = pad_sequences(train_numerical_labels, maxlen=max_len, padding='post', value=0)\n",
    "\n",
    "def remove_sentences(list_labels, list_sequences):\n",
    "    idx_to_remove = []\n",
    "    labels_to_remove = []\n",
    "    for idx, labels in enumerate(list_labels):\n",
    "        for label in labels:\n",
    "            if label not in unique_entities:\n",
    "                idx_to_remove.append(idx)\n",
    "                labels_to_remove.append(label)\n",
    "\n",
    "    labels = [elem for i, elem in enumerate(list_labels) if i not in idx_to_remove]\n",
    "    sequences = [elem for i, elem in enumerate(list_sequences) if i not in idx_to_remove]\n",
    "    return labels, np.array(sequences)\n",
    "\n",
    "# Process test data\n",
    "_test_labels = [labels.split() for labels in test_labels]\n",
    "test_labels, test_pad_sequences = remove_sentences(_test_labels, test_pad_sequences)\n",
    "test_numerical_labels = [label_encoder.transform(labels) for labels in test_labels]\n",
    "test_pad_labels = pad_sequences(test_numerical_labels, maxlen=max_len, padding='post', value=0)\n",
    "\n",
    "# Process validation data\n",
    "_val_labels = [labels.split() for labels in val_labels]\n",
    "val_labels, val_pad_sequences = remove_sentences(_val_labels, val_pad_sequences)\n",
    "val_numerical_labels = [label_encoder.transform(labels) for labels in val_labels]\n",
    "val_pad_labels = pad_sequences(val_numerical_labels, maxlen=max_len, padding='post', value=0)\n",
    "\n",
    "# Step 3: One-Hot Encoding\n",
    "# Number of classes (+1 for padding label)\n",
    "num_classes = num_unique_entities + 1  # +1 because we reserved 0 for padding\n",
    "\n",
    "# One-hot encode the training labels\n",
    "train_labels_one_hot = to_categorical(train_pad_labels, num_classes=num_classes)\n",
    "\n",
    "# One-hot encode the test labels\n",
    "test_labels_one_hot = to_categorical(test_pad_labels, num_classes=num_classes)\n",
    "\n",
    "# One-hot encode the validation labels\n",
    "val_labels_one_hot = to_categorical(val_pad_labels, num_classes=num_classes)"
   ]
  },
  {
   "cell_type": "markdown",
   "metadata": {
    "id": "975GjI0tp7_9"
   },
   "source": [
    "<h1><a name=\"section-three\"> 3. Disseny del model i entrenament </a></h1>"
   ]
  },
  {
   "cell_type": "markdown",
   "metadata": {
    "id": "UMY7LjpHv7GZ"
   },
   "source": [
    "---\n",
    "<h1><a name=\"ex-five\"><center> ✏ Exercici 5 ✏</a></h1>\n",
    "\n",
    "De forma similar com féreu a la primera part de la pràctica us demanem que dissenyeu l'arquitectura i entreneu el model. Podeu fer servir una arquitectura similar. Ara bé, per capturar les dependències seqüencials podeu canviar la capa de GlobalMaxPooling1D per una LSTM."
   ]
  },
  {
   "cell_type": "code",
   "execution_count": 14,
   "metadata": {
    "colab": {
     "base_uri": "https://localhost:8080/"
    },
    "id": "O8Ed4x77t_4d",
    "outputId": "1989b920-d1a4-4b9b-9041-6e3c500973c8"
   },
   "outputs": [
    {
     "name": "stdout",
     "output_type": "stream",
     "text": [
      "(187588,) [  0   1   2   3   4   5   6   7   8   9  10  11  12  13  14  15  16  17\n",
      "  18  19  20  21  22  23  24  25  26  27  28  29  30  31  32  33  34  35\n",
      "  36  37  38  39  40  41  42  43  44  45  46  47  48  49  50  51  52  53\n",
      "  54  55  56  57  58  59  60  61  62  63  64  65  66  67  68  69  70  71\n",
      "  72  73  74  75  76  77  78  79  80  81  82  83  84  85  86  87  88  89\n",
      "  90  91  92  93  94  95  96  97  98  99 100 101 102 103 104 105 106 107\n",
      " 108 109 110 111 112 113 114 115 116 117 118]\n"
     ]
    }
   ],
   "source": [
    "s = train_pad_labels.shape\n",
    "train_flat_labels = train_pad_labels.reshape(s[0]*s[1])\n",
    "train_unq_labels = np.unique(train_flat_labels)\n",
    "print(train_flat_labels.shape, train_unq_labels)"
   ]
  },
  {
   "cell_type": "code",
   "execution_count": null,
   "metadata": {
    "colab": {
     "base_uri": "https://localhost:8080/"
    },
    "id": "PcWiSLm3nvdW",
    "outputId": "a7adc89a-53e3-4951-9b5e-3e0827cdd4a0"
   },
   "outputs": [
    {
     "name": "stderr",
     "output_type": "stream",
     "text": [
      "/usr/local/lib/python3.10/dist-packages/keras/src/layers/core/embedding.py:90: UserWarning: Argument `input_length` is deprecated. Just remove it.\n",
      "  warnings.warn(\n"
     ]
    },
    {
     "name": "stdout",
     "output_type": "stream",
     "text": [
      "Epoch 1/10\n",
      "\u001b[1m128/128\u001b[0m \u001b[32m━━━━━━━━━━━━━━━━━━━━\u001b[0m\u001b[37m\u001b[0m \u001b[1m23s\u001b[0m 32ms/step - accuracy: 0.7380 - loss: 1.9164 - val_accuracy: 0.9168 - val_loss: 0.3555\n",
      "Epoch 2/10\n",
      "\u001b[1m128/128\u001b[0m \u001b[32m━━━━━━━━━━━━━━━━━━━━\u001b[0m\u001b[37m\u001b[0m \u001b[1m8s\u001b[0m 16ms/step - accuracy: 0.9350 - loss: 0.2892 - val_accuracy: 0.9542 - val_loss: 0.2231\n",
      "Epoch 3/10\n",
      "\u001b[1m128/128\u001b[0m \u001b[32m━━━━━━━━━━━━━━━━━━━━\u001b[0m\u001b[37m\u001b[0m \u001b[1m2s\u001b[0m 11ms/step - accuracy: 0.9632 - loss: 0.1615 - val_accuracy: 0.9717 - val_loss: 0.1704\n",
      "Epoch 4/10\n",
      "\u001b[1m128/128\u001b[0m \u001b[32m━━━━━━━━━━━━━━━━━━━━\u001b[0m\u001b[37m\u001b[0m \u001b[1m1s\u001b[0m 11ms/step - accuracy: 0.9782 - loss: 0.1008 - val_accuracy: 0.9792 - val_loss: 0.1440\n",
      "Epoch 5/10\n",
      "\u001b[1m128/128\u001b[0m \u001b[32m━━━━━━━━━━━━━━━━━━━━\u001b[0m\u001b[37m\u001b[0m \u001b[1m2s\u001b[0m 16ms/step - accuracy: 0.9850 - loss: 0.0691 - val_accuracy: 0.9828 - val_loss: 0.1319\n",
      "Epoch 6/10\n",
      "\u001b[1m128/128\u001b[0m \u001b[32m━━━━━━━━━━━━━━━━━━━━\u001b[0m\u001b[37m\u001b[0m \u001b[1m2s\u001b[0m 14ms/step - accuracy: 0.9888 - loss: 0.0515 - val_accuracy: 0.9845 - val_loss: 0.1247\n",
      "Epoch 7/10\n",
      "\u001b[1m128/128\u001b[0m \u001b[32m━━━━━━━━━━━━━━━━━━━━\u001b[0m\u001b[37m\u001b[0m \u001b[1m1s\u001b[0m 11ms/step - accuracy: 0.9911 - loss: 0.0404 - val_accuracy: 0.9862 - val_loss: 0.1203\n",
      "Epoch 8/10\n",
      "\u001b[1m128/128\u001b[0m \u001b[32m━━━━━━━━━━━━━━━━━━━━\u001b[0m\u001b[37m\u001b[0m \u001b[1m1s\u001b[0m 11ms/step - accuracy: 0.9929 - loss: 0.0330 - val_accuracy: 0.9873 - val_loss: 0.1176\n",
      "Epoch 9/10\n",
      "\u001b[1m128/128\u001b[0m \u001b[32m━━━━━━━━━━━━━━━━━━━━\u001b[0m\u001b[37m\u001b[0m \u001b[1m1s\u001b[0m 11ms/step - accuracy: 0.9940 - loss: 0.0277 - val_accuracy: 0.9877 - val_loss: 0.1160\n",
      "Epoch 10/10\n",
      "\u001b[1m128/128\u001b[0m \u001b[32m━━━━━━━━━━━━━━━━━━━━\u001b[0m\u001b[37m\u001b[0m \u001b[1m1s\u001b[0m 11ms/step - accuracy: 0.9950 - loss: 0.0233 - val_accuracy: 0.9882 - val_loss: 0.1143\n",
      "\u001b[1m29/29\u001b[0m \u001b[32m━━━━━━━━━━━━━━━━━━━━\u001b[0m\u001b[37m\u001b[0m \u001b[1m0s\u001b[0m 4ms/step - accuracy: 0.9893 - loss: 0.1012\n",
      "\u001b[1m28/28\u001b[0m \u001b[32m━━━━━━━━━━━━━━━━━━━━\u001b[0m\u001b[37m\u001b[0m \u001b[1m0s\u001b[0m 5ms/step - accuracy: 0.9871 - loss: 0.1043\n",
      "\u001b[1m29/29\u001b[0m \u001b[32m━━━━━━━━━━━━━━━━━━━━\u001b[0m\u001b[37m\u001b[0m \u001b[1m1s\u001b[0m 18ms/step\n",
      "\u001b[1m28/28\u001b[0m \u001b[32m━━━━━━━━━━━━━━━━━━━━\u001b[0m\u001b[37m\u001b[0m \u001b[1m0s\u001b[0m 4ms/step\n",
      "Validation accuracy: 0.99\n",
      "Test accuracy: 0.99\n",
      "F1-score on validation set: 0.65\n",
      "F1-score on test set: 0.55\n"
     ]
    }
   ],
   "source": [
    "from tensorflow.keras.layers import Embedding, LSTM, Dense, TimeDistributed\n",
    "from sklearn.metrics import f1_score\n",
    "import random\n",
    "\n",
    "random.seed(42)\n",
    "np.random.seed(42)\n",
    "tf.random.set_seed(42)\n",
    "\n",
    "embedding_dim = 100\n",
    "#num_words = 1000\n",
    "vocab_size = len(unique_words_dict) + 1\n",
    "\n",
    "model = Sequential()\n",
    "\n",
    "# 1. Capa embedding\n",
    "model.add(Embedding(input_dim=vocab_size, output_dim=embedding_dim, input_length=max_sequence_length))\n",
    "\n",
    "# 2. Capa de pooling\n",
    "model.add(LSTM(128, return_sequences=True))\n",
    "\n",
    "# 3. Capa densa\n",
    "model.add(Dense(64, activation='relu'))\n",
    "\n",
    "# 4. Capa final\n",
    "model.add(TimeDistributed(Dense(num_classes, activation='softmax')))\n",
    "\n",
    "\n",
    "# Compile the model\n",
    "model.compile(optimizer='adam', loss='categorical_crossentropy', metrics=['accuracy'])\n",
    "\n",
    "# Train the model\n",
    "batch_size = 32\n",
    "epochs = 10\n",
    "model.fit(train_pad_sequences, train_labels_one_hot, batch_size=batch_size, epochs=epochs, validation_data=(val_pad_sequences, val_labels_one_hot))\n",
    "\n",
    "# Evaluate the model on the test set\n",
    "loss_val, accuracy_val = model.evaluate(val_pad_sequences, val_labels_one_hot, batch_size=batch_size)\n",
    "loss_test, accuracy_test = model.evaluate(test_pad_sequences, test_labels_one_hot, batch_size=batch_size)\n",
    "\n",
    "# F1-SCORE\n",
    "val_true_labels = np.argmax(val_labels_one_hot, axis=2).flatten()\n",
    "test_true_labels = np.argmax(test_labels_one_hot, axis=2).flatten()\n",
    "\n",
    "val_predictions = model.predict(val_pad_sequences, batch_size=32)\n",
    "test_predictions = model.predict(test_pad_sequences, batch_size=32)\n",
    "\n",
    "val_predicted_labels = np.argmax(val_predictions, axis=2).flatten()\n",
    "test_predicted_labels = np.argmax(test_predictions, axis=2).flatten()\n",
    "\n",
    "f1_score_val = f1_score(val_true_labels, val_predicted_labels, average='macro')\n",
    "f1_score_test = f1_score(test_true_labels, test_predicted_labels, average='macro')\n",
    "\n",
    "print(f\"Validation accuracy: {accuracy_val:.2f}\")\n",
    "print(f\"Test accuracy: {accuracy_test:.2f}\")\n",
    "print(f\"F1-score on validation set: {f1_score_val:.2f}\")\n",
    "print(f\"F1-score on test set: {f1_score_test:.2f}\")"
   ]
  },
  {
   "cell_type": "code",
   "execution_count": null,
   "metadata": {
    "id": "XMPaZzX4sdH4"
   },
   "outputs": [],
   "source": [
    "class TransformerBlock(keras.layers.Layer):\n",
    "    def __init__(self, embed_dim, num_heads, ff_dim, rate=0.1):\n",
    "        super().__init__()\n",
    "        self.att = keras.layers.MultiHeadAttention(\n",
    "            num_heads=num_heads, key_dim=embed_dim\n",
    "        )\n",
    "        self.ffn = keras.Sequential(\n",
    "            [\n",
    "                keras.layers.Dense(ff_dim, activation=\"relu\"),\n",
    "                keras.layers.Dense(embed_dim),\n",
    "            ]\n",
    "        )\n",
    "        self.layernorm1 = keras.layers.LayerNormalization(epsilon=1e-6)\n",
    "        self.layernorm2 = keras.layers.LayerNormalization(epsilon=1e-6)\n",
    "        self.dropout1 = keras.layers.Dropout(rate)\n",
    "        self.dropout2 = keras.layers.Dropout(rate)\n",
    "\n",
    "    def call(self, inputs, training=False):\n",
    "        attn_output = self.att(inputs, inputs)\n",
    "        attn_output = self.dropout1(attn_output, training=training)\n",
    "        out1 = self.layernorm1(inputs + attn_output)\n",
    "        ffn_output = self.ffn(out1)\n",
    "        ffn_output = self.dropout2(ffn_output, training=training)\n",
    "        return self.layernorm2(out1 + ffn_output)\n",
    "\n",
    "\n",
    "class TokenAndPositionEmbedding(keras.layers.Layer):\n",
    "    def __init__(self, maxlen, vocab_size, embed_dim):\n",
    "        super().__init__()\n",
    "        self.token_emb = keras.layers.Embedding(\n",
    "            input_dim=vocab_size, output_dim=embed_dim\n",
    "        )\n",
    "        self.pos_emb = keras.layers.Embedding(input_dim=maxlen, output_dim=embed_dim)\n",
    "\n",
    "    def call(self, inputs):\n",
    "        maxlen = tf.shape(inputs)[-1]\n",
    "        positions = tf.range(start=0, limit=maxlen, delta=1)\n",
    "        position_embeddings = self.pos_emb(positions)\n",
    "        token_embeddings = self.token_emb(inputs)\n",
    "        return token_embeddings + position_embeddings"
   ]
  },
  {
   "cell_type": "code",
   "execution_count": null,
   "metadata": {
    "colab": {
     "base_uri": "https://localhost:8080/"
    },
    "id": "-ts_03xMaADp",
    "outputId": "f45d349c-ff1a-42de-b531-d014ec7950a9"
   },
   "outputs": [
    {
     "name": "stdout",
     "output_type": "stream",
     "text": [
      "\u001b[1m28/28\u001b[0m \u001b[32m━━━━━━━━━━━━━━━━━━━━\u001b[0m\u001b[37m\u001b[0m \u001b[1m0s\u001b[0m 4ms/step\n"
     ]
    }
   ],
   "source": [
    "preds = model.predict(test_pad_sequences)"
   ]
  },
  {
   "cell_type": "code",
   "execution_count": null,
   "metadata": {
    "colab": {
     "base_uri": "https://localhost:8080/"
    },
    "id": "4cP_IiZFmFK8",
    "outputId": "5d2eec44-d90e-4673-8887-4191cb0cb6b6"
   },
   "outputs": [
    {
     "data": {
      "text/plain": [
       "(885, 46, 120)"
      ]
     },
     "execution_count": 19,
     "metadata": {},
     "output_type": "execute_result"
    }
   ],
   "source": [
    "preds.shape"
   ]
  },
  {
   "cell_type": "code",
   "execution_count": null,
   "metadata": {
    "id": "nxFoy2UBktFS"
   },
   "outputs": [],
   "source": [
    "def preds_to_index(preds, seq_lens):\n",
    "  '''\n",
    "  Turn predictions to numerical indexes, flatten the sentences and discard padding.\n",
    "  '''\n",
    "  idx_preds = []\n",
    "  for pred, seq_len in zip(preds,seq_lens):\n",
    "      for l in range(seq_len):\n",
    "        idx_preds.append(np.argmax(pred[l]))\n",
    "  return idx_preds"
   ]
  },
  {
   "cell_type": "markdown",
   "metadata": {
    "id": "LeVIzSA4NYgD"
   },
   "source": [
    "Com ja sabeu, NER es una tasca on les dades estan molt desbalancejades. La gran majoria de les nostres etiquetes serán 'O' (outside). Es pot donar el cas on el model tingui una accuracy molt alta predint sempre 'O'.\n",
    "\n",
    "Per mesurar millor com de bó és el nostre model, calcularem la F1 score per cada classe, així com la mitjana (macro average). Quan prepareu el vostre document, heu de reportar aquesta mitjana com a mètrica del vostre model, no l'acuracy."
   ]
  },
  {
   "cell_type": "code",
   "execution_count": null,
   "metadata": {
    "colab": {
     "base_uri": "https://localhost:8080/"
    },
    "id": "f4DL7Tota13v",
    "outputId": "37697334-e3b7-4e70-af83-6204fba418a8"
   },
   "outputs": [
    {
     "name": "stdout",
     "output_type": "stream",
     "text": [
      "              precision    recall  f1-score   support\n",
      "\n",
      "           0       0.98      1.00      0.99      1573\n",
      "           1       0.92      0.41      0.57        29\n",
      "           2       0.83      0.96      0.89        79\n",
      "           3       1.00      0.00      0.00         8\n",
      "           4       1.00      0.11      0.20        18\n",
      "           5       1.00      0.00      0.00         1\n",
      "           6       0.75      0.86      0.80         7\n",
      "           7       0.50      0.33      0.40         3\n",
      "           8       0.50      0.67      0.57         3\n",
      "          12       0.67      1.00      0.80         2\n",
      "          13       1.00      0.00      0.00         3\n",
      "          14       0.79      0.85      0.81        13\n",
      "          15       0.69      0.79      0.73        14\n",
      "          16       0.64      0.53      0.58        43\n",
      "          17       0.96      0.92      0.94        24\n",
      "          18       1.00      0.00      0.00         6\n",
      "          19       0.92      1.00      0.96        33\n",
      "          20       1.00      0.00      0.00         2\n",
      "          23       1.00      0.80      0.89        10\n",
      "          24       0.95      0.98      0.96       140\n",
      "          25       0.94      0.97      0.96        33\n",
      "          26       0.98      0.98      0.98        41\n",
      "          27       0.50      0.83      0.62         6\n",
      "          29       1.00      0.00      0.00         3\n",
      "          30       1.00      0.00      0.00         1\n",
      "          31       0.98      0.93      0.95        85\n",
      "          32       0.43      1.00      0.60         3\n",
      "          33       0.69      0.95      0.80        19\n",
      "          34       1.00      0.84      0.92        32\n",
      "          35       1.00      0.00      0.00         5\n",
      "          37       1.00      0.71      0.83        14\n",
      "          38       1.00      1.00      1.00         7\n",
      "          39       0.95      0.86      0.90        22\n",
      "          40       1.00      0.17      0.29         6\n",
      "          41       0.89      1.00      0.94        17\n",
      "          42       0.00      0.00      0.00         1\n",
      "          43       1.00      0.00      0.00         3\n",
      "          44       0.25      0.12      0.17         8\n",
      "          45       0.92      0.99      0.95       613\n",
      "          46       1.00      1.00      1.00        18\n",
      "          47       1.00      0.75      0.86        12\n",
      "          48       0.91      0.91      0.91        11\n",
      "          49       1.00      0.00      0.00         1\n",
      "          50       0.67      0.40      0.50         5\n",
      "          51       0.00      0.00      0.00         1\n",
      "          53       0.00      1.00      0.00         0\n",
      "          54       1.00      0.00      0.00         3\n",
      "          55       1.00      0.00      0.00         4\n",
      "          61       0.97      0.98      0.98        62\n",
      "          62       1.00      1.00      1.00         1\n",
      "          63       1.00      0.00      0.00         7\n",
      "          65       1.00      0.86      0.92         7\n",
      "          70       0.50      0.50      0.50         2\n",
      "          71       1.00      0.00      0.00         3\n",
      "          72       0.98      0.98      0.98       519\n",
      "          74       1.00      1.00      1.00        12\n",
      "          75       0.73      0.85      0.79        13\n",
      "          76       1.00      0.80      0.89        10\n",
      "          77       0.94      0.94      0.94        52\n",
      "          78       0.82      0.41      0.55        22\n",
      "          83       1.00      0.89      0.94         9\n",
      "          85       0.69      0.48      0.56        23\n",
      "          86       1.00      1.00      1.00        16\n",
      "          87       1.00      1.00      1.00         2\n",
      "          89       1.00      1.00      1.00         6\n",
      "          91       1.00      0.00      0.00         3\n",
      "          93       1.00      1.00      1.00         1\n",
      "          94       0.63      0.86      0.73        14\n",
      "          95       1.00      0.00      0.00         1\n",
      "          99       1.00      0.00      0.00         6\n",
      "         101       1.00      1.00      1.00         1\n",
      "         102       0.29      0.62      0.40         8\n",
      "         103       0.91      0.83      0.86       143\n",
      "         107       1.00      0.67      0.80         3\n",
      "         110       1.00      1.00      1.00        58\n",
      "         111       1.00      1.00      1.00         4\n",
      "         114       0.50      0.33      0.40         3\n",
      "         115       0.95      0.99      0.97       147\n",
      "         116       1.00      1.00      1.00         1\n",
      "         117       1.00      0.00      0.00         1\n",
      "         118       0.99      0.99      0.99      4865\n",
      "\n",
      "    accuracy                           0.97      9010\n",
      "   macro avg       0.85      0.61      0.60      9010\n",
      "weighted avg       0.97      0.97      0.96      9010\n",
      "\n"
     ]
    }
   ],
   "source": [
    "test_labels_idx = preds_to_index(test_labels_one_hot,len_test_sequences)\n",
    "preds_idx = preds_to_index(preds, len_test_sequences)\n",
    "\n",
    "print(classification_report(test_labels_idx, preds_idx, zero_division=1.0))"
   ]
  },
  {
   "cell_type": "markdown",
   "metadata": {
    "id": "VArxTPJgEaTx"
   },
   "source": [
    "A continuació podeu veure algunes prediccions del model."
   ]
  },
  {
   "cell_type": "code",
   "execution_count": null,
   "metadata": {
    "colab": {
     "base_uri": "https://localhost:8080/"
    },
    "id": "_S4H2EqYmiqs",
    "outputId": "3bf1a5f6-ac1a-436a-bbe3-93af9bf4b76b"
   },
   "outputs": [
    {
     "name": "stdout",
     "output_type": "stream",
     "text": [
      "\u001b[1m28/28\u001b[0m \u001b[32m━━━━━━━━━━━━━━━━━━━━\u001b[0m\u001b[37m\u001b[0m \u001b[1m0s\u001b[0m 6ms/step\n",
      "Sentence:  i would like to find a flight from charlotte to las vegas that makes a stop in st. louis\n",
      "Original label:  ['O', 'O', 'O', 'O', 'O', 'O', 'O', 'O', 'B-fromloc.city_name', 'O', 'B-toloc.city_name', 'I-toloc.city_name', 'O', 'O', 'O', 'O', 'O', 'B-stoploc.city_name', 'I-stoploc.city_name']\n",
      "Predicted label:  ['O', 'O', 'O', 'O', 'O', 'O', 'O', 'O', 'B-fromloc.city_name', 'O', 'B-toloc.city_name', 'I-toloc.city_name', 'O', 'O', 'O', 'O', 'O', 'B-stoploc.city_name', 'I-stoploc.city_name', 'B-aircraft_code', 'B-aircraft_code', 'B-aircraft_code', 'B-aircraft_code', 'B-aircraft_code', 'B-aircraft_code', 'B-aircraft_code', 'B-aircraft_code', 'B-aircraft_code', 'B-aircraft_code', 'B-aircraft_code', 'B-aircraft_code', 'B-aircraft_code', 'B-aircraft_code', 'B-aircraft_code', 'B-aircraft_code', 'B-aircraft_code', 'B-aircraft_code', 'B-aircraft_code', 'B-aircraft_code', 'B-aircraft_code', 'B-aircraft_code', 'B-aircraft_code', 'B-aircraft_code', 'B-aircraft_code', 'B-aircraft_code', 'B-aircraft_code']\n",
      "\n",
      "Sentence:  on april first i need a ticket from tacoma to san jose departing before 7 am\n",
      "Original label:  ['O', 'B-depart_date.month_name', 'B-depart_date.day_number', 'O', 'O', 'O', 'O', 'O', 'B-fromloc.city_name', 'O', 'B-toloc.city_name', 'I-toloc.city_name', 'O', 'B-depart_time.time_relative', 'B-depart_time.time', 'I-depart_time.time']\n",
      "Predicted label:  ['O', 'B-depart_date.month_name', 'B-depart_date.day_number', 'O', 'O', 'O', 'O', 'O', 'B-fromloc.city_name', 'O', 'B-toloc.city_name', 'I-toloc.city_name', 'O', 'B-depart_time.time_relative', 'B-depart_time.time', 'I-depart_time.time', 'B-aircraft_code', 'B-aircraft_code', 'B-aircraft_code', 'B-aircraft_code', 'B-aircraft_code', 'B-aircraft_code', 'B-aircraft_code', 'B-aircraft_code', 'B-aircraft_code', 'B-aircraft_code', 'B-aircraft_code', 'B-aircraft_code', 'B-aircraft_code', 'B-aircraft_code', 'B-aircraft_code', 'B-aircraft_code', 'B-aircraft_code', 'B-aircraft_code', 'B-aircraft_code', 'B-aircraft_code', 'B-aircraft_code', 'B-aircraft_code', 'B-aircraft_code', 'B-aircraft_code', 'B-aircraft_code', 'B-aircraft_code', 'B-aircraft_code', 'B-aircraft_code', 'B-aircraft_code', 'B-aircraft_code']\n",
      "\n",
      "Sentence:  on april first i need a flight going from phoenix to san diego\n",
      "Original label:  ['O', 'B-depart_date.month_name', 'B-depart_date.day_number', 'O', 'O', 'O', 'O', 'O', 'O', 'B-fromloc.city_name', 'O', 'B-toloc.city_name', 'I-toloc.city_name']\n",
      "Predicted label:  ['O', 'B-depart_date.month_name', 'B-depart_date.day_number', 'O', 'O', 'O', 'O', 'O', 'O', 'B-fromloc.city_name', 'O', 'B-toloc.city_name', 'I-toloc.city_name', 'B-aircraft_code', 'B-aircraft_code', 'B-aircraft_code', 'B-aircraft_code', 'B-aircraft_code', 'B-aircraft_code', 'B-aircraft_code', 'B-aircraft_code', 'B-aircraft_code', 'B-aircraft_code', 'B-aircraft_code', 'B-aircraft_code', 'B-aircraft_code', 'B-aircraft_code', 'B-aircraft_code', 'B-aircraft_code', 'B-aircraft_code', 'B-aircraft_code', 'B-aircraft_code', 'B-aircraft_code', 'B-aircraft_code', 'B-aircraft_code', 'B-aircraft_code', 'B-aircraft_code', 'B-aircraft_code', 'B-aircraft_code', 'B-aircraft_code', 'B-aircraft_code', 'B-aircraft_code', 'B-aircraft_code', 'B-aircraft_code', 'B-aircraft_code', 'B-aircraft_code']\n",
      "\n",
      "Sentence:  i would like a flight traveling one way from phoenix to san diego on april first\n",
      "Original label:  ['O', 'O', 'O', 'O', 'O', 'O', 'B-round_trip', 'I-round_trip', 'O', 'B-fromloc.city_name', 'O', 'B-toloc.city_name', 'I-toloc.city_name', 'O', 'B-depart_date.month_name', 'B-depart_date.day_number']\n",
      "Predicted label:  ['O', 'O', 'O', 'O', 'O', 'O', 'B-round_trip', 'I-round_trip', 'O', 'B-fromloc.city_name', 'O', 'B-toloc.city_name', 'I-toloc.city_name', 'O', 'B-depart_date.month_name', 'B-depart_date.day_number', 'B-aircraft_code', 'B-aircraft_code', 'B-aircraft_code', 'B-aircraft_code', 'B-aircraft_code', 'B-aircraft_code', 'B-aircraft_code', 'B-aircraft_code', 'B-aircraft_code', 'B-aircraft_code', 'B-aircraft_code', 'B-aircraft_code', 'B-aircraft_code', 'B-aircraft_code', 'B-aircraft_code', 'B-aircraft_code', 'B-aircraft_code', 'B-aircraft_code', 'B-aircraft_code', 'B-aircraft_code', 'B-aircraft_code', 'B-aircraft_code', 'B-aircraft_code', 'B-aircraft_code', 'B-aircraft_code', 'B-aircraft_code', 'B-aircraft_code', 'B-aircraft_code', 'B-aircraft_code', 'B-aircraft_code']\n",
      "\n",
      "Sentence:  i would like a flight from orlando to salt lake city for april first on delta airlines\n",
      "Original label:  ['O', 'O', 'O', 'O', 'O', 'O', 'B-fromloc.city_name', 'O', 'B-toloc.city_name', 'I-toloc.city_name', 'I-toloc.city_name', 'O', 'B-depart_date.month_name', 'B-depart_date.day_number', 'O', 'B-airline_name', 'I-airline_name']\n",
      "Predicted label:  ['O', 'O', 'O', 'O', 'O', 'O', 'B-fromloc.city_name', 'O', 'B-toloc.city_name', 'I-toloc.city_name', 'I-toloc.city_name', 'O', 'B-depart_date.month_name', 'B-depart_date.day_number', 'O', 'B-airline_name', 'I-airline_name', 'B-aircraft_code', 'B-aircraft_code', 'B-aircraft_code', 'B-aircraft_code', 'B-aircraft_code', 'B-aircraft_code', 'B-aircraft_code', 'B-aircraft_code', 'B-aircraft_code', 'B-aircraft_code', 'B-aircraft_code', 'B-aircraft_code', 'B-aircraft_code', 'B-aircraft_code', 'B-aircraft_code', 'B-aircraft_code', 'B-aircraft_code', 'B-aircraft_code', 'B-aircraft_code', 'B-aircraft_code', 'B-aircraft_code', 'B-aircraft_code', 'B-aircraft_code', 'B-aircraft_code', 'B-aircraft_code', 'B-aircraft_code', 'B-aircraft_code', 'B-aircraft_code', 'B-aircraft_code']\n",
      "\n",
      "Sentence:  i need a flight from toronto to newark one way leaving wednesday evening or thursday morning\n",
      "Original label:  ['O', 'O', 'O', 'O', 'O', 'B-fromloc.city_name', 'O', 'B-toloc.city_name', 'B-round_trip', 'I-round_trip', 'O', 'B-depart_date.day_name', 'B-depart_time.period_of_day', 'O', 'B-depart_date.day_name', 'B-depart_time.period_of_day']\n",
      "Predicted label:  ['O', 'O', 'O', 'O', 'O', 'B-fromloc.city_name', 'O', 'B-toloc.city_name', 'B-round_trip', 'I-round_trip', 'O', 'B-depart_date.day_name', 'B-depart_time.period_of_day', 'B-or', 'B-depart_date.day_name', 'B-depart_time.period_of_day', 'B-aircraft_code', 'B-aircraft_code', 'B-aircraft_code', 'B-aircraft_code', 'B-aircraft_code', 'B-aircraft_code', 'B-aircraft_code', 'B-aircraft_code', 'B-aircraft_code', 'B-aircraft_code', 'B-aircraft_code', 'B-aircraft_code', 'B-aircraft_code', 'B-aircraft_code', 'B-aircraft_code', 'B-aircraft_code', 'B-aircraft_code', 'B-aircraft_code', 'B-aircraft_code', 'B-aircraft_code', 'B-aircraft_code', 'B-aircraft_code', 'B-aircraft_code', 'B-aircraft_code', 'B-aircraft_code', 'B-aircraft_code', 'B-aircraft_code', 'B-aircraft_code', 'B-aircraft_code', 'B-aircraft_code']\n",
      "\n",
      "Sentence:  monday morning i would like to fly from columbus to indianapolis\n",
      "Original label:  ['B-depart_date.day_name', 'B-depart_time.period_of_day', 'O', 'O', 'O', 'O', 'O', 'O', 'B-fromloc.city_name', 'O', 'B-toloc.city_name']\n",
      "Predicted label:  ['B-depart_date.day_name', 'B-depart_date.day_name', 'O', 'O', 'O', 'O', 'O', 'O', 'B-fromloc.city_name', 'O', 'B-toloc.city_name', 'B-aircraft_code', 'B-aircraft_code', 'B-aircraft_code', 'B-aircraft_code', 'B-aircraft_code', 'B-aircraft_code', 'B-aircraft_code', 'B-aircraft_code', 'B-aircraft_code', 'B-aircraft_code', 'B-aircraft_code', 'B-aircraft_code', 'B-aircraft_code', 'B-aircraft_code', 'B-aircraft_code', 'B-aircraft_code', 'B-aircraft_code', 'B-aircraft_code', 'B-aircraft_code', 'B-aircraft_code', 'B-aircraft_code', 'B-aircraft_code', 'B-aircraft_code', 'B-aircraft_code', 'B-aircraft_code', 'B-aircraft_code', 'B-aircraft_code', 'B-aircraft_code', 'B-aircraft_code', 'B-aircraft_code', 'B-aircraft_code', 'B-aircraft_code', 'B-aircraft_code', 'B-aircraft_code', 'B-aircraft_code']\n",
      "\n",
      "Sentence:  on wednesday april sixth i would like to fly from long beach to columbus after 3 pm\n",
      "Original label:  ['O', 'B-depart_date.day_name', 'B-depart_date.month_name', 'B-depart_date.day_number', 'O', 'O', 'O', 'O', 'O', 'O', 'B-fromloc.city_name', 'I-fromloc.city_name', 'O', 'B-toloc.city_name', 'B-depart_time.time_relative', 'B-depart_time.time', 'I-depart_time.time']\n",
      "Predicted label:  ['O', 'B-depart_date.day_name', 'B-depart_date.month_name', 'B-depart_date.day_number', 'O', 'O', 'O', 'O', 'O', 'O', 'B-fromloc.city_name', 'I-fromloc.city_name', 'O', 'B-toloc.city_name', 'B-depart_time.time_relative', 'B-depart_time.time', 'I-depart_time.time', 'B-aircraft_code', 'B-aircraft_code', 'B-aircraft_code', 'B-aircraft_code', 'B-aircraft_code', 'B-aircraft_code', 'B-aircraft_code', 'B-aircraft_code', 'B-aircraft_code', 'B-aircraft_code', 'B-aircraft_code', 'B-aircraft_code', 'B-aircraft_code', 'B-aircraft_code', 'B-aircraft_code', 'B-aircraft_code', 'B-aircraft_code', 'B-aircraft_code', 'B-aircraft_code', 'B-aircraft_code', 'B-aircraft_code', 'B-aircraft_code', 'B-aircraft_code', 'B-aircraft_code', 'B-aircraft_code', 'B-aircraft_code', 'B-aircraft_code', 'B-aircraft_code', 'B-aircraft_code']\n",
      "\n",
      "Sentence:  after 12 pm on wednesday april sixth i would like to fly from long beach to columbus\n",
      "Original label:  ['B-depart_time.time_relative', 'B-depart_time.time', 'I-depart_time.time', 'O', 'B-depart_date.day_name', 'B-depart_date.month_name', 'B-depart_date.day_number', 'O', 'O', 'O', 'O', 'O', 'O', 'B-fromloc.city_name', 'I-fromloc.city_name', 'O', 'B-toloc.city_name']\n",
      "Predicted label:  ['B-fromloc.city_name', 'B-depart_time.time', 'B-depart_time.time', 'O', 'B-depart_date.day_name', 'B-depart_date.month_name', 'B-depart_date.day_number', 'O', 'O', 'O', 'O', 'O', 'O', 'B-fromloc.city_name', 'I-fromloc.city_name', 'O', 'B-toloc.city_name', 'B-aircraft_code', 'B-aircraft_code', 'B-aircraft_code', 'B-aircraft_code', 'B-aircraft_code', 'B-aircraft_code', 'B-aircraft_code', 'B-aircraft_code', 'B-aircraft_code', 'B-aircraft_code', 'B-aircraft_code', 'B-aircraft_code', 'B-aircraft_code', 'B-aircraft_code', 'B-aircraft_code', 'B-aircraft_code', 'B-aircraft_code', 'B-aircraft_code', 'B-aircraft_code', 'B-aircraft_code', 'B-aircraft_code', 'B-aircraft_code', 'B-aircraft_code', 'B-aircraft_code', 'B-aircraft_code', 'B-aircraft_code', 'B-aircraft_code', 'B-aircraft_code', 'B-aircraft_code']\n",
      "\n",
      "Sentence:  are there any flights from long beach to columbus on wednesday april sixth\n",
      "Original label:  ['O', 'O', 'O', 'O', 'O', 'B-fromloc.city_name', 'I-fromloc.city_name', 'O', 'B-toloc.city_name', 'O', 'B-depart_date.day_name', 'B-depart_date.month_name', 'B-depart_date.day_number']\n",
      "Predicted label:  ['O', 'O', 'O', 'O', 'O', 'B-fromloc.city_name', 'I-fromloc.city_name', 'O', 'B-toloc.city_name', 'O', 'B-depart_date.day_name', 'B-depart_date.month_name', 'B-depart_date.day_number', 'B-aircraft_code', 'B-aircraft_code', 'B-aircraft_code', 'B-aircraft_code', 'B-aircraft_code', 'B-aircraft_code', 'B-aircraft_code', 'B-aircraft_code', 'B-aircraft_code', 'B-aircraft_code', 'B-aircraft_code', 'B-aircraft_code', 'B-aircraft_code', 'B-aircraft_code', 'B-aircraft_code', 'B-aircraft_code', 'B-aircraft_code', 'B-aircraft_code', 'B-aircraft_code', 'B-aircraft_code', 'B-aircraft_code', 'B-aircraft_code', 'B-aircraft_code', 'B-aircraft_code', 'B-aircraft_code', 'B-aircraft_code', 'B-aircraft_code', 'B-aircraft_code', 'B-aircraft_code', 'B-aircraft_code', 'B-aircraft_code', 'B-aircraft_code', 'B-aircraft_code']\n",
      "\n"
     ]
    }
   ],
   "source": [
    "probs = model.predict(test_pad_sequences)\n",
    "_predicted_labels = np.argmax(probs, axis=2)\n",
    "\n",
    "predicted_labels = [list(label_encoder.inverse_transform(label)) for label in _predicted_labels]\n",
    "\n",
    "for i in range(0, 10):\n",
    "    print('Sentence: ', test_sentences[i])\n",
    "    print('Original label: ', test_labels[i])\n",
    "    print('Predicted label: ', predicted_labels[i])\n",
    "    print()"
   ]
  },
  {
   "cell_type": "markdown",
   "metadata": {
    "id": "65EQLymROmPX"
   },
   "source": [
    "---\n",
    "\n",
    " <h1><a name=\"ex-six\"><center> ✏ Exercici 6 ✏ </a></h1>\n",
    "\n",
    "Modifiqueu els següents paràmetres del model anterior i analitzeu com afecten a la seva *accuracy*:\n",
    "\n",
    " 1. **Mida dels Embeddings.** Proveu diferents mides d'*Embeddings* i observeu com canvia l'*accuracy* del model. Heu d'explicar les vostres conclusions.\n",
    "\n",
    " 2. **Xarxes Convolucionals.** Afegiu capes convolucionals al vostre model. Expliqueu amb detall els valors que heu provat i la vostra motivació a l'hora d'escollir-los. Recordeu, que també podeu provar diferents configuracions de *pooling*.\n",
    "\n",
    " 3. **Xarxes Recurrents.**  Afegiu capes recurrents al vostre model (LSTM, GRU). Expliqueu amb detall els valors que heu provat i la vostra motivació.\n",
    "\n",
    " 4. **Transformer.** Afegiu blocs de Transformer al vostre model. Expliqueu amb detall els valors que heu provat i la vostra motivació.\n",
    "\n",
    " 5. **Regularització.** Quan proveu configuracions amb més paràmetres veureu que el model comença a tenir *overfitting* molt prompte durant l'entrenament. Afegiu *Dropout* al vostre model. Heu d'explicar la vostra decisió de valors i de posició dins de la xarxa.\n",
    "\n",
    "\n",
    " 6. **Balancejat de les classes.** Si analitzeu el dataset, veureu que la freqüència de les classes està molt desbalancejada. Keras us permet afegir un pes per a cada classe a l'hora de calcular la loss (Mireu el paràmetre \"class_weigth\" a la documentació https://keras.io/api/models/model_training_apis/). Calculeu un pes per a cada classe i afegiu-lo al mètode fit del vostre model.\n",
    "\n",
    " ---"
   ]
  },
  {
   "cell_type": "markdown",
   "metadata": {
    "id": "-F_nTtvuA1x0"
   },
   "source": [
    "### 1. Balancejat de classes"
   ]
  },
  {
   "cell_type": "markdown",
   "metadata": {},
   "source": [
    "Balancejem les classes prèviament a fer la tria de paràmetres del preprocessament ja que d'aquesta manera ens assegurem evitar biaixos en l'avaluació dels paràmetres."
   ]
  },
  {
   "cell_type": "code",
   "execution_count": null,
   "metadata": {
    "colab": {
     "base_uri": "https://localhost:8080/"
    },
    "id": "noK4HI1CH2nZ",
    "outputId": "16ff3095-f393-47af-85f0-6dcc38a52009"
   },
   "outputs": [
    {
     "name": "stderr",
     "output_type": "stream",
     "text": [
      "/usr/local/lib/python3.10/dist-packages/keras/src/layers/core/embedding.py:90: UserWarning: Argument `input_length` is deprecated. Just remove it.\n",
      "  warnings.warn(\n"
     ]
    },
    {
     "name": "stdout",
     "output_type": "stream",
     "text": [
      "Epoch 1/10\n",
      "\u001b[1m128/128\u001b[0m \u001b[32m━━━━━━━━━━━━━━━━━━━━\u001b[0m\u001b[37m\u001b[0m \u001b[1m6s\u001b[0m 21ms/step - accuracy: 0.7362 - loss: 0.4419 - val_accuracy: 0.9243 - val_loss: 0.0733\n",
      "Epoch 2/10\n",
      "\u001b[1m128/128\u001b[0m \u001b[32m━━━━━━━━━━━━━━━━━━━━\u001b[0m\u001b[37m\u001b[0m \u001b[1m4s\u001b[0m 13ms/step - accuracy: 0.9377 - loss: 0.0607 - val_accuracy: 0.9557 - val_loss: 0.0460\n",
      "Epoch 3/10\n",
      "\u001b[1m128/128\u001b[0m \u001b[32m━━━━━━━━━━━━━━━━━━━━\u001b[0m\u001b[37m\u001b[0m \u001b[1m2s\u001b[0m 13ms/step - accuracy: 0.9636 - loss: 0.0341 - val_accuracy: 0.9707 - val_loss: 0.0333\n",
      "Epoch 4/10\n",
      "\u001b[1m128/128\u001b[0m \u001b[32m━━━━━━━━━━━━━━━━━━━━\u001b[0m\u001b[37m\u001b[0m \u001b[1m2s\u001b[0m 13ms/step - accuracy: 0.9777 - loss: 0.0198 - val_accuracy: 0.9783 - val_loss: 0.0269\n",
      "Epoch 5/10\n",
      "\u001b[1m128/128\u001b[0m \u001b[32m━━━━━━━━━━━━━━━━━━━━\u001b[0m\u001b[37m\u001b[0m \u001b[1m2s\u001b[0m 13ms/step - accuracy: 0.9844 - loss: 0.0125 - val_accuracy: 0.9821 - val_loss: 0.0242\n",
      "Epoch 6/10\n",
      "\u001b[1m128/128\u001b[0m \u001b[32m━━━━━━━━━━━━━━━━━━━━\u001b[0m\u001b[37m\u001b[0m \u001b[1m2s\u001b[0m 13ms/step - accuracy: 0.9879 - loss: 0.0088 - val_accuracy: 0.9839 - val_loss: 0.0229\n",
      "Epoch 7/10\n",
      "\u001b[1m128/128\u001b[0m \u001b[32m━━━━━━━━━━━━━━━━━━━━\u001b[0m\u001b[37m\u001b[0m \u001b[1m2s\u001b[0m 15ms/step - accuracy: 0.9899 - loss: 0.0066 - val_accuracy: 0.9856 - val_loss: 0.0221\n",
      "Epoch 8/10\n",
      "\u001b[1m128/128\u001b[0m \u001b[32m━━━━━━━━━━━━━━━━━━━━\u001b[0m\u001b[37m\u001b[0m \u001b[1m3s\u001b[0m 20ms/step - accuracy: 0.9919 - loss: 0.0051 - val_accuracy: 0.9870 - val_loss: 0.0217\n",
      "Epoch 9/10\n",
      "\u001b[1m128/128\u001b[0m \u001b[32m━━━━━━━━━━━━━━━━━━━━\u001b[0m\u001b[37m\u001b[0m \u001b[1m2s\u001b[0m 13ms/step - accuracy: 0.9933 - loss: 0.0040 - val_accuracy: 0.9875 - val_loss: 0.0215\n",
      "Epoch 10/10\n",
      "\u001b[1m128/128\u001b[0m \u001b[32m━━━━━━━━━━━━━━━━━━━━\u001b[0m\u001b[37m\u001b[0m \u001b[1m2s\u001b[0m 13ms/step - accuracy: 0.9944 - loss: 0.0033 - val_accuracy: 0.9878 - val_loss: 0.0212\n",
      "\u001b[1m29/29\u001b[0m \u001b[32m━━━━━━━━━━━━━━━━━━━━\u001b[0m\u001b[37m\u001b[0m \u001b[1m0s\u001b[0m 5ms/step - accuracy: 0.9885 - loss: 0.0185\n",
      "\u001b[1m28/28\u001b[0m \u001b[32m━━━━━━━━━━━━━━━━━━━━\u001b[0m\u001b[37m\u001b[0m \u001b[1m0s\u001b[0m 5ms/step - accuracy: 0.9865 - loss: 0.0201\n",
      "\u001b[1m29/29\u001b[0m \u001b[32m━━━━━━━━━━━━━━━━━━━━\u001b[0m\u001b[37m\u001b[0m \u001b[1m1s\u001b[0m 19ms/step\n",
      "\u001b[1m28/28\u001b[0m \u001b[32m━━━━━━━━━━━━━━━━━━━━\u001b[0m\u001b[37m\u001b[0m \u001b[1m0s\u001b[0m 4ms/step\n",
      "Validation accuracy: 0.99\n",
      "Test accuracy: 0.99\n",
      "F1-score on validation set: 0.59\n",
      "F1-score on test set: 0.54\n"
     ]
    }
   ],
   "source": [
    "random.seed(42)\n",
    "np.random.seed(42)\n",
    "tf.random.set_seed(42)\n",
    "\n",
    "embedding_dim = 100\n",
    "vocab_size = len(unique_words_dict) + 1\n",
    "\n",
    "model = Sequential()\n",
    "\n",
    "# 1. Capa embedding\n",
    "model.add(Embedding(input_dim=vocab_size, output_dim=embedding_dim, input_length=max_sequence_length))\n",
    "\n",
    "# 2. Capa de pooling\n",
    "model.add(LSTM(128, return_sequences=True))\n",
    "\n",
    "# 3. Capa densa\n",
    "model.add(Dense(64, activation='relu'))\n",
    "\n",
    "# 4. Capa final\n",
    "model.add(TimeDistributed(Dense(num_classes, activation='softmax')))\n",
    "\n",
    "# CANVIEM A FOCAL LA LOSS\n",
    "model.compile(optimizer='adam', loss='categorical_focal_crossentropy', metrics=['accuracy'])\n",
    "\n",
    "# Entrenem el model amb class_weight\n",
    "batch_size = 32\n",
    "epochs = 10\n",
    "model.fit(train_pad_sequences, train_labels_one_hot, batch_size=batch_size, epochs=epochs, validation_data=(val_pad_sequences, val_labels_one_hot))\n",
    "\n",
    "# Evaluate the model on the test set\n",
    "loss_val, accuracy_val = model.evaluate(val_pad_sequences, val_labels_one_hot, batch_size=batch_size)\n",
    "loss_test, accuracy_test = model.evaluate(test_pad_sequences, test_labels_one_hot, batch_size=batch_size)\n",
    "\n",
    "# F1-SCORE\n",
    "val_true_labels = np.argmax(val_labels_one_hot, axis=2).flatten()\n",
    "test_true_labels = np.argmax(test_labels_one_hot, axis=2).flatten()\n",
    "\n",
    "val_predictions = model.predict(val_pad_sequences, batch_size=32)\n",
    "test_predictions = model.predict(test_pad_sequences, batch_size=32)\n",
    "\n",
    "val_predicted_labels = np.argmax(val_predictions, axis=2).flatten()\n",
    "test_predicted_labels = np.argmax(test_predictions, axis=2).flatten()\n",
    "\n",
    "f1_score_val = f1_score(val_true_labels, val_predicted_labels, average='macro')\n",
    "f1_score_test = f1_score(test_true_labels, test_predicted_labels, average='macro')\n",
    "\n",
    "print(f\"Validation accuracy: {accuracy_val:.2f}\")\n",
    "print(f\"Test accuracy: {accuracy_test:.2f}\")\n",
    "print(f\"F1-score on validation set: {f1_score_val:.2f}\")\n",
    "print(f\"F1-score on test set: {f1_score_test:.2f}\")"
   ]
  },
  {
   "cell_type": "markdown",
   "metadata": {
    "id": "PMvpy3Ov5q9X"
   },
   "source": [
    "### 2. Dimensió de l'enbedding"
   ]
  },
  {
   "cell_type": "code",
   "execution_count": null,
   "metadata": {
    "id": "f9A5bxA3LUkm"
   },
   "outputs": [],
   "source": [
    "random.seed(42)\n",
    "np.random.seed(42)\n",
    "tf.random.set_seed(42)\n",
    "\n",
    "def model(X_train, X_val, X_test, y_train, y_val, y_test, vocab_size, embedding_dim, max_sequence_length, num_classes):\n",
    "\n",
    "    model = Sequential()\n",
    "\n",
    "    # 1. Capa embedding\n",
    "    model.add(Embedding(input_dim=vocab_size, output_dim=embedding_dim, input_length=max_sequence_length))\n",
    "\n",
    "    # 2. Capa de pooling\n",
    "    model.add(LSTM(128, return_sequences=True))\n",
    "\n",
    "    # 3. Capa densa\n",
    "    model.add(Dense(64, activation='relu'))\n",
    "\n",
    "    # 4. Capa final\n",
    "    model.add(TimeDistributed(Dense(num_classes, activation='softmax')))\n",
    "\n",
    "    # Compile the model with categorical_crossentropy\n",
    "    model.compile(optimizer='adam', loss='categorical_crossentropy', metrics=['accuracy'])\n",
    "\n",
    "    # Entrenem el model amb class_weight\n",
    "    batch_size = 32\n",
    "    epochs = 10\n",
    "    model.fit(X_train, y_train, batch_size=batch_size, epochs=epochs, validation_data=(X_val, y_val))\n",
    "\n",
    "    # Evaluate the model on the test set\n",
    "    loss_val, accuracy_val = model.evaluate(X_val, y_val, batch_size=batch_size)\n",
    "    loss_test, accuracy_test = model.evaluate(X_test, y_test, batch_size=batch_size)\n",
    "\n",
    "    # F1-SCORE\n",
    "    val_true_labels = np.argmax(y_val, axis=2).flatten()\n",
    "    test_true_labels = np.argmax(y_test, axis=2).flatten()\n",
    "\n",
    "    val_predictions = model.predict(X_val, batch_size=32)\n",
    "    test_predictions = model.predict(X_test, batch_size=32)\n",
    "\n",
    "    val_predicted_labels = np.argmax(val_predictions, axis=2).flatten()\n",
    "    test_predicted_labels = np.argmax(test_predictions, axis=2).flatten()\n",
    "\n",
    "    f1_score_val = f1_score(val_true_labels, val_predicted_labels, average='macro')\n",
    "    f1_score_test = f1_score(test_true_labels, test_predicted_labels, average='macro')\n",
    "\n",
    "    return accuracy_val, accuracy_test, f1_score_val, f1_score_test"
   ]
  },
  {
   "cell_type": "code",
   "execution_count": null,
   "metadata": {
    "colab": {
     "base_uri": "https://localhost:8080/"
    },
    "id": "-VFl0DaJ1h_C",
    "outputId": "e834373f-816a-4ef9-8dd0-653bb5973396"
   },
   "outputs": [
    {
     "name": "stderr",
     "output_type": "stream",
     "text": [
      "/usr/local/lib/python3.10/dist-packages/keras/src/layers/core/embedding.py:90: UserWarning: Argument `input_length` is deprecated. Just remove it.\n",
      "  warnings.warn(\n"
     ]
    },
    {
     "name": "stdout",
     "output_type": "stream",
     "text": [
      "Epoch 1/10\n",
      "\u001b[1m128/128\u001b[0m \u001b[32m━━━━━━━━━━━━━━━━━━━━\u001b[0m\u001b[37m\u001b[0m \u001b[1m8s\u001b[0m 25ms/step - accuracy: 0.7380 - loss: 1.9164 - val_accuracy: 0.9168 - val_loss: 0.3555\n",
      "Epoch 2/10\n",
      "\u001b[1m128/128\u001b[0m \u001b[32m━━━━━━━━━━━━━━━━━━━━\u001b[0m\u001b[37m\u001b[0m \u001b[1m2s\u001b[0m 13ms/step - accuracy: 0.9350 - loss: 0.2892 - val_accuracy: 0.9543 - val_loss: 0.2230\n",
      "Epoch 3/10\n",
      "\u001b[1m128/128\u001b[0m \u001b[32m━━━━━━━━━━━━━━━━━━━━\u001b[0m\u001b[37m\u001b[0m \u001b[1m1s\u001b[0m 11ms/step - accuracy: 0.9633 - loss: 0.1615 - val_accuracy: 0.9715 - val_loss: 0.1704\n",
      "Epoch 4/10\n",
      "\u001b[1m128/128\u001b[0m \u001b[32m━━━━━━━━━━━━━━━━━━━━\u001b[0m\u001b[37m\u001b[0m \u001b[1m1s\u001b[0m 11ms/step - accuracy: 0.9782 - loss: 0.1007 - val_accuracy: 0.9792 - val_loss: 0.1441\n",
      "Epoch 5/10\n",
      "\u001b[1m128/128\u001b[0m \u001b[32m━━━━━━━━━━━━━━━━━━━━\u001b[0m\u001b[37m\u001b[0m \u001b[1m1s\u001b[0m 11ms/step - accuracy: 0.9850 - loss: 0.0691 - val_accuracy: 0.9829 - val_loss: 0.1320\n",
      "Epoch 6/10\n",
      "\u001b[1m128/128\u001b[0m \u001b[32m━━━━━━━━━━━━━━━━━━━━\u001b[0m\u001b[37m\u001b[0m \u001b[1m1s\u001b[0m 11ms/step - accuracy: 0.9888 - loss: 0.0515 - val_accuracy: 0.9845 - val_loss: 0.1249\n",
      "Epoch 7/10\n",
      "\u001b[1m128/128\u001b[0m \u001b[32m━━━━━━━━━━━━━━━━━━━━\u001b[0m\u001b[37m\u001b[0m \u001b[1m3s\u001b[0m 14ms/step - accuracy: 0.9911 - loss: 0.0404 - val_accuracy: 0.9863 - val_loss: 0.1207\n",
      "Epoch 8/10\n",
      "\u001b[1m128/128\u001b[0m \u001b[32m━━━━━━━━━━━━━━━━━━━━\u001b[0m\u001b[37m\u001b[0m \u001b[1m2s\u001b[0m 12ms/step - accuracy: 0.9929 - loss: 0.0330 - val_accuracy: 0.9873 - val_loss: 0.1177\n",
      "Epoch 9/10\n",
      "\u001b[1m128/128\u001b[0m \u001b[32m━━━━━━━━━━━━━━━━━━━━\u001b[0m\u001b[37m\u001b[0m \u001b[1m1s\u001b[0m 11ms/step - accuracy: 0.9940 - loss: 0.0278 - val_accuracy: 0.9877 - val_loss: 0.1160\n",
      "Epoch 10/10\n",
      "\u001b[1m128/128\u001b[0m \u001b[32m━━━━━━━━━━━━━━━━━━━━\u001b[0m\u001b[37m\u001b[0m \u001b[1m1s\u001b[0m 11ms/step - accuracy: 0.9950 - loss: 0.0233 - val_accuracy: 0.9882 - val_loss: 0.1143\n",
      "\u001b[1m29/29\u001b[0m \u001b[32m━━━━━━━━━━━━━━━━━━━━\u001b[0m\u001b[37m\u001b[0m \u001b[1m0s\u001b[0m 5ms/step - accuracy: 0.9893 - loss: 0.1011\n",
      "\u001b[1m28/28\u001b[0m \u001b[32m━━━━━━━━━━━━━━━━━━━━\u001b[0m\u001b[37m\u001b[0m \u001b[1m0s\u001b[0m 5ms/step - accuracy: 0.9873 - loss: 0.1041\n",
      "\u001b[1m29/29\u001b[0m \u001b[32m━━━━━━━━━━━━━━━━━━━━\u001b[0m\u001b[37m\u001b[0m \u001b[1m1s\u001b[0m 19ms/step\n",
      "\u001b[1m28/28\u001b[0m \u001b[32m━━━━━━━━━━━━━━━━━━━━\u001b[0m\u001b[37m\u001b[0m \u001b[1m0s\u001b[0m 4ms/step\n"
     ]
    },
    {
     "name": "stderr",
     "output_type": "stream",
     "text": [
      "/usr/local/lib/python3.10/dist-packages/keras/src/layers/core/embedding.py:90: UserWarning: Argument `input_length` is deprecated. Just remove it.\n",
      "  warnings.warn(\n"
     ]
    },
    {
     "name": "stdout",
     "output_type": "stream",
     "text": [
      "Epoch 1/10\n",
      "\u001b[1m128/128\u001b[0m \u001b[32m━━━━━━━━━━━━━━━━━━━━\u001b[0m\u001b[37m\u001b[0m \u001b[1m7s\u001b[0m 22ms/step - accuracy: 0.8144 - loss: 1.6646 - val_accuracy: 0.9365 - val_loss: 0.2943\n",
      "Epoch 2/10\n",
      "\u001b[1m128/128\u001b[0m \u001b[32m━━━━━━━━━━━━━━━━━━━━\u001b[0m\u001b[37m\u001b[0m \u001b[1m2s\u001b[0m 12ms/step - accuracy: 0.9459 - loss: 0.2388 - val_accuracy: 0.9602 - val_loss: 0.1983\n",
      "Epoch 3/10\n",
      "\u001b[1m128/128\u001b[0m \u001b[32m━━━━━━━━━━━━━━━━━━━━\u001b[0m\u001b[37m\u001b[0m \u001b[1m2s\u001b[0m 11ms/step - accuracy: 0.9690 - loss: 0.1405 - val_accuracy: 0.9754 - val_loss: 0.1515\n",
      "Epoch 4/10\n",
      "\u001b[1m128/128\u001b[0m \u001b[32m━━━━━━━━━━━━━━━━━━━━\u001b[0m\u001b[37m\u001b[0m \u001b[1m1s\u001b[0m 11ms/step - accuracy: 0.9821 - loss: 0.0861 - val_accuracy: 0.9828 - val_loss: 0.1274\n",
      "Epoch 5/10\n",
      "\u001b[1m128/128\u001b[0m \u001b[32m━━━━━━━━━━━━━━━━━━━━\u001b[0m\u001b[37m\u001b[0m \u001b[1m3s\u001b[0m 11ms/step - accuracy: 0.9889 - loss: 0.0566 - val_accuracy: 0.9848 - val_loss: 0.1162\n",
      "Epoch 6/10\n",
      "\u001b[1m128/128\u001b[0m \u001b[32m━━━━━━━━━━━━━━━━━━━━\u001b[0m\u001b[37m\u001b[0m \u001b[1m3s\u001b[0m 15ms/step - accuracy: 0.9918 - loss: 0.0400 - val_accuracy: 0.9861 - val_loss: 0.1116\n",
      "Epoch 7/10\n",
      "\u001b[1m128/128\u001b[0m \u001b[32m━━━━━━━━━━━━━━━━━━━━\u001b[0m\u001b[37m\u001b[0m \u001b[1m2s\u001b[0m 12ms/step - accuracy: 0.9936 - loss: 0.0303 - val_accuracy: 0.9870 - val_loss: 0.1107\n",
      "Epoch 8/10\n",
      "\u001b[1m128/128\u001b[0m \u001b[32m━━━━━━━━━━━━━━━━━━━━\u001b[0m\u001b[37m\u001b[0m \u001b[1m2s\u001b[0m 11ms/step - accuracy: 0.9950 - loss: 0.0236 - val_accuracy: 0.9882 - val_loss: 0.1081\n",
      "Epoch 9/10\n",
      "\u001b[1m128/128\u001b[0m \u001b[32m━━━━━━━━━━━━━━━━━━━━\u001b[0m\u001b[37m\u001b[0m \u001b[1m3s\u001b[0m 11ms/step - accuracy: 0.9960 - loss: 0.0191 - val_accuracy: 0.9887 - val_loss: 0.1077\n",
      "Epoch 10/10\n",
      "\u001b[1m128/128\u001b[0m \u001b[32m━━━━━━━━━━━━━━━━━━━━\u001b[0m\u001b[37m\u001b[0m \u001b[1m1s\u001b[0m 11ms/step - accuracy: 0.9967 - loss: 0.0158 - val_accuracy: 0.9891 - val_loss: 0.1073\n",
      "\u001b[1m29/29\u001b[0m \u001b[32m━━━━━━━━━━━━━━━━━━━━\u001b[0m\u001b[37m\u001b[0m \u001b[1m0s\u001b[0m 4ms/step - accuracy: 0.9898 - loss: 0.0941\n",
      "\u001b[1m28/28\u001b[0m \u001b[32m━━━━━━━━━━━━━━━━━━━━\u001b[0m\u001b[37m\u001b[0m \u001b[1m0s\u001b[0m 5ms/step - accuracy: 0.9890 - loss: 0.0963\n",
      "\u001b[1m29/29\u001b[0m \u001b[32m━━━━━━━━━━━━━━━━━━━━\u001b[0m\u001b[37m\u001b[0m \u001b[1m1s\u001b[0m 27ms/step\n",
      "\u001b[1m28/28\u001b[0m \u001b[32m━━━━━━━━━━━━━━━━━━━━\u001b[0m\u001b[37m\u001b[0m \u001b[1m0s\u001b[0m 4ms/step\n"
     ]
    },
    {
     "name": "stderr",
     "output_type": "stream",
     "text": [
      "/usr/local/lib/python3.10/dist-packages/keras/src/layers/core/embedding.py:90: UserWarning: Argument `input_length` is deprecated. Just remove it.\n",
      "  warnings.warn(\n"
     ]
    },
    {
     "name": "stdout",
     "output_type": "stream",
     "text": [
      "Epoch 1/10\n",
      "\u001b[1m128/128\u001b[0m \u001b[32m━━━━━━━━━━━━━━━━━━━━\u001b[0m\u001b[37m\u001b[0m \u001b[1m5s\u001b[0m 16ms/step - accuracy: 0.8167 - loss: 1.4954 - val_accuracy: 0.9438 - val_loss: 0.2705\n",
      "Epoch 2/10\n",
      "\u001b[1m128/128\u001b[0m \u001b[32m━━━━━━━━━━━━━━━━━━━━\u001b[0m\u001b[37m\u001b[0m \u001b[1m1s\u001b[0m 11ms/step - accuracy: 0.9548 - loss: 0.2055 - val_accuracy: 0.9726 - val_loss: 0.1692\n",
      "Epoch 3/10\n",
      "\u001b[1m128/128\u001b[0m \u001b[32m━━━━━━━━━━━━━━━━━━━━\u001b[0m\u001b[37m\u001b[0m \u001b[1m3s\u001b[0m 12ms/step - accuracy: 0.9797 - loss: 0.1041 - val_accuracy: 0.9819 - val_loss: 0.1225\n",
      "Epoch 4/10\n",
      "\u001b[1m128/128\u001b[0m \u001b[32m━━━━━━━━━━━━━━━━━━━━\u001b[0m\u001b[37m\u001b[0m \u001b[1m3s\u001b[0m 15ms/step - accuracy: 0.9881 - loss: 0.0570 - val_accuracy: 0.9853 - val_loss: 0.1078\n",
      "Epoch 5/10\n",
      "\u001b[1m128/128\u001b[0m \u001b[32m━━━━━━━━━━━━━━━━━━━━\u001b[0m\u001b[37m\u001b[0m \u001b[1m2s\u001b[0m 11ms/step - accuracy: 0.9926 - loss: 0.0363 - val_accuracy: 0.9874 - val_loss: 0.1020\n",
      "Epoch 6/10\n",
      "\u001b[1m128/128\u001b[0m \u001b[32m━━━━━━━━━━━━━━━━━━━━\u001b[0m\u001b[37m\u001b[0m \u001b[1m1s\u001b[0m 11ms/step - accuracy: 0.9950 - loss: 0.0252 - val_accuracy: 0.9888 - val_loss: 0.0992\n",
      "Epoch 7/10\n",
      "\u001b[1m128/128\u001b[0m \u001b[32m━━━━━━━━━━━━━━━━━━━━\u001b[0m\u001b[37m\u001b[0m \u001b[1m2s\u001b[0m 12ms/step - accuracy: 0.9962 - loss: 0.0190 - val_accuracy: 0.9895 - val_loss: 0.0985\n",
      "Epoch 8/10\n",
      "\u001b[1m128/128\u001b[0m \u001b[32m━━━━━━━━━━━━━━━━━━━━\u001b[0m\u001b[37m\u001b[0m \u001b[1m2s\u001b[0m 11ms/step - accuracy: 0.9968 - loss: 0.0150 - val_accuracy: 0.9899 - val_loss: 0.0977\n",
      "Epoch 9/10\n",
      "\u001b[1m128/128\u001b[0m \u001b[32m━━━━━━━━━━━━━━━━━━━━\u001b[0m\u001b[37m\u001b[0m \u001b[1m3s\u001b[0m 14ms/step - accuracy: 0.9972 - loss: 0.0120 - val_accuracy: 0.9903 - val_loss: 0.0981\n",
      "Epoch 10/10\n",
      "\u001b[1m128/128\u001b[0m \u001b[32m━━━━━━━━━━━━━━━━━━━━\u001b[0m\u001b[37m\u001b[0m \u001b[1m2s\u001b[0m 13ms/step - accuracy: 0.9978 - loss: 0.0098 - val_accuracy: 0.9903 - val_loss: 0.0986\n",
      "\u001b[1m29/29\u001b[0m \u001b[32m━━━━━━━━━━━━━━━━━━━━\u001b[0m\u001b[37m\u001b[0m \u001b[1m0s\u001b[0m 5ms/step - accuracy: 0.9912 - loss: 0.0860\n",
      "\u001b[1m28/28\u001b[0m \u001b[32m━━━━━━━━━━━━━━━━━━━━\u001b[0m\u001b[37m\u001b[0m \u001b[1m0s\u001b[0m 4ms/step - accuracy: 0.9903 - loss: 0.0888\n",
      "\u001b[1m29/29\u001b[0m \u001b[32m━━━━━━━━━━━━━━━━━━━━\u001b[0m\u001b[37m\u001b[0m \u001b[1m1s\u001b[0m 19ms/step\n",
      "\u001b[1m28/28\u001b[0m \u001b[32m━━━━━━━━━━━━━━━━━━━━\u001b[0m\u001b[37m\u001b[0m \u001b[1m0s\u001b[0m 4ms/step\n"
     ]
    },
    {
     "name": "stderr",
     "output_type": "stream",
     "text": [
      "/usr/local/lib/python3.10/dist-packages/keras/src/layers/core/embedding.py:90: UserWarning: Argument `input_length` is deprecated. Just remove it.\n",
      "  warnings.warn(\n"
     ]
    },
    {
     "name": "stdout",
     "output_type": "stream",
     "text": [
      "Epoch 1/10\n",
      "\u001b[1m128/128\u001b[0m \u001b[32m━━━━━━━━━━━━━━━━━━━━\u001b[0m\u001b[37m\u001b[0m \u001b[1m6s\u001b[0m 18ms/step - accuracy: 0.8500 - loss: 1.2813 - val_accuracy: 0.9551 - val_loss: 0.2141\n",
      "Epoch 2/10\n",
      "\u001b[1m128/128\u001b[0m \u001b[32m━━━━━━━━━━━━━━━━━━━━\u001b[0m\u001b[37m\u001b[0m \u001b[1m2s\u001b[0m 14ms/step - accuracy: 0.9688 - loss: 0.1505 - val_accuracy: 0.9799 - val_loss: 0.1254\n",
      "Epoch 3/10\n",
      "\u001b[1m128/128\u001b[0m \u001b[32m━━━━━━━━━━━━━━━━━━━━\u001b[0m\u001b[37m\u001b[0m \u001b[1m3s\u001b[0m 14ms/step - accuracy: 0.9867 - loss: 0.0651 - val_accuracy: 0.9851 - val_loss: 0.1051\n",
      "Epoch 4/10\n",
      "\u001b[1m128/128\u001b[0m \u001b[32m━━━━━━━━━━━━━━━━━━━━\u001b[0m\u001b[37m\u001b[0m \u001b[1m2s\u001b[0m 12ms/step - accuracy: 0.9925 - loss: 0.0367 - val_accuracy: 0.9875 - val_loss: 0.0997\n",
      "Epoch 5/10\n",
      "\u001b[1m128/128\u001b[0m \u001b[32m━━━━━━━━━━━━━━━━━━━━\u001b[0m\u001b[37m\u001b[0m \u001b[1m3s\u001b[0m 12ms/step - accuracy: 0.9953 - loss: 0.0234 - val_accuracy: 0.9890 - val_loss: 0.0988\n",
      "Epoch 6/10\n",
      "\u001b[1m128/128\u001b[0m \u001b[32m━━━━━━━━━━━━━━━━━━━━\u001b[0m\u001b[37m\u001b[0m \u001b[1m3s\u001b[0m 12ms/step - accuracy: 0.9965 - loss: 0.0166 - val_accuracy: 0.9900 - val_loss: 0.0972\n",
      "Epoch 7/10\n",
      "\u001b[1m128/128\u001b[0m \u001b[32m━━━━━━━━━━━━━━━━━━━━\u001b[0m\u001b[37m\u001b[0m \u001b[1m3s\u001b[0m 15ms/step - accuracy: 0.9972 - loss: 0.0122 - val_accuracy: 0.9904 - val_loss: 0.0961\n",
      "Epoch 8/10\n",
      "\u001b[1m128/128\u001b[0m \u001b[32m━━━━━━━━━━━━━━━━━━━━\u001b[0m\u001b[37m\u001b[0m \u001b[1m2s\u001b[0m 15ms/step - accuracy: 0.9979 - loss: 0.0094 - val_accuracy: 0.9905 - val_loss: 0.0966\n",
      "Epoch 9/10\n",
      "\u001b[1m128/128\u001b[0m \u001b[32m━━━━━━━━━━━━━━━━━━━━\u001b[0m\u001b[37m\u001b[0m \u001b[1m2s\u001b[0m 12ms/step - accuracy: 0.9984 - loss: 0.0073 - val_accuracy: 0.9906 - val_loss: 0.0967\n",
      "Epoch 10/10\n",
      "\u001b[1m128/128\u001b[0m \u001b[32m━━━━━━━━━━━━━━━━━━━━\u001b[0m\u001b[37m\u001b[0m \u001b[1m3s\u001b[0m 12ms/step - accuracy: 0.9986 - loss: 0.0060 - val_accuracy: 0.9904 - val_loss: 0.0980\n",
      "\u001b[1m29/29\u001b[0m \u001b[32m━━━━━━━━━━━━━━━━━━━━\u001b[0m\u001b[37m\u001b[0m \u001b[1m0s\u001b[0m 5ms/step - accuracy: 0.9914 - loss: 0.0852\n",
      "\u001b[1m28/28\u001b[0m \u001b[32m━━━━━━━━━━━━━━━━━━━━\u001b[0m\u001b[37m\u001b[0m \u001b[1m0s\u001b[0m 5ms/step - accuracy: 0.9899 - loss: 0.0909\n",
      "\u001b[1m29/29\u001b[0m \u001b[32m━━━━━━━━━━━━━━━━━━━━\u001b[0m\u001b[37m\u001b[0m \u001b[1m1s\u001b[0m 36ms/step\n",
      "\u001b[1m28/28\u001b[0m \u001b[32m━━━━━━━━━━━━━━━━━━━━\u001b[0m\u001b[37m\u001b[0m \u001b[1m0s\u001b[0m 4ms/step\n"
     ]
    },
    {
     "name": "stderr",
     "output_type": "stream",
     "text": [
      "/usr/local/lib/python3.10/dist-packages/keras/src/layers/core/embedding.py:90: UserWarning: Argument `input_length` is deprecated. Just remove it.\n",
      "  warnings.warn(\n"
     ]
    },
    {
     "name": "stdout",
     "output_type": "stream",
     "text": [
      "Epoch 1/10\n",
      "\u001b[1m128/128\u001b[0m \u001b[32m━━━━━━━━━━━━━━━━━━━━\u001b[0m\u001b[37m\u001b[0m \u001b[1m7s\u001b[0m 19ms/step - accuracy: 0.8233 - loss: 1.1389 - val_accuracy: 0.9621 - val_loss: 0.2007\n",
      "Epoch 2/10\n",
      "\u001b[1m128/128\u001b[0m \u001b[32m━━━━━━━━━━━━━━━━━━━━\u001b[0m\u001b[37m\u001b[0m \u001b[1m2s\u001b[0m 14ms/step - accuracy: 0.9743 - loss: 0.1339 - val_accuracy: 0.9814 - val_loss: 0.1153\n",
      "Epoch 3/10\n",
      "\u001b[1m128/128\u001b[0m \u001b[32m━━━━━━━━━━━━━━━━━━━━\u001b[0m\u001b[37m\u001b[0m \u001b[1m3s\u001b[0m 14ms/step - accuracy: 0.9884 - loss: 0.0570 - val_accuracy: 0.9863 - val_loss: 0.0981\n",
      "Epoch 4/10\n",
      "\u001b[1m128/128\u001b[0m \u001b[32m━━━━━━━━━━━━━━━━━━━━\u001b[0m\u001b[37m\u001b[0m \u001b[1m2s\u001b[0m 14ms/step - accuracy: 0.9934 - loss: 0.0324 - val_accuracy: 0.9883 - val_loss: 0.0927\n",
      "Epoch 5/10\n",
      "\u001b[1m128/128\u001b[0m \u001b[32m━━━━━━━━━━━━━━━━━━━━\u001b[0m\u001b[37m\u001b[0m \u001b[1m3s\u001b[0m 19ms/step - accuracy: 0.9956 - loss: 0.0212 - val_accuracy: 0.9894 - val_loss: 0.0908\n",
      "Epoch 6/10\n",
      "\u001b[1m128/128\u001b[0m \u001b[32m━━━━━━━━━━━━━━━━━━━━\u001b[0m\u001b[37m\u001b[0m \u001b[1m2s\u001b[0m 14ms/step - accuracy: 0.9968 - loss: 0.0154 - val_accuracy: 0.9899 - val_loss: 0.0907\n",
      "Epoch 7/10\n",
      "\u001b[1m128/128\u001b[0m \u001b[32m━━━━━━━━━━━━━━━━━━━━\u001b[0m\u001b[37m\u001b[0m \u001b[1m2s\u001b[0m 14ms/step - accuracy: 0.9974 - loss: 0.0117 - val_accuracy: 0.9900 - val_loss: 0.0916\n",
      "Epoch 8/10\n",
      "\u001b[1m128/128\u001b[0m \u001b[32m━━━━━━━━━━━━━━━━━━━━\u001b[0m\u001b[37m\u001b[0m \u001b[1m2s\u001b[0m 14ms/step - accuracy: 0.9980 - loss: 0.0094 - val_accuracy: 0.9903 - val_loss: 0.0918\n",
      "Epoch 9/10\n",
      "\u001b[1m128/128\u001b[0m \u001b[32m━━━━━━━━━━━━━━━━━━━━\u001b[0m\u001b[37m\u001b[0m \u001b[1m3s\u001b[0m 14ms/step - accuracy: 0.9982 - loss: 0.0076 - val_accuracy: 0.9902 - val_loss: 0.0930\n",
      "Epoch 10/10\n",
      "\u001b[1m128/128\u001b[0m \u001b[32m━━━━━━━━━━━━━━━━━━━━\u001b[0m\u001b[37m\u001b[0m \u001b[1m2s\u001b[0m 15ms/step - accuracy: 0.9985 - loss: 0.0064 - val_accuracy: 0.9902 - val_loss: 0.0943\n",
      "\u001b[1m29/29\u001b[0m \u001b[32m━━━━━━━━━━━━━━━━━━━━\u001b[0m\u001b[37m\u001b[0m \u001b[1m0s\u001b[0m 7ms/step - accuracy: 0.9913 - loss: 0.0813\n",
      "\u001b[1m28/28\u001b[0m \u001b[32m━━━━━━━━━━━━━━━━━━━━\u001b[0m\u001b[37m\u001b[0m \u001b[1m0s\u001b[0m 7ms/step - accuracy: 0.9896 - loss: 0.0923\n",
      "\u001b[1m29/29\u001b[0m \u001b[32m━━━━━━━━━━━━━━━━━━━━\u001b[0m\u001b[37m\u001b[0m \u001b[1m2s\u001b[0m 30ms/step\n",
      "\u001b[1m28/28\u001b[0m \u001b[32m━━━━━━━━━━━━━━━━━━━━\u001b[0m\u001b[37m\u001b[0m \u001b[1m0s\u001b[0m 4ms/step\n",
      " embedding dim  val_accuracy  f1_score_val  test_accuracy  f1_score_test\n",
      "          1000      0.990403      0.759462       0.990445       0.698354\n",
      "          2000      0.990209      0.737387       0.990052       0.674896\n",
      "           500      0.990282      0.736615       0.990469       0.690772\n",
      "           200      0.989143      0.679059       0.989413       0.596613\n",
      "           100      0.988222      0.649367       0.987718       0.560301\n"
     ]
    }
   ],
   "source": [
    "random.seed(42)\n",
    "np.random.seed(42)\n",
    "tf.random.set_seed(42)\n",
    "\n",
    "embeddings = [100, 200, 500, 1000, 2000]\n",
    "results = []\n",
    "\n",
    "for emb in embeddings:\n",
    "  accuracy_val, accuracy_test, f1_score_val, f1_score_test = model(train_pad_sequences, val_pad_sequences, test_pad_sequences, train_labels_one_hot, val_labels_one_hot, test_labels_one_hot,\n",
    "                        len(unique_words_dict) + 1, emb, max_sequence_length, num_classes)\n",
    "  results.append({\n",
    "        'embedding dim': emb,\n",
    "        'val_accuracy': accuracy_val,\n",
    "        'f1_score_val': f1_score_val,\n",
    "        'test_accuracy': accuracy_test,\n",
    "        'f1_score_test': f1_score_test\n",
    "    })\n",
    "\n",
    "\n",
    "results_df = pd.DataFrame(results)\n",
    "results_df = results_df.sort_values(by='f1_score_val', ascending=False)\n",
    "print(results_df.to_string(index=False))"
   ]
  },
  {
   "cell_type": "markdown",
   "metadata": {
    "id": "B5BNQVNZ5zUh"
   },
   "source": [
    "### 3. Convolucionals"
   ]
  },
  {
   "cell_type": "markdown",
   "metadata": {},
   "source": [
    "Provem diferents configuracions amb xarxes convolucionals."
   ]
  },
  {
   "cell_type": "code",
   "execution_count": null,
   "metadata": {
    "id": "cJkYoPQp0mrw"
   },
   "outputs": [],
   "source": [
    "def plot_curves(history):\n",
    "    # Comprovem que els valors de pèrdua i precisió existeixen al diccionari history.history\n",
    "    train_loss = history.history.get('loss', [])\n",
    "    val_loss = history.history.get('val_loss', [])\n",
    "    train_accuracy = history.history.get('accuracy', [])\n",
    "    val_accuracy = history.history.get('val_accuracy', [])\n",
    "    epochs = range(1, len(train_loss) + 1)\n",
    "\n",
    "    fig, axes = plt.subplots(1, 2, figsize=(10, 4))\n",
    "\n",
    "    # Pèrdua d'entrenament i validació\n",
    "    axes[0].plot(epochs, train_loss, 'g-', label='Training Loss')\n",
    "    axes[0].plot(epochs, val_loss, 'orange', label='Validation Loss')\n",
    "    axes[0].set_title('Training and Validation Loss')\n",
    "    axes[0].set_xlabel('Epochs')\n",
    "    axes[0].set_ylabel('Loss')\n",
    "    axes[0].legend()\n",
    "    axes[0].grid(True)\n",
    "\n",
    "    # Precisió d'entrenament i validació\n",
    "    axes[1].plot(epochs, train_accuracy, 'g-', label='Training Accuracy')\n",
    "    axes[1].plot(epochs, val_accuracy, 'orange', label='Validation Accuracy')\n",
    "    axes[1].set_title('Training and Validation Accuracy')\n",
    "    axes[1].set_xlabel('Epochs')\n",
    "    axes[1].set_ylabel('Accuracy')\n",
    "    axes[1].legend()\n",
    "    axes[1].grid(True)\n",
    "\n",
    "    plt.tight_layout()\n",
    "    plt.show()"
   ]
  },
  {
   "cell_type": "code",
   "execution_count": null,
   "metadata": {
    "id": "ISbZfCzzWCOB"
   },
   "outputs": [],
   "source": [
    "def model(X_train, X_val, X_test, y_train, y_val, y_test, vocab_size, embedding_dim, max_sequence_length, num_classes, config):\n",
    "    model = Sequential()\n",
    "    model.add(Embedding(input_dim=vocab_size, output_dim=embedding_dim, input_length=max_sequence_length))\n",
    "\n",
    "    if config == 1:\n",
    "        model.add(Conv1D(filters=128, kernel_size=5, activation='relu', padding='same'))\n",
    "    elif config == 2:\n",
    "        model.add(Conv1D(filters=64, kernel_size=3, activation='relu', padding='same'))\n",
    "        model.add(Conv1D(filters=128, kernel_size=5, activation='relu', padding='same'))\n",
    "    elif config == 3:\n",
    "        model.add(Conv1D(filters=64, kernel_size=5, activation='relu', padding='same'))\n",
    "        model.add(Conv1D(filters=64, kernel_size=5, activation='relu', padding='same'))\n",
    "    elif config == 4:\n",
    "        model.add(Conv1D(filters=32, kernel_size=7, activation='relu', padding='same'))\n",
    "        model.add(Conv1D(filters=128, kernel_size=5, activation='relu', padding='same'))\n",
    "    elif config == 5:\n",
    "        model.add(Conv1D(filters=32, kernel_size=7, activation='relu', padding='same'))\n",
    "        model.add(Conv1D(filters=64, kernel_size=3, activation='relu', padding='same'))\n",
    "\n",
    "    model.add(TimeDistributed(Dense(64, activation='relu')))\n",
    "    model.add(TimeDistributed(Dense(num_classes, activation='softmax')))\n",
    "\n",
    "    model.compile(optimizer=Adam(), loss=categorical_crossentropy, metrics=['accuracy'])\n",
    "\n",
    "    batch_size = 32\n",
    "    epochs = 10\n",
    "    model.fit(X_train, y_train, batch_size=batch_size, epochs=epochs, validation_data=(X_val, y_val))\n",
    "\n",
    "    loss_val, accuracy_val = model.evaluate(X_val, y_val, batch_size=batch_size)\n",
    "    loss_test, accuracy_test = model.evaluate(X_test, y_test, batch_size=batch_size)\n",
    "\n",
    "    val_true_labels = np.argmax(y_val, axis=2).flatten()\n",
    "    test_true_labels = np.argmax(y_test, axis=2).flatten()\n",
    "\n",
    "    val_predictions = model.predict(X_val, batch_size=32)\n",
    "    test_predictions = model.predict(X_test, batch_size=32)\n",
    "\n",
    "    val_predicted_labels = np.argmax(val_predictions, axis=2).flatten()\n",
    "    test_predicted_labels = np.argmax(test_predictions, axis=2).flatten()\n",
    "\n",
    "    f1_score_val = f1_score(val_true_labels, val_predicted_labels, average='macro')\n",
    "    f1_score_test = f1_score(test_true_labels, test_predicted_labels, average='macro')\n",
    "\n",
    "    return accuracy_val, accuracy_test, f1_score_val, f1_score_test"
   ]
  },
  {
   "cell_type": "code",
   "execution_count": null,
   "metadata": {
    "colab": {
     "base_uri": "https://localhost:8080/"
    },
    "id": "AwgZVBaqU_86",
    "outputId": "bef954a5-9a13-44a6-8ed2-15ea3160a8e4"
   },
   "outputs": [
    {
     "name": "stderr",
     "output_type": "stream",
     "text": [
      "/usr/local/lib/python3.10/dist-packages/keras/src/layers/core/embedding.py:90: UserWarning: Argument `input_length` is deprecated. Just remove it.\n",
      "  warnings.warn(\n"
     ]
    },
    {
     "name": "stdout",
     "output_type": "stream",
     "text": [
      "Epoch 1/10\n",
      "\u001b[1m128/128\u001b[0m \u001b[32m━━━━━━━━━━━━━━━━━━━━\u001b[0m\u001b[37m\u001b[0m \u001b[1m121s\u001b[0m 502ms/step - accuracy: 0.8659 - loss: 1.0602 - val_accuracy: 0.9770 - val_loss: 0.1556\n",
      "Epoch 2/10\n",
      "\u001b[1m128/128\u001b[0m \u001b[32m━━━━━━━━━━━━━━━━━━━━\u001b[0m\u001b[37m\u001b[0m \u001b[1m27s\u001b[0m 9ms/step - accuracy: 0.9842 - loss: 0.0785 - val_accuracy: 0.9847 - val_loss: 0.1180\n",
      "Epoch 3/10\n",
      "\u001b[1m128/128\u001b[0m \u001b[32m━━━━━━━━━━━━━━━━━━━━\u001b[0m\u001b[37m\u001b[0m \u001b[1m1s\u001b[0m 8ms/step - accuracy: 0.9921 - loss: 0.0355 - val_accuracy: 0.9874 - val_loss: 0.1112\n",
      "Epoch 4/10\n",
      "\u001b[1m128/128\u001b[0m \u001b[32m━━━━━━━━━━━━━━━━━━━━\u001b[0m\u001b[37m\u001b[0m \u001b[1m1s\u001b[0m 8ms/step - accuracy: 0.9945 - loss: 0.0221 - val_accuracy: 0.9878 - val_loss: 0.1090\n",
      "Epoch 5/10\n",
      "\u001b[1m128/128\u001b[0m \u001b[32m━━━━━━━━━━━━━━━━━━━━\u001b[0m\u001b[37m\u001b[0m \u001b[1m1s\u001b[0m 8ms/step - accuracy: 0.9955 - loss: 0.0162 - val_accuracy: 0.9883 - val_loss: 0.1100\n",
      "Epoch 6/10\n",
      "\u001b[1m128/128\u001b[0m \u001b[32m━━━━━━━━━━━━━━━━━━━━\u001b[0m\u001b[37m\u001b[0m \u001b[1m1s\u001b[0m 7ms/step - accuracy: 0.9960 - loss: 0.0131 - val_accuracy: 0.9885 - val_loss: 0.1108\n",
      "Epoch 7/10\n",
      "\u001b[1m128/128\u001b[0m \u001b[32m━━━━━━━━━━━━━━━━━━━━\u001b[0m\u001b[37m\u001b[0m \u001b[1m1s\u001b[0m 8ms/step - accuracy: 0.9966 - loss: 0.0112 - val_accuracy: 0.9884 - val_loss: 0.1109\n",
      "Epoch 8/10\n",
      "\u001b[1m128/128\u001b[0m \u001b[32m━━━━━━━━━━━━━━━━━━━━\u001b[0m\u001b[37m\u001b[0m \u001b[1m1s\u001b[0m 8ms/step - accuracy: 0.9969 - loss: 0.0096 - val_accuracy: 0.9886 - val_loss: 0.1106\n",
      "Epoch 9/10\n",
      "\u001b[1m128/128\u001b[0m \u001b[32m━━━━━━━━━━━━━━━━━━━━\u001b[0m\u001b[37m\u001b[0m \u001b[1m1s\u001b[0m 9ms/step - accuracy: 0.9971 - loss: 0.0084 - val_accuracy: 0.9884 - val_loss: 0.1111\n",
      "Epoch 10/10\n",
      "\u001b[1m128/128\u001b[0m \u001b[32m━━━━━━━━━━━━━━━━━━━━\u001b[0m\u001b[37m\u001b[0m \u001b[1m1s\u001b[0m 9ms/step - accuracy: 0.9975 - loss: 0.0074 - val_accuracy: 0.9882 - val_loss: 0.1123\n",
      "\u001b[1m29/29\u001b[0m \u001b[32m━━━━━━━━━━━━━━━━━━━━\u001b[0m\u001b[37m\u001b[0m \u001b[1m0s\u001b[0m 3ms/step - accuracy: 0.9887 - loss: 0.0978\n",
      "\u001b[1m28/28\u001b[0m \u001b[32m━━━━━━━━━━━━━━━━━━━━\u001b[0m\u001b[37m\u001b[0m \u001b[1m7s\u001b[0m 251ms/step - accuracy: 0.9881 - loss: 0.1092\n",
      "\u001b[1m29/29\u001b[0m \u001b[32m━━━━━━━━━━━━━━━━━━━━\u001b[0m\u001b[37m\u001b[0m \u001b[1m12s\u001b[0m 184ms/step\n",
      "\u001b[1m28/28\u001b[0m \u001b[32m━━━━━━━━━━━━━━━━━━━━\u001b[0m\u001b[37m\u001b[0m \u001b[1m5s\u001b[0m 186ms/step\n"
     ]
    },
    {
     "name": "stderr",
     "output_type": "stream",
     "text": [
      "/usr/local/lib/python3.10/dist-packages/keras/src/layers/core/embedding.py:90: UserWarning: Argument `input_length` is deprecated. Just remove it.\n",
      "  warnings.warn(\n"
     ]
    },
    {
     "name": "stdout",
     "output_type": "stream",
     "text": [
      "Epoch 1/10\n",
      "\u001b[1m128/128\u001b[0m \u001b[32m━━━━━━━━━━━━━━━━━━━━\u001b[0m\u001b[37m\u001b[0m \u001b[1m119s\u001b[0m 498ms/step - accuracy: 0.7642 - loss: 1.3035 - val_accuracy: 0.9648 - val_loss: 0.1946\n",
      "Epoch 2/10\n",
      "\u001b[1m128/128\u001b[0m \u001b[32m━━━━━━━━━━━━━━━━━━━━\u001b[0m\u001b[37m\u001b[0m \u001b[1m30s\u001b[0m 10ms/step - accuracy: 0.9743 - loss: 0.1200 - val_accuracy: 0.9800 - val_loss: 0.1306\n",
      "Epoch 3/10\n",
      "\u001b[1m128/128\u001b[0m \u001b[32m━━━━━━━━━━━━━━━━━━━━\u001b[0m\u001b[37m\u001b[0m \u001b[1m2s\u001b[0m 6ms/step - accuracy: 0.9875 - loss: 0.0531 - val_accuracy: 0.9853 - val_loss: 0.1165\n",
      "Epoch 4/10\n",
      "\u001b[1m128/128\u001b[0m \u001b[32m━━━━━━━━━━━━━━━━━━━━\u001b[0m\u001b[37m\u001b[0m \u001b[1m1s\u001b[0m 6ms/step - accuracy: 0.9923 - loss: 0.0317 - val_accuracy: 0.9871 - val_loss: 0.1141\n",
      "Epoch 5/10\n",
      "\u001b[1m128/128\u001b[0m \u001b[32m━━━━━━━━━━━━━━━━━━━━\u001b[0m\u001b[37m\u001b[0m \u001b[1m1s\u001b[0m 6ms/step - accuracy: 0.9945 - loss: 0.0214 - val_accuracy: 0.9882 - val_loss: 0.1126\n",
      "Epoch 6/10\n",
      "\u001b[1m128/128\u001b[0m \u001b[32m━━━━━━━━━━━━━━━━━━━━\u001b[0m\u001b[37m\u001b[0m \u001b[1m1s\u001b[0m 6ms/step - accuracy: 0.9957 - loss: 0.0156 - val_accuracy: 0.9885 - val_loss: 0.1125\n",
      "Epoch 7/10\n",
      "\u001b[1m128/128\u001b[0m \u001b[32m━━━━━━━━━━━━━━━━━━━━\u001b[0m\u001b[37m\u001b[0m \u001b[1m1s\u001b[0m 6ms/step - accuracy: 0.9966 - loss: 0.0119 - val_accuracy: 0.9886 - val_loss: 0.1128\n",
      "Epoch 8/10\n",
      "\u001b[1m128/128\u001b[0m \u001b[32m━━━━━━━━━━━━━━━━━━━━\u001b[0m\u001b[37m\u001b[0m \u001b[1m1s\u001b[0m 6ms/step - accuracy: 0.9972 - loss: 0.0098 - val_accuracy: 0.9887 - val_loss: 0.1126\n",
      "Epoch 9/10\n",
      "\u001b[1m128/128\u001b[0m \u001b[32m━━━━━━━━━━━━━━━━━━━━\u001b[0m\u001b[37m\u001b[0m \u001b[1m1s\u001b[0m 6ms/step - accuracy: 0.9976 - loss: 0.0082 - val_accuracy: 0.9885 - val_loss: 0.1129\n",
      "Epoch 10/10\n",
      "\u001b[1m128/128\u001b[0m \u001b[32m━━━━━━━━━━━━━━━━━━━━\u001b[0m\u001b[37m\u001b[0m \u001b[1m1s\u001b[0m 6ms/step - accuracy: 0.9980 - loss: 0.0067 - val_accuracy: 0.9885 - val_loss: 0.1141\n",
      "\u001b[1m29/29\u001b[0m \u001b[32m━━━━━━━━━━━━━━━━━━━━\u001b[0m\u001b[37m\u001b[0m \u001b[1m0s\u001b[0m 2ms/step - accuracy: 0.9889 - loss: 0.1003\n",
      "\u001b[1m28/28\u001b[0m \u001b[32m━━━━━━━━━━━━━━━━━━━━\u001b[0m\u001b[37m\u001b[0m \u001b[1m8s\u001b[0m 280ms/step - accuracy: 0.9881 - loss: 0.1112\n",
      "\u001b[1m29/29\u001b[0m \u001b[32m━━━━━━━━━━━━━━━━━━━━\u001b[0m\u001b[37m\u001b[0m \u001b[1m12s\u001b[0m 229ms/step\n",
      "\u001b[1m28/28\u001b[0m \u001b[32m━━━━━━━━━━━━━━━━━━━━\u001b[0m\u001b[37m\u001b[0m \u001b[1m13s\u001b[0m 463ms/step\n"
     ]
    },
    {
     "name": "stderr",
     "output_type": "stream",
     "text": [
      "/usr/local/lib/python3.10/dist-packages/keras/src/layers/core/embedding.py:90: UserWarning: Argument `input_length` is deprecated. Just remove it.\n",
      "  warnings.warn(\n"
     ]
    },
    {
     "name": "stdout",
     "output_type": "stream",
     "text": [
      "Epoch 1/10\n",
      "\u001b[1m128/128\u001b[0m \u001b[32m━━━━━━━━━━━━━━━━━━━━\u001b[0m\u001b[37m\u001b[0m \u001b[1m117s\u001b[0m 492ms/step - accuracy: 0.8543 - loss: 1.2052 - val_accuracy: 0.9644 - val_loss: 0.1964\n",
      "Epoch 2/10\n",
      "\u001b[1m128/128\u001b[0m \u001b[32m━━━━━━━━━━━━━━━━━━━━\u001b[0m\u001b[37m\u001b[0m \u001b[1m33s\u001b[0m 7ms/step - accuracy: 0.9737 - loss: 0.1232 - val_accuracy: 0.9814 - val_loss: 0.1331\n",
      "Epoch 3/10\n",
      "\u001b[1m128/128\u001b[0m \u001b[32m━━━━━━━━━━━━━━━━━━━━\u001b[0m\u001b[37m\u001b[0m \u001b[1m1s\u001b[0m 6ms/step - accuracy: 0.9880 - loss: 0.0524 - val_accuracy: 0.9857 - val_loss: 0.1185\n",
      "Epoch 4/10\n",
      "\u001b[1m128/128\u001b[0m \u001b[32m━━━━━━━━━━━━━━━━━━━━\u001b[0m\u001b[37m\u001b[0m \u001b[1m1s\u001b[0m 6ms/step - accuracy: 0.9931 - loss: 0.0303 - val_accuracy: 0.9874 - val_loss: 0.1136\n",
      "Epoch 5/10\n",
      "\u001b[1m128/128\u001b[0m \u001b[32m━━━━━━━━━━━━━━━━━━━━\u001b[0m\u001b[37m\u001b[0m \u001b[1m1s\u001b[0m 6ms/step - accuracy: 0.9952 - loss: 0.0202 - val_accuracy: 0.9882 - val_loss: 0.1147\n",
      "Epoch 6/10\n",
      "\u001b[1m128/128\u001b[0m \u001b[32m━━━━━━━━━━━━━━━━━━━━\u001b[0m\u001b[37m\u001b[0m \u001b[1m1s\u001b[0m 6ms/step - accuracy: 0.9962 - loss: 0.0148 - val_accuracy: 0.9887 - val_loss: 0.1126\n",
      "Epoch 7/10\n",
      "\u001b[1m128/128\u001b[0m \u001b[32m━━━━━━━━━━━━━━━━━━━━\u001b[0m\u001b[37m\u001b[0m \u001b[1m1s\u001b[0m 6ms/step - accuracy: 0.9971 - loss: 0.0123 - val_accuracy: 0.9890 - val_loss: 0.1135\n",
      "Epoch 8/10\n",
      "\u001b[1m128/128\u001b[0m \u001b[32m━━━━━━━━━━━━━━━━━━━━\u001b[0m\u001b[37m\u001b[0m \u001b[1m1s\u001b[0m 7ms/step - accuracy: 0.9978 - loss: 0.0095 - val_accuracy: 0.9890 - val_loss: 0.1156\n",
      "Epoch 9/10\n",
      "\u001b[1m128/128\u001b[0m \u001b[32m━━━━━━━━━━━━━━━━━━━━\u001b[0m\u001b[37m\u001b[0m \u001b[1m1s\u001b[0m 7ms/step - accuracy: 0.9982 - loss: 0.0077 - val_accuracy: 0.9889 - val_loss: 0.1164\n",
      "Epoch 10/10\n",
      "\u001b[1m128/128\u001b[0m \u001b[32m━━━━━━━━━━━━━━━━━━━━\u001b[0m\u001b[37m\u001b[0m \u001b[1m1s\u001b[0m 8ms/step - accuracy: 0.9986 - loss: 0.0062 - val_accuracy: 0.9888 - val_loss: 0.1190\n",
      "\u001b[1m29/29\u001b[0m \u001b[32m━━━━━━━━━━━━━━━━━━━━\u001b[0m\u001b[37m\u001b[0m \u001b[1m0s\u001b[0m 3ms/step - accuracy: 0.9895 - loss: 0.1030\n",
      "\u001b[1m28/28\u001b[0m \u001b[32m━━━━━━━━━━━━━━━━━━━━\u001b[0m\u001b[37m\u001b[0m \u001b[1m7s\u001b[0m 245ms/step - accuracy: 0.9884 - loss: 0.1102\n",
      "\u001b[1m29/29\u001b[0m \u001b[32m━━━━━━━━━━━━━━━━━━━━\u001b[0m\u001b[37m\u001b[0m \u001b[1m12s\u001b[0m 180ms/step\n",
      "\u001b[1m28/28\u001b[0m \u001b[32m━━━━━━━━━━━━━━━━━━━━\u001b[0m\u001b[37m\u001b[0m \u001b[1m5s\u001b[0m 186ms/step\n"
     ]
    },
    {
     "name": "stderr",
     "output_type": "stream",
     "text": [
      "/usr/local/lib/python3.10/dist-packages/keras/src/layers/core/embedding.py:90: UserWarning: Argument `input_length` is deprecated. Just remove it.\n",
      "  warnings.warn(\n"
     ]
    },
    {
     "name": "stdout",
     "output_type": "stream",
     "text": [
      "Epoch 1/10\n",
      "\u001b[1m128/128\u001b[0m \u001b[32m━━━━━━━━━━━━━━━━━━━━\u001b[0m\u001b[37m\u001b[0m \u001b[1m117s\u001b[0m 493ms/step - accuracy: 0.6896 - loss: 1.4855 - val_accuracy: 0.9578 - val_loss: 0.2160\n",
      "Epoch 2/10\n",
      "\u001b[1m128/128\u001b[0m \u001b[32m━━━━━━━━━━━━━━━━━━━━\u001b[0m\u001b[37m\u001b[0m \u001b[1m32s\u001b[0m 7ms/step - accuracy: 0.9665 - loss: 0.1492 - val_accuracy: 0.9777 - val_loss: 0.1495\n",
      "Epoch 3/10\n",
      "\u001b[1m128/128\u001b[0m \u001b[32m━━━━━━━━━━━━━━━━━━━━\u001b[0m\u001b[37m\u001b[0m \u001b[1m1s\u001b[0m 6ms/step - accuracy: 0.9845 - loss: 0.0691 - val_accuracy: 0.9833 - val_loss: 0.1269\n",
      "Epoch 4/10\n",
      "\u001b[1m128/128\u001b[0m \u001b[32m━━━━━━━━━━━━━━━━━━━━\u001b[0m\u001b[37m\u001b[0m \u001b[1m1s\u001b[0m 6ms/step - accuracy: 0.9908 - loss: 0.0392 - val_accuracy: 0.9855 - val_loss: 0.1201\n",
      "Epoch 5/10\n",
      "\u001b[1m128/128\u001b[0m \u001b[32m━━━━━━━━━━━━━━━━━━━━\u001b[0m\u001b[37m\u001b[0m \u001b[1m1s\u001b[0m 7ms/step - accuracy: 0.9941 - loss: 0.0256 - val_accuracy: 0.9872 - val_loss: 0.1149\n",
      "Epoch 6/10\n",
      "\u001b[1m128/128\u001b[0m \u001b[32m━━━━━━━━━━━━━━━━━━━━\u001b[0m\u001b[37m\u001b[0m \u001b[1m1s\u001b[0m 7ms/step - accuracy: 0.9958 - loss: 0.0179 - val_accuracy: 0.9880 - val_loss: 0.1166\n",
      "Epoch 7/10\n",
      "\u001b[1m128/128\u001b[0m \u001b[32m━━━━━━━━━━━━━━━━━━━━\u001b[0m\u001b[37m\u001b[0m \u001b[1m1s\u001b[0m 7ms/step - accuracy: 0.9967 - loss: 0.0133 - val_accuracy: 0.9876 - val_loss: 0.1199\n",
      "Epoch 8/10\n",
      "\u001b[1m128/128\u001b[0m \u001b[32m━━━━━━━━━━━━━━━━━━━━\u001b[0m\u001b[37m\u001b[0m \u001b[1m1s\u001b[0m 7ms/step - accuracy: 0.9975 - loss: 0.0104 - val_accuracy: 0.9880 - val_loss: 0.1211\n",
      "Epoch 9/10\n",
      "\u001b[1m128/128\u001b[0m \u001b[32m━━━━━━━━━━━━━━━━━━━━\u001b[0m\u001b[37m\u001b[0m \u001b[1m1s\u001b[0m 8ms/step - accuracy: 0.9979 - loss: 0.0085 - val_accuracy: 0.9885 - val_loss: 0.1196\n",
      "Epoch 10/10\n",
      "\u001b[1m128/128\u001b[0m \u001b[32m━━━━━━━━━━━━━━━━━━━━\u001b[0m\u001b[37m\u001b[0m \u001b[1m1s\u001b[0m 8ms/step - accuracy: 0.9983 - loss: 0.0069 - val_accuracy: 0.9892 - val_loss: 0.1191\n",
      "\u001b[1m29/29\u001b[0m \u001b[32m━━━━━━━━━━━━━━━━━━━━\u001b[0m\u001b[37m\u001b[0m \u001b[1m0s\u001b[0m 3ms/step - accuracy: 0.9901 - loss: 0.1049\n",
      "\u001b[1m28/28\u001b[0m \u001b[32m━━━━━━━━━━━━━━━━━━━━\u001b[0m\u001b[37m\u001b[0m \u001b[1m6s\u001b[0m 235ms/step - accuracy: 0.9887 - loss: 0.1149\n",
      "\u001b[1m29/29\u001b[0m \u001b[32m━━━━━━━━━━━━━━━━━━━━\u001b[0m\u001b[37m\u001b[0m \u001b[1m12s\u001b[0m 176ms/step\n",
      "\u001b[1m28/28\u001b[0m \u001b[32m━━━━━━━━━━━━━━━━━━━━\u001b[0m\u001b[37m\u001b[0m \u001b[1m5s\u001b[0m 186ms/step\n"
     ]
    },
    {
     "name": "stderr",
     "output_type": "stream",
     "text": [
      "/usr/local/lib/python3.10/dist-packages/keras/src/layers/core/embedding.py:90: UserWarning: Argument `input_length` is deprecated. Just remove it.\n",
      "  warnings.warn(\n"
     ]
    },
    {
     "name": "stdout",
     "output_type": "stream",
     "text": [
      "Epoch 1/10\n",
      "\u001b[1m128/128\u001b[0m \u001b[32m━━━━━━━━━━━━━━━━━━━━\u001b[0m\u001b[37m\u001b[0m \u001b[1m113s\u001b[0m 476ms/step - accuracy: 0.6709 - loss: 1.5319 - val_accuracy: 0.9575 - val_loss: 0.2145\n",
      "Epoch 2/10\n",
      "\u001b[1m128/128\u001b[0m \u001b[32m━━━━━━━━━━━━━━━━━━━━\u001b[0m\u001b[37m\u001b[0m \u001b[1m35s\u001b[0m 7ms/step - accuracy: 0.9695 - loss: 0.1414 - val_accuracy: 0.9791 - val_loss: 0.1362\n",
      "Epoch 3/10\n",
      "\u001b[1m128/128\u001b[0m \u001b[32m━━━━━━━━━━━━━━━━━━━━\u001b[0m\u001b[37m\u001b[0m \u001b[1m1s\u001b[0m 6ms/step - accuracy: 0.9866 - loss: 0.0591 - val_accuracy: 0.9839 - val_loss: 0.1190\n",
      "Epoch 4/10\n",
      "\u001b[1m128/128\u001b[0m \u001b[32m━━━━━━━━━━━━━━━━━━━━\u001b[0m\u001b[37m\u001b[0m \u001b[1m1s\u001b[0m 6ms/step - accuracy: 0.9921 - loss: 0.0347 - val_accuracy: 0.9867 - val_loss: 0.1152\n",
      "Epoch 5/10\n",
      "\u001b[1m128/128\u001b[0m \u001b[32m━━━━━━━━━━━━━━━━━━━━\u001b[0m\u001b[37m\u001b[0m \u001b[1m1s\u001b[0m 6ms/step - accuracy: 0.9946 - loss: 0.0236 - val_accuracy: 0.9876 - val_loss: 0.1135\n",
      "Epoch 6/10\n",
      "\u001b[1m128/128\u001b[0m \u001b[32m━━━━━━━━━━━━━━━━━━━━\u001b[0m\u001b[37m\u001b[0m \u001b[1m1s\u001b[0m 6ms/step - accuracy: 0.9959 - loss: 0.0176 - val_accuracy: 0.9879 - val_loss: 0.1132\n",
      "Epoch 7/10\n",
      "\u001b[1m128/128\u001b[0m \u001b[32m━━━━━━━━━━━━━━━━━━━━\u001b[0m\u001b[37m\u001b[0m \u001b[1m1s\u001b[0m 6ms/step - accuracy: 0.9963 - loss: 0.0146 - val_accuracy: 0.9887 - val_loss: 0.1142\n",
      "Epoch 8/10\n",
      "\u001b[1m128/128\u001b[0m \u001b[32m━━━━━━━━━━━━━━━━━━━━\u001b[0m\u001b[37m\u001b[0m \u001b[1m1s\u001b[0m 6ms/step - accuracy: 0.9970 - loss: 0.0125 - val_accuracy: 0.9881 - val_loss: 0.1160\n",
      "Epoch 9/10\n",
      "\u001b[1m128/128\u001b[0m \u001b[32m━━━━━━━━━━━━━━━━━━━━\u001b[0m\u001b[37m\u001b[0m \u001b[1m1s\u001b[0m 6ms/step - accuracy: 0.9975 - loss: 0.0104 - val_accuracy: 0.9886 - val_loss: 0.1168\n",
      "Epoch 10/10\n",
      "\u001b[1m128/128\u001b[0m \u001b[32m━━━━━━━━━━━━━━━━━━━━\u001b[0m\u001b[37m\u001b[0m \u001b[1m1s\u001b[0m 7ms/step - accuracy: 0.9980 - loss: 0.0081 - val_accuracy: 0.9892 - val_loss: 0.1160\n",
      "\u001b[1m29/29\u001b[0m \u001b[32m━━━━━━━━━━━━━━━━━━━━\u001b[0m\u001b[37m\u001b[0m \u001b[1m0s\u001b[0m 3ms/step - accuracy: 0.9898 - loss: 0.1007\n",
      "\u001b[1m28/28\u001b[0m \u001b[32m━━━━━━━━━━━━━━━━━━━━\u001b[0m\u001b[37m\u001b[0m \u001b[1m7s\u001b[0m 242ms/step - accuracy: 0.9880 - loss: 0.1126\n",
      "\u001b[1m29/29\u001b[0m \u001b[32m━━━━━━━━━━━━━━━━━━━━\u001b[0m\u001b[37m\u001b[0m \u001b[1m12s\u001b[0m 200ms/step\n",
      "\u001b[1m28/28\u001b[0m \u001b[32m━━━━━━━━━━━━━━━━━━━━\u001b[0m\u001b[37m\u001b[0m \u001b[1m5s\u001b[0m 184ms/step\n",
      " configuració  embedding dim  val_accuracy  f1_score_val  test_accuracy  f1_score_test\n",
      "            5           1000      0.989215      0.706211       0.988823       0.606209\n",
      "            3           1000      0.988803      0.686395       0.989609       0.644429\n",
      "            4           1000      0.989167      0.680842       0.989044       0.616873\n",
      "            1           1000      0.988246      0.673083       0.989192       0.601365\n",
      "            2           1000      0.988464      0.662567       0.988774       0.602556\n"
     ]
    }
   ],
   "source": [
    "random.seed(42)\n",
    "np.random.seed(42)\n",
    "tf.random.set_seed(42)\n",
    "\n",
    "emb = 1000\n",
    "results = []\n",
    "\n",
    "for config in range(1,6):\n",
    "  accuracy_val, accuracy_test, f1_score_val, f1_score_test = model(train_pad_sequences, val_pad_sequences, test_pad_sequences, train_labels_one_hot, val_labels_one_hot, test_labels_one_hot,\n",
    "                        len(unique_words_dict) + 1, emb, max_sequence_length, num_classes, config)\n",
    "  results.append({\n",
    "        'configuració': config,\n",
    "        'embedding dim': emb,\n",
    "        'val_accuracy': accuracy_val,\n",
    "        'f1_score_val': f1_score_val,\n",
    "        'test_accuracy': accuracy_test,\n",
    "        'f1_score_test': f1_score_test\n",
    "    })\n",
    "\n",
    "results_df = pd.DataFrame(results)\n",
    "results_df = results_df.sort_values(by='f1_score_val', ascending=False)\n",
    "print(results_df.to_string(index=False))"
   ]
  },
  {
   "cell_type": "markdown",
   "metadata": {
    "id": "9OyWYAGpn8H5"
   },
   "source": [
    "### 4. Recurrents"
   ]
  },
  {
   "cell_type": "markdown",
   "metadata": {},
   "source": [
    "Provem diferents configuracions amb xarxes recurrents."
   ]
  },
  {
   "cell_type": "code",
   "execution_count": null,
   "metadata": {
    "id": "2s5Wad1KoM4l"
   },
   "outputs": [],
   "source": [
    "def model(X_train, X_val, X_test, y_train, y_val, y_test, vocab_size, embedding_dim, max_sequence_length, num_classes, config):\n",
    "    model = Sequential()\n",
    "    model.add(Embedding(input_dim=vocab_size, output_dim=embedding_dim, input_length=max_sequence_length))\n",
    "\n",
    "    if config == 1:\n",
    "        model.add(LSTM(128, return_sequences=True))\n",
    "\n",
    "    elif config == 2:\n",
    "        model.add(GRU(128, return_sequences=True))\n",
    "\n",
    "    elif config == 3:\n",
    "        model.add(LSTM(128, return_sequences=True))\n",
    "        model.add(LSTM(64, return_sequences=True))\n",
    "\n",
    "    elif config == 4:\n",
    "        model.add(GRU(128, return_sequences=True))\n",
    "        model.add(GRU(64, return_sequences=True))\n",
    "\n",
    "    elif config == 5:\n",
    "        model.add(Bidirectional(GRU(128, return_sequences=True)))\n",
    "\n",
    "    elif config == 6:\n",
    "        model.add(Bidirectional(LSTM(128, return_sequences=True)))\n",
    "\n",
    "    elif config == 7:\n",
    "        model.add(Bidirectional(GRU(128, return_sequences=True)))\n",
    "        model.add(Bidirectional(LSTM(64, return_sequences=True)))\n",
    "\n",
    "    elif config == 8:\n",
    "        model.add(Bidirectional(LSTM(128, return_sequences=True)))\n",
    "        model.add(Bidirectional(GRU(64, return_sequences=True)))\n",
    "\n",
    "\n",
    "    # Capa densa\n",
    "    model.add(Dense(64, activation='relu'))\n",
    "    model.add(TimeDistributed(Dense(num_classes, activation='softmax')))\n",
    "\n",
    "    # Compilar el model\n",
    "    model.compile(optimizer='adam', loss='categorical_crossentropy', metrics=['accuracy'])\n",
    "\n",
    "    # Entrenament\n",
    "    batch_size = 32\n",
    "    epochs = 10\n",
    "    history = model.fit(X_train, y_train, batch_size=batch_size, epochs=epochs, validation_data=(X_val, y_val))\n",
    "\n",
    "    # Avaluació\n",
    "    loss_val, accuracy_val = model.evaluate(X_val, y_val, batch_size=batch_size)\n",
    "    loss_test, accuracy_test = model.evaluate(X_test, y_test, batch_size=batch_size)\n",
    "\n",
    "    # F1-SCORE\n",
    "    val_true_labels = np.argmax(y_val, axis=2).flatten()\n",
    "    test_true_labels = np.argmax(y_test, axis=2).flatten()\n",
    "\n",
    "    val_predictions = model.predict(X_val, batch_size=batch_size)\n",
    "    test_predictions = model.predict(X_test, batch_size=batch_size)\n",
    "\n",
    "    val_predicted_labels = np.argmax(val_predictions, axis=2).flatten()\n",
    "    test_predicted_labels = np.argmax(test_predictions, axis=2).flatten()\n",
    "\n",
    "    f1_score_val = f1_score(val_true_labels, val_predicted_labels, average='macro')\n",
    "    f1_score_test = f1_score(test_true_labels, test_predicted_labels, average='macro')\n",
    "\n",
    "    return accuracy_val, accuracy_test, f1_score_val, f1_score_test"
   ]
  },
  {
   "cell_type": "code",
   "execution_count": null,
   "metadata": {
    "colab": {
     "base_uri": "https://localhost:8080/"
    },
    "id": "eKNokaoLoUiB",
    "outputId": "f47f1819-76ef-49e9-eabe-13900b0def54"
   },
   "outputs": [
    {
     "name": "stderr",
     "output_type": "stream",
     "text": [
      "/usr/local/lib/python3.10/dist-packages/keras/src/layers/core/embedding.py:90: UserWarning: Argument `input_length` is deprecated. Just remove it.\n",
      "  warnings.warn(\n"
     ]
    },
    {
     "name": "stdout",
     "output_type": "stream",
     "text": [
      "Epoch 1/10\n",
      "\u001b[1m128/128\u001b[0m \u001b[32m━━━━━━━━━━━━━━━━━━━━\u001b[0m\u001b[37m\u001b[0m \u001b[1m6s\u001b[0m 19ms/step - accuracy: 0.8542 - loss: 1.3797 - val_accuracy: 0.9559 - val_loss: 0.2149\n",
      "Epoch 2/10\n",
      "\u001b[1m128/128\u001b[0m \u001b[32m━━━━━━━━━━━━━━━━━━━━\u001b[0m\u001b[37m\u001b[0m \u001b[1m2s\u001b[0m 12ms/step - accuracy: 0.9694 - loss: 0.1508 - val_accuracy: 0.9803 - val_loss: 0.1260\n",
      "Epoch 3/10\n",
      "\u001b[1m128/128\u001b[0m \u001b[32m━━━━━━━━━━━━━━━━━━━━\u001b[0m\u001b[37m\u001b[0m \u001b[1m3s\u001b[0m 23ms/step - accuracy: 0.9870 - loss: 0.0664 - val_accuracy: 0.9854 - val_loss: 0.1044\n",
      "Epoch 4/10\n",
      "\u001b[1m128/128\u001b[0m \u001b[32m━━━━━━━━━━━━━━━━━━━━\u001b[0m\u001b[37m\u001b[0m \u001b[1m4s\u001b[0m 13ms/step - accuracy: 0.9923 - loss: 0.0382 - val_accuracy: 0.9874 - val_loss: 0.0988\n",
      "Epoch 5/10\n",
      "\u001b[1m128/128\u001b[0m \u001b[32m━━━━━━━━━━━━━━━━━━━━\u001b[0m\u001b[37m\u001b[0m \u001b[1m3s\u001b[0m 16ms/step - accuracy: 0.9949 - loss: 0.0253 - val_accuracy: 0.9885 - val_loss: 0.0968\n",
      "Epoch 6/10\n",
      "\u001b[1m128/128\u001b[0m \u001b[32m━━━━━━━━━━━━━━━━━━━━\u001b[0m\u001b[37m\u001b[0m \u001b[1m2s\u001b[0m 13ms/step - accuracy: 0.9964 - loss: 0.0183 - val_accuracy: 0.9893 - val_loss: 0.0949\n",
      "Epoch 7/10\n",
      "\u001b[1m128/128\u001b[0m \u001b[32m━━━━━━━━━━━━━━━━━━━━\u001b[0m\u001b[37m\u001b[0m \u001b[1m2s\u001b[0m 13ms/step - accuracy: 0.9969 - loss: 0.0142 - val_accuracy: 0.9898 - val_loss: 0.0940\n",
      "Epoch 8/10\n",
      "\u001b[1m128/128\u001b[0m \u001b[32m━━━━━━━━━━━━━━━━━━━━\u001b[0m\u001b[37m\u001b[0m \u001b[1m2s\u001b[0m 13ms/step - accuracy: 0.9975 - loss: 0.0113 - val_accuracy: 0.9902 - val_loss: 0.0939\n",
      "Epoch 9/10\n",
      "\u001b[1m128/128\u001b[0m \u001b[32m━━━━━━━━━━━━━━━━━━━━\u001b[0m\u001b[37m\u001b[0m \u001b[1m2s\u001b[0m 13ms/step - accuracy: 0.9978 - loss: 0.0090 - val_accuracy: 0.9902 - val_loss: 0.0941\n",
      "Epoch 10/10\n",
      "\u001b[1m128/128\u001b[0m \u001b[32m━━━━━━━━━━━━━━━━━━━━\u001b[0m\u001b[37m\u001b[0m \u001b[1m3s\u001b[0m 13ms/step - accuracy: 0.9983 - loss: 0.0071 - val_accuracy: 0.9904 - val_loss: 0.0950\n",
      "\u001b[1m29/29\u001b[0m \u001b[32m━━━━━━━━━━━━━━━━━━━━\u001b[0m\u001b[37m\u001b[0m \u001b[1m0s\u001b[0m 7ms/step - accuracy: 0.9916 - loss: 0.0828\n",
      "\u001b[1m28/28\u001b[0m \u001b[32m━━━━━━━━━━━━━━━━━━━━\u001b[0m\u001b[37m\u001b[0m \u001b[1m0s\u001b[0m 7ms/step - accuracy: 0.9896 - loss: 0.0896\n",
      "\u001b[1m29/29\u001b[0m \u001b[32m━━━━━━━━━━━━━━━━━━━━\u001b[0m\u001b[37m\u001b[0m \u001b[1m1s\u001b[0m 24ms/step\n",
      "\u001b[1m28/28\u001b[0m \u001b[32m━━━━━━━━━━━━━━━━━━━━\u001b[0m\u001b[37m\u001b[0m \u001b[1m0s\u001b[0m 4ms/step\n"
     ]
    },
    {
     "name": "stderr",
     "output_type": "stream",
     "text": [
      "/usr/local/lib/python3.10/dist-packages/keras/src/layers/core/embedding.py:90: UserWarning: Argument `input_length` is deprecated. Just remove it.\n",
      "  warnings.warn(\n"
     ]
    },
    {
     "name": "stdout",
     "output_type": "stream",
     "text": [
      "Epoch 1/10\n",
      "\u001b[1m128/128\u001b[0m \u001b[32m━━━━━━━━━━━━━━━━━━━━\u001b[0m\u001b[37m\u001b[0m \u001b[1m6s\u001b[0m 25ms/step - accuracy: 0.8783 - loss: 1.1583 - val_accuracy: 0.9744 - val_loss: 0.1703\n",
      "Epoch 2/10\n",
      "\u001b[1m128/128\u001b[0m \u001b[32m━━━━━━━━━━━━━━━━━━━━\u001b[0m\u001b[37m\u001b[0m \u001b[1m2s\u001b[0m 14ms/step - accuracy: 0.9821 - loss: 0.1002 - val_accuracy: 0.9829 - val_loss: 0.1181\n",
      "Epoch 3/10\n",
      "\u001b[1m128/128\u001b[0m \u001b[32m━━━━━━━━━━━━━━━━━━━━\u001b[0m\u001b[37m\u001b[0m \u001b[1m3s\u001b[0m 16ms/step - accuracy: 0.9901 - loss: 0.0493 - val_accuracy: 0.9858 - val_loss: 0.1074\n",
      "Epoch 4/10\n",
      "\u001b[1m128/128\u001b[0m \u001b[32m━━━━━━━━━━━━━━━━━━━━\u001b[0m\u001b[37m\u001b[0m \u001b[1m2s\u001b[0m 13ms/step - accuracy: 0.9930 - loss: 0.0324 - val_accuracy: 0.9874 - val_loss: 0.1032\n",
      "Epoch 5/10\n",
      "\u001b[1m128/128\u001b[0m \u001b[32m━━━━━━━━━━━━━━━━━━━━\u001b[0m\u001b[37m\u001b[0m \u001b[1m3s\u001b[0m 20ms/step - accuracy: 0.9947 - loss: 0.0234 - val_accuracy: 0.9882 - val_loss: 0.1003\n",
      "Epoch 6/10\n",
      "\u001b[1m128/128\u001b[0m \u001b[32m━━━━━━━━━━━━━━━━━━━━\u001b[0m\u001b[37m\u001b[0m \u001b[1m2s\u001b[0m 12ms/step - accuracy: 0.9960 - loss: 0.0175 - val_accuracy: 0.9891 - val_loss: 0.0990\n",
      "Epoch 7/10\n",
      "\u001b[1m128/128\u001b[0m \u001b[32m━━━━━━━━━━━━━━━━━━━━\u001b[0m\u001b[37m\u001b[0m \u001b[1m2s\u001b[0m 12ms/step - accuracy: 0.9968 - loss: 0.0136 - val_accuracy: 0.9897 - val_loss: 0.0988\n",
      "Epoch 8/10\n",
      "\u001b[1m128/128\u001b[0m \u001b[32m━━━━━━━━━━━━━━━━━━━━\u001b[0m\u001b[37m\u001b[0m \u001b[1m3s\u001b[0m 13ms/step - accuracy: 0.9973 - loss: 0.0110 - val_accuracy: 0.9901 - val_loss: 0.0990\n",
      "Epoch 9/10\n",
      "\u001b[1m128/128\u001b[0m \u001b[32m━━━━━━━━━━━━━━━━━━━━\u001b[0m\u001b[37m\u001b[0m \u001b[1m2s\u001b[0m 17ms/step - accuracy: 0.9979 - loss: 0.0088 - val_accuracy: 0.9905 - val_loss: 0.0994\n",
      "Epoch 10/10\n",
      "\u001b[1m128/128\u001b[0m \u001b[32m━━━━━━━━━━━━━━━━━━━━\u001b[0m\u001b[37m\u001b[0m \u001b[1m2s\u001b[0m 12ms/step - accuracy: 0.9982 - loss: 0.0068 - val_accuracy: 0.9905 - val_loss: 0.1003\n",
      "\u001b[1m29/29\u001b[0m \u001b[32m━━━━━━━━━━━━━━━━━━━━\u001b[0m\u001b[37m\u001b[0m \u001b[1m0s\u001b[0m 5ms/step - accuracy: 0.9918 - loss: 0.0853\n",
      "\u001b[1m28/28\u001b[0m \u001b[32m━━━━━━━━━━━━━━━━━━━━\u001b[0m\u001b[37m\u001b[0m \u001b[1m0s\u001b[0m 5ms/step - accuracy: 0.9901 - loss: 0.0952\n",
      "\u001b[1m29/29\u001b[0m \u001b[32m━━━━━━━━━━━━━━━━━━━━\u001b[0m\u001b[37m\u001b[0m \u001b[1m1s\u001b[0m 18ms/step\n",
      "\u001b[1m28/28\u001b[0m \u001b[32m━━━━━━━━━━━━━━━━━━━━\u001b[0m\u001b[37m\u001b[0m \u001b[1m0s\u001b[0m 4ms/step\n"
     ]
    },
    {
     "name": "stderr",
     "output_type": "stream",
     "text": [
      "/usr/local/lib/python3.10/dist-packages/keras/src/layers/core/embedding.py:90: UserWarning: Argument `input_length` is deprecated. Just remove it.\n",
      "  warnings.warn(\n"
     ]
    },
    {
     "name": "stdout",
     "output_type": "stream",
     "text": [
      "Epoch 1/10\n",
      "\u001b[1m128/128\u001b[0m \u001b[32m━━━━━━━━━━━━━━━━━━━━\u001b[0m\u001b[37m\u001b[0m \u001b[1m8s\u001b[0m 23ms/step - accuracy: 0.7795 - loss: 1.7384 - val_accuracy: 0.9347 - val_loss: 0.3055\n",
      "Epoch 2/10\n",
      "\u001b[1m128/128\u001b[0m \u001b[32m━━━━━━━━━━━━━━━━━━━━\u001b[0m\u001b[37m\u001b[0m \u001b[1m2s\u001b[0m 19ms/step - accuracy: 0.9447 - loss: 0.2562 - val_accuracy: 0.9566 - val_loss: 0.2024\n",
      "Epoch 3/10\n",
      "\u001b[1m128/128\u001b[0m \u001b[32m━━━━━━━━━━━━━━━━━━━━\u001b[0m\u001b[37m\u001b[0m \u001b[1m2s\u001b[0m 15ms/step - accuracy: 0.9663 - loss: 0.1504 - val_accuracy: 0.9753 - val_loss: 0.1472\n",
      "Epoch 4/10\n",
      "\u001b[1m128/128\u001b[0m \u001b[32m━━━━━━━━━━━━━━━━━━━━\u001b[0m\u001b[37m\u001b[0m \u001b[1m2s\u001b[0m 14ms/step - accuracy: 0.9806 - loss: 0.0906 - val_accuracy: 0.9802 - val_loss: 0.1227\n",
      "Epoch 5/10\n",
      "\u001b[1m128/128\u001b[0m \u001b[32m━━━━━━━━━━━━━━━━━━━━\u001b[0m\u001b[37m\u001b[0m \u001b[1m3s\u001b[0m 15ms/step - accuracy: 0.9869 - loss: 0.0601 - val_accuracy: 0.9840 - val_loss: 0.1095\n",
      "Epoch 6/10\n",
      "\u001b[1m128/128\u001b[0m \u001b[32m━━━━━━━━━━━━━━━━━━━━\u001b[0m\u001b[37m\u001b[0m \u001b[1m2s\u001b[0m 15ms/step - accuracy: 0.9914 - loss: 0.0416 - val_accuracy: 0.9861 - val_loss: 0.1026\n",
      "Epoch 7/10\n",
      "\u001b[1m128/128\u001b[0m \u001b[32m━━━━━━━━━━━━━━━━━━━━\u001b[0m\u001b[37m\u001b[0m \u001b[1m3s\u001b[0m 19ms/step - accuracy: 0.9940 - loss: 0.0292 - val_accuracy: 0.9878 - val_loss: 0.0992\n",
      "Epoch 8/10\n",
      "\u001b[1m128/128\u001b[0m \u001b[32m━━━━━━━━━━━━━━━━━━━━\u001b[0m\u001b[37m\u001b[0m \u001b[1m3s\u001b[0m 20ms/step - accuracy: 0.9960 - loss: 0.0213 - val_accuracy: 0.9888 - val_loss: 0.0977\n",
      "Epoch 9/10\n",
      "\u001b[1m128/128\u001b[0m \u001b[32m━━━━━━━━━━━━━━━━━━━━\u001b[0m\u001b[37m\u001b[0m \u001b[1m5s\u001b[0m 15ms/step - accuracy: 0.9969 - loss: 0.0163 - val_accuracy: 0.9896 - val_loss: 0.0967\n",
      "Epoch 10/10\n",
      "\u001b[1m128/128\u001b[0m \u001b[32m━━━━━━━━━━━━━━━━━━━━\u001b[0m\u001b[37m\u001b[0m \u001b[1m2s\u001b[0m 15ms/step - accuracy: 0.9974 - loss: 0.0128 - val_accuracy: 0.9895 - val_loss: 0.0975\n",
      "\u001b[1m29/29\u001b[0m \u001b[32m━━━━━━━━━━━━━━━━━━━━\u001b[0m\u001b[37m\u001b[0m \u001b[1m0s\u001b[0m 5ms/step - accuracy: 0.9905 - loss: 0.0855\n",
      "\u001b[1m28/28\u001b[0m \u001b[32m━━━━━━━━━━━━━━━━━━━━\u001b[0m\u001b[37m\u001b[0m \u001b[1m0s\u001b[0m 8ms/step - accuracy: 0.9891 - loss: 0.0936\n",
      "\u001b[1m29/29\u001b[0m \u001b[32m━━━━━━━━━━━━━━━━━━━━\u001b[0m\u001b[37m\u001b[0m \u001b[1m2s\u001b[0m 33ms/step\n",
      "\u001b[1m28/28\u001b[0m \u001b[32m━━━━━━━━━━━━━━━━━━━━\u001b[0m\u001b[37m\u001b[0m \u001b[1m0s\u001b[0m 4ms/step\n"
     ]
    },
    {
     "name": "stderr",
     "output_type": "stream",
     "text": [
      "/usr/local/lib/python3.10/dist-packages/keras/src/layers/core/embedding.py:90: UserWarning: Argument `input_length` is deprecated. Just remove it.\n",
      "  warnings.warn(\n"
     ]
    },
    {
     "name": "stdout",
     "output_type": "stream",
     "text": [
      "Epoch 1/10\n",
      "\u001b[1m128/128\u001b[0m \u001b[32m━━━━━━━━━━━━━━━━━━━━\u001b[0m\u001b[37m\u001b[0m \u001b[1m6s\u001b[0m 20ms/step - accuracy: 0.8377 - loss: 1.3614 - val_accuracy: 0.9549 - val_loss: 0.2184\n",
      "Epoch 2/10\n",
      "\u001b[1m128/128\u001b[0m \u001b[32m━━━━━━━━━━━━━━━━━━━━\u001b[0m\u001b[37m\u001b[0m \u001b[1m5s\u001b[0m 21ms/step - accuracy: 0.9657 - loss: 0.1599 - val_accuracy: 0.9772 - val_loss: 0.1439\n",
      "Epoch 3/10\n",
      "\u001b[1m128/128\u001b[0m \u001b[32m━━━━━━━━━━━━━━━━━━━━\u001b[0m\u001b[37m\u001b[0m \u001b[1m4s\u001b[0m 15ms/step - accuracy: 0.9825 - loss: 0.0850 - val_accuracy: 0.9815 - val_loss: 0.1181\n",
      "Epoch 4/10\n",
      "\u001b[1m128/128\u001b[0m \u001b[32m━━━━━━━━━━━━━━━━━━━━\u001b[0m\u001b[37m\u001b[0m \u001b[1m2s\u001b[0m 14ms/step - accuracy: 0.9880 - loss: 0.0544 - val_accuracy: 0.9843 - val_loss: 0.1085\n",
      "Epoch 5/10\n",
      "\u001b[1m128/128\u001b[0m \u001b[32m━━━━━━━━━━━━━━━━━━━━\u001b[0m\u001b[37m\u001b[0m \u001b[1m2s\u001b[0m 14ms/step - accuracy: 0.9912 - loss: 0.0390 - val_accuracy: 0.9864 - val_loss: 0.1019\n",
      "Epoch 6/10\n",
      "\u001b[1m128/128\u001b[0m \u001b[32m━━━━━━━━━━━━━━━━━━━━\u001b[0m\u001b[37m\u001b[0m \u001b[1m3s\u001b[0m 17ms/step - accuracy: 0.9937 - loss: 0.0290 - val_accuracy: 0.9880 - val_loss: 0.0977\n",
      "Epoch 7/10\n",
      "\u001b[1m128/128\u001b[0m \u001b[32m━━━━━━━━━━━━━━━━━━━━\u001b[0m\u001b[37m\u001b[0m \u001b[1m2s\u001b[0m 18ms/step - accuracy: 0.9952 - loss: 0.0225 - val_accuracy: 0.9887 - val_loss: 0.0961\n",
      "Epoch 8/10\n",
      "\u001b[1m128/128\u001b[0m \u001b[32m━━━━━━━━━━━━━━━━━━━━\u001b[0m\u001b[37m\u001b[0m \u001b[1m2s\u001b[0m 14ms/step - accuracy: 0.9959 - loss: 0.0182 - val_accuracy: 0.9891 - val_loss: 0.0952\n",
      "Epoch 9/10\n",
      "\u001b[1m128/128\u001b[0m \u001b[32m━━━━━━━━━━━━━━━━━━━━\u001b[0m\u001b[37m\u001b[0m \u001b[1m3s\u001b[0m 14ms/step - accuracy: 0.9965 - loss: 0.0149 - val_accuracy: 0.9894 - val_loss: 0.0948\n",
      "Epoch 10/10\n",
      "\u001b[1m128/128\u001b[0m \u001b[32m━━━━━━━━━━━━━━━━━━━━\u001b[0m\u001b[37m\u001b[0m \u001b[1m2s\u001b[0m 14ms/step - accuracy: 0.9972 - loss: 0.0122 - val_accuracy: 0.9899 - val_loss: 0.0946\n",
      "\u001b[1m29/29\u001b[0m \u001b[32m━━━━━━━━━━━━━━━━━━━━\u001b[0m\u001b[37m\u001b[0m \u001b[1m0s\u001b[0m 6ms/step - accuracy: 0.9913 - loss: 0.0821\n",
      "\u001b[1m28/28\u001b[0m \u001b[32m━━━━━━━━━━━━━━━━━━━━\u001b[0m\u001b[37m\u001b[0m \u001b[1m0s\u001b[0m 5ms/step - accuracy: 0.9896 - loss: 0.0912\n",
      "\u001b[1m29/29\u001b[0m \u001b[32m━━━━━━━━━━━━━━━━━━━━\u001b[0m\u001b[37m\u001b[0m \u001b[1m1s\u001b[0m 21ms/step\n",
      "\u001b[1m28/28\u001b[0m \u001b[32m━━━━━━━━━━━━━━━━━━━━\u001b[0m\u001b[37m\u001b[0m \u001b[1m0s\u001b[0m 4ms/step\n"
     ]
    },
    {
     "name": "stderr",
     "output_type": "stream",
     "text": [
      "/usr/local/lib/python3.10/dist-packages/keras/src/layers/core/embedding.py:90: UserWarning: Argument `input_length` is deprecated. Just remove it.\n",
      "  warnings.warn(\n"
     ]
    },
    {
     "name": "stdout",
     "output_type": "stream",
     "text": [
      "Epoch 1/10\n",
      "\u001b[1m128/128\u001b[0m \u001b[32m━━━━━━━━━━━━━━━━━━━━\u001b[0m\u001b[37m\u001b[0m \u001b[1m8s\u001b[0m 22ms/step - accuracy: 0.8683 - loss: 1.0904 - val_accuracy: 0.9763 - val_loss: 0.1578\n",
      "Epoch 2/10\n",
      "\u001b[1m128/128\u001b[0m \u001b[32m━━━━━━━━━━━━━━━━━━━━\u001b[0m\u001b[37m\u001b[0m \u001b[1m2s\u001b[0m 16ms/step - accuracy: 0.9830 - loss: 0.0896 - val_accuracy: 0.9837 - val_loss: 0.1130\n",
      "Epoch 3/10\n",
      "\u001b[1m128/128\u001b[0m \u001b[32m━━━━━━━━━━━━━━━━━━━━\u001b[0m\u001b[37m\u001b[0m \u001b[1m2s\u001b[0m 16ms/step - accuracy: 0.9908 - loss: 0.0427 - val_accuracy: 0.9874 - val_loss: 0.1016\n",
      "Epoch 4/10\n",
      "\u001b[1m128/128\u001b[0m \u001b[32m━━━━━━━━━━━━━━━━━━━━\u001b[0m\u001b[37m\u001b[0m \u001b[1m3s\u001b[0m 19ms/step - accuracy: 0.9943 - loss: 0.0256 - val_accuracy: 0.9890 - val_loss: 0.0967\n",
      "Epoch 5/10\n",
      "\u001b[1m128/128\u001b[0m \u001b[32m━━━━━━━━━━━━━━━━━━━━\u001b[0m\u001b[37m\u001b[0m \u001b[1m3s\u001b[0m 19ms/step - accuracy: 0.9962 - loss: 0.0170 - val_accuracy: 0.9901 - val_loss: 0.0951\n",
      "Epoch 6/10\n",
      "\u001b[1m128/128\u001b[0m \u001b[32m━━━━━━━━━━━━━━━━━━━━\u001b[0m\u001b[37m\u001b[0m \u001b[1m2s\u001b[0m 16ms/step - accuracy: 0.9974 - loss: 0.0121 - val_accuracy: 0.9904 - val_loss: 0.0943\n",
      "Epoch 7/10\n",
      "\u001b[1m128/128\u001b[0m \u001b[32m━━━━━━━━━━━━━━━━━━━━\u001b[0m\u001b[37m\u001b[0m \u001b[1m3s\u001b[0m 16ms/step - accuracy: 0.9982 - loss: 0.0087 - val_accuracy: 0.9910 - val_loss: 0.0948\n",
      "Epoch 8/10\n",
      "\u001b[1m128/128\u001b[0m \u001b[32m━━━━━━━━━━━━━━━━━━━━\u001b[0m\u001b[37m\u001b[0m \u001b[1m2s\u001b[0m 16ms/step - accuracy: 0.9986 - loss: 0.0063 - val_accuracy: 0.9913 - val_loss: 0.0959\n",
      "Epoch 9/10\n",
      "\u001b[1m128/128\u001b[0m \u001b[32m━━━━━━━━━━━━━━━━━━━━\u001b[0m\u001b[37m\u001b[0m \u001b[1m2s\u001b[0m 16ms/step - accuracy: 0.9990 - loss: 0.0046 - val_accuracy: 0.9916 - val_loss: 0.0965\n",
      "Epoch 10/10\n",
      "\u001b[1m128/128\u001b[0m \u001b[32m━━━━━━━━━━━━━━━━━━━━\u001b[0m\u001b[37m\u001b[0m \u001b[1m3s\u001b[0m 20ms/step - accuracy: 0.9993 - loss: 0.0035 - val_accuracy: 0.9918 - val_loss: 0.0976\n",
      "\u001b[1m29/29\u001b[0m \u001b[32m━━━━━━━━━━━━━━━━━━━━\u001b[0m\u001b[37m\u001b[0m \u001b[1m0s\u001b[0m 8ms/step - accuracy: 0.9929 - loss: 0.0818\n",
      "\u001b[1m28/28\u001b[0m \u001b[32m━━━━━━━━━━━━━━━━━━━━\u001b[0m\u001b[37m\u001b[0m \u001b[1m0s\u001b[0m 7ms/step - accuracy: 0.9909 - loss: 0.0976\n",
      "\u001b[1m29/29\u001b[0m \u001b[32m━━━━━━━━━━━━━━━━━━━━\u001b[0m\u001b[37m\u001b[0m \u001b[1m1s\u001b[0m 22ms/step\n",
      "\u001b[1m28/28\u001b[0m \u001b[32m━━━━━━━━━━━━━━━━━━━━\u001b[0m\u001b[37m\u001b[0m \u001b[1m0s\u001b[0m 4ms/step\n"
     ]
    },
    {
     "name": "stderr",
     "output_type": "stream",
     "text": [
      "/usr/local/lib/python3.10/dist-packages/keras/src/layers/core/embedding.py:90: UserWarning: Argument `input_length` is deprecated. Just remove it.\n",
      "  warnings.warn(\n"
     ]
    },
    {
     "name": "stdout",
     "output_type": "stream",
     "text": [
      "Epoch 1/10\n",
      "\u001b[1m128/128\u001b[0m \u001b[32m━━━━━━━━━━━━━━━━━━━━\u001b[0m\u001b[37m\u001b[0m \u001b[1m7s\u001b[0m 28ms/step - accuracy: 0.8337 - loss: 1.1521 - val_accuracy: 0.9554 - val_loss: 0.2130\n",
      "Epoch 2/10\n",
      "\u001b[1m128/128\u001b[0m \u001b[32m━━━━━━━━━━━━━━━━━━━━\u001b[0m\u001b[37m\u001b[0m \u001b[1m2s\u001b[0m 17ms/step - accuracy: 0.9680 - loss: 0.1473 - val_accuracy: 0.9807 - val_loss: 0.1233\n",
      "Epoch 3/10\n",
      "\u001b[1m128/128\u001b[0m \u001b[32m━━━━━━━━━━━━━━━━━━━━\u001b[0m\u001b[37m\u001b[0m \u001b[1m2s\u001b[0m 16ms/step - accuracy: 0.9882 - loss: 0.0598 - val_accuracy: 0.9864 - val_loss: 0.0992\n",
      "Epoch 4/10\n",
      "\u001b[1m128/128\u001b[0m \u001b[32m━━━━━━━━━━━━━━━━━━━━\u001b[0m\u001b[37m\u001b[0m \u001b[1m3s\u001b[0m 17ms/step - accuracy: 0.9936 - loss: 0.0307 - val_accuracy: 0.9889 - val_loss: 0.0927\n",
      "Epoch 5/10\n",
      "\u001b[1m128/128\u001b[0m \u001b[32m━━━━━━━━━━━━━━━━━━━━\u001b[0m\u001b[37m\u001b[0m \u001b[1m2s\u001b[0m 16ms/step - accuracy: 0.9963 - loss: 0.0181 - val_accuracy: 0.9903 - val_loss: 0.0925\n",
      "Epoch 6/10\n",
      "\u001b[1m128/128\u001b[0m \u001b[32m━━━━━━━━━━━━━━━━━━━━\u001b[0m\u001b[37m\u001b[0m \u001b[1m4s\u001b[0m 29ms/step - accuracy: 0.9976 - loss: 0.0119 - val_accuracy: 0.9906 - val_loss: 0.0925\n",
      "Epoch 7/10\n",
      "\u001b[1m128/128\u001b[0m \u001b[32m━━━━━━━━━━━━━━━━━━━━\u001b[0m\u001b[37m\u001b[0m \u001b[1m4s\u001b[0m 17ms/step - accuracy: 0.9983 - loss: 0.0083 - val_accuracy: 0.9908 - val_loss: 0.0924\n",
      "Epoch 8/10\n",
      "\u001b[1m128/128\u001b[0m \u001b[32m━━━━━━━━━━━━━━━━━━━━\u001b[0m\u001b[37m\u001b[0m \u001b[1m2s\u001b[0m 16ms/step - accuracy: 0.9986 - loss: 0.0064 - val_accuracy: 0.9906 - val_loss: 0.0947\n",
      "Epoch 9/10\n",
      "\u001b[1m128/128\u001b[0m \u001b[32m━━━━━━━━━━━━━━━━━━━━\u001b[0m\u001b[37m\u001b[0m \u001b[1m3s\u001b[0m 16ms/step - accuracy: 0.9990 - loss: 0.0049 - val_accuracy: 0.9909 - val_loss: 0.0963\n",
      "Epoch 10/10\n",
      "\u001b[1m128/128\u001b[0m \u001b[32m━━━━━━━━━━━━━━━━━━━━\u001b[0m\u001b[37m\u001b[0m \u001b[1m2s\u001b[0m 19ms/step - accuracy: 0.9992 - loss: 0.0036 - val_accuracy: 0.9911 - val_loss: 0.0977\n",
      "\u001b[1m29/29\u001b[0m \u001b[32m━━━━━━━━━━━━━━━━━━━━\u001b[0m\u001b[37m\u001b[0m \u001b[1m0s\u001b[0m 9ms/step - accuracy: 0.9920 - loss: 0.0855\n",
      "\u001b[1m28/28\u001b[0m \u001b[32m━━━━━━━━━━━━━━━━━━━━\u001b[0m\u001b[37m\u001b[0m \u001b[1m0s\u001b[0m 9ms/step - accuracy: 0.9908 - loss: 0.0928\n",
      "\u001b[1m29/29\u001b[0m \u001b[32m━━━━━━━━━━━━━━━━━━━━\u001b[0m\u001b[37m\u001b[0m \u001b[1m1s\u001b[0m 22ms/step\n",
      "\u001b[1m28/28\u001b[0m \u001b[32m━━━━━━━━━━━━━━━━━━━━\u001b[0m\u001b[37m\u001b[0m \u001b[1m0s\u001b[0m 5ms/step\n"
     ]
    },
    {
     "name": "stderr",
     "output_type": "stream",
     "text": [
      "/usr/local/lib/python3.10/dist-packages/keras/src/layers/core/embedding.py:90: UserWarning: Argument `input_length` is deprecated. Just remove it.\n",
      "  warnings.warn(\n"
     ]
    },
    {
     "name": "stdout",
     "output_type": "stream",
     "text": [
      "Epoch 1/10\n",
      "\u001b[1m128/128\u001b[0m \u001b[32m━━━━━━━━━━━━━━━━━━━━\u001b[0m\u001b[37m\u001b[0m \u001b[1m10s\u001b[0m 31ms/step - accuracy: 0.8192 - loss: 1.2173 - val_accuracy: 0.9466 - val_loss: 0.2497\n",
      "Epoch 2/10\n",
      "\u001b[1m128/128\u001b[0m \u001b[32m━━━━━━━━━━━━━━━━━━━━\u001b[0m\u001b[37m\u001b[0m \u001b[1m3s\u001b[0m 25ms/step - accuracy: 0.9558 - loss: 0.1947 - val_accuracy: 0.9710 - val_loss: 0.1645\n",
      "Epoch 3/10\n",
      "\u001b[1m128/128\u001b[0m \u001b[32m━━━━━━━━━━━━━━━━━━━━\u001b[0m\u001b[37m\u001b[0m \u001b[1m3s\u001b[0m 21ms/step - accuracy: 0.9784 - loss: 0.1051 - val_accuracy: 0.9819 - val_loss: 0.1208\n",
      "Epoch 4/10\n",
      "\u001b[1m128/128\u001b[0m \u001b[32m━━━━━━━━━━━━━━━━━━━━\u001b[0m\u001b[37m\u001b[0m \u001b[1m3s\u001b[0m 21ms/step - accuracy: 0.9883 - loss: 0.0572 - val_accuracy: 0.9865 - val_loss: 0.1037\n",
      "Epoch 5/10\n",
      "\u001b[1m128/128\u001b[0m \u001b[32m━━━━━━━━━━━━━━━━━━━━\u001b[0m\u001b[37m\u001b[0m \u001b[1m3s\u001b[0m 21ms/step - accuracy: 0.9935 - loss: 0.0342 - val_accuracy: 0.9881 - val_loss: 0.0979\n",
      "Epoch 6/10\n",
      "\u001b[1m128/128\u001b[0m \u001b[32m━━━━━━━━━━━━━━━━━━━━\u001b[0m\u001b[37m\u001b[0m \u001b[1m5s\u001b[0m 23ms/step - accuracy: 0.9956 - loss: 0.0226 - val_accuracy: 0.9892 - val_loss: 0.0936\n",
      "Epoch 7/10\n",
      "\u001b[1m128/128\u001b[0m \u001b[32m━━━━━━━━━━━━━━━━━━━━\u001b[0m\u001b[37m\u001b[0m \u001b[1m5s\u001b[0m 23ms/step - accuracy: 0.9972 - loss: 0.0156 - val_accuracy: 0.9900 - val_loss: 0.0928\n",
      "Epoch 8/10\n",
      "\u001b[1m128/128\u001b[0m \u001b[32m━━━━━━━━━━━━━━━━━━━━\u001b[0m\u001b[37m\u001b[0m \u001b[1m3s\u001b[0m 25ms/step - accuracy: 0.9980 - loss: 0.0114 - val_accuracy: 0.9904 - val_loss: 0.0914\n",
      "Epoch 9/10\n",
      "\u001b[1m128/128\u001b[0m \u001b[32m━━━━━━━━━━━━━━━━━━━━\u001b[0m\u001b[37m\u001b[0m \u001b[1m5s\u001b[0m 22ms/step - accuracy: 0.9984 - loss: 0.0087 - val_accuracy: 0.9907 - val_loss: 0.0919\n",
      "Epoch 10/10\n",
      "\u001b[1m128/128\u001b[0m \u001b[32m━━━━━━━━━━━━━━━━━━━━\u001b[0m\u001b[37m\u001b[0m \u001b[1m3s\u001b[0m 21ms/step - accuracy: 0.9987 - loss: 0.0067 - val_accuracy: 0.9909 - val_loss: 0.0925\n",
      "\u001b[1m29/29\u001b[0m \u001b[32m━━━━━━━━━━━━━━━━━━━━\u001b[0m\u001b[37m\u001b[0m \u001b[1m0s\u001b[0m 8ms/step - accuracy: 0.9920 - loss: 0.0791\n",
      "\u001b[1m28/28\u001b[0m \u001b[32m━━━━━━━━━━━━━━━━━━━━\u001b[0m\u001b[37m\u001b[0m \u001b[1m0s\u001b[0m 8ms/step - accuracy: 0.9912 - loss: 0.0898\n",
      "\u001b[1m29/29\u001b[0m \u001b[32m━━━━━━━━━━━━━━━━━━━━\u001b[0m\u001b[37m\u001b[0m \u001b[1m1s\u001b[0m 28ms/step\n",
      "\u001b[1m28/28\u001b[0m \u001b[32m━━━━━━━━━━━━━━━━━━━━\u001b[0m\u001b[37m\u001b[0m \u001b[1m0s\u001b[0m 9ms/step\n"
     ]
    },
    {
     "name": "stderr",
     "output_type": "stream",
     "text": [
      "/usr/local/lib/python3.10/dist-packages/keras/src/layers/core/embedding.py:90: UserWarning: Argument `input_length` is deprecated. Just remove it.\n",
      "  warnings.warn(\n"
     ]
    },
    {
     "name": "stdout",
     "output_type": "stream",
     "text": [
      "Epoch 1/10\n",
      "\u001b[1m128/128\u001b[0m \u001b[32m━━━━━━━━━━━━━━━━━━━━\u001b[0m\u001b[37m\u001b[0m \u001b[1m9s\u001b[0m 28ms/step - accuracy: 0.8304 - loss: 1.1599 - val_accuracy: 0.9500 - val_loss: 0.2487\n",
      "Epoch 2/10\n",
      "\u001b[1m128/128\u001b[0m \u001b[32m━━━━━━━━━━━━━━━━━━━━\u001b[0m\u001b[37m\u001b[0m \u001b[1m5s\u001b[0m 29ms/step - accuracy: 0.9599 - loss: 0.1775 - val_accuracy: 0.9771 - val_loss: 0.1568\n",
      "Epoch 3/10\n",
      "\u001b[1m128/128\u001b[0m \u001b[32m━━━━━━━━━━━━━━━━━━━━\u001b[0m\u001b[37m\u001b[0m \u001b[1m5s\u001b[0m 36ms/step - accuracy: 0.9837 - loss: 0.0801 - val_accuracy: 0.9839 - val_loss: 0.1245\n",
      "Epoch 4/10\n",
      "\u001b[1m128/128\u001b[0m \u001b[32m━━━━━━━━━━━━━━━━━━━━\u001b[0m\u001b[37m\u001b[0m \u001b[1m6s\u001b[0m 39ms/step - accuracy: 0.9908 - loss: 0.0429 - val_accuracy: 0.9874 - val_loss: 0.1120\n",
      "Epoch 5/10\n",
      "\u001b[1m128/128\u001b[0m \u001b[32m━━━━━━━━━━━━━━━━━━━━\u001b[0m\u001b[37m\u001b[0m \u001b[1m3s\u001b[0m 26ms/step - accuracy: 0.9950 - loss: 0.0250 - val_accuracy: 0.9895 - val_loss: 0.1064\n",
      "Epoch 6/10\n",
      "\u001b[1m128/128\u001b[0m \u001b[32m━━━━━━━━━━━━━━━━━━━━\u001b[0m\u001b[37m\u001b[0m \u001b[1m5s\u001b[0m 22ms/step - accuracy: 0.9971 - loss: 0.0162 - val_accuracy: 0.9899 - val_loss: 0.1036\n",
      "Epoch 7/10\n",
      "\u001b[1m128/128\u001b[0m \u001b[32m━━━━━━━━━━━━━━━━━━━━\u001b[0m\u001b[37m\u001b[0m \u001b[1m5s\u001b[0m 24ms/step - accuracy: 0.9980 - loss: 0.0111 - val_accuracy: 0.9905 - val_loss: 0.1026\n",
      "Epoch 8/10\n",
      "\u001b[1m128/128\u001b[0m \u001b[32m━━━━━━━━━━━━━━━━━━━━\u001b[0m\u001b[37m\u001b[0m \u001b[1m5s\u001b[0m 22ms/step - accuracy: 0.9984 - loss: 0.0082 - val_accuracy: 0.9910 - val_loss: 0.1024\n",
      "Epoch 9/10\n",
      "\u001b[1m128/128\u001b[0m \u001b[32m━━━━━━━━━━━━━━━━━━━━\u001b[0m\u001b[37m\u001b[0m \u001b[1m3s\u001b[0m 22ms/step - accuracy: 0.9988 - loss: 0.0061 - val_accuracy: 0.9910 - val_loss: 0.1028\n",
      "Epoch 10/10\n",
      "\u001b[1m128/128\u001b[0m \u001b[32m━━━━━━━━━━━━━━━━━━━━\u001b[0m\u001b[37m\u001b[0m \u001b[1m6s\u001b[0m 27ms/step - accuracy: 0.9991 - loss: 0.0045 - val_accuracy: 0.9911 - val_loss: 0.1036\n",
      "\u001b[1m29/29\u001b[0m \u001b[32m━━━━━━━━━━━━━━━━━━━━\u001b[0m\u001b[37m\u001b[0m \u001b[1m0s\u001b[0m 14ms/step - accuracy: 0.9921 - loss: 0.0895\n",
      "\u001b[1m28/28\u001b[0m \u001b[32m━━━━━━━━━━━━━━━━━━━━\u001b[0m\u001b[37m\u001b[0m \u001b[1m0s\u001b[0m 11ms/step - accuracy: 0.9905 - loss: 0.1003\n",
      "\u001b[1m29/29\u001b[0m \u001b[32m━━━━━━━━━━━━━━━━━━━━\u001b[0m\u001b[37m\u001b[0m \u001b[1m2s\u001b[0m 27ms/step\n",
      "\u001b[1m28/28\u001b[0m \u001b[32m━━━━━━━━━━━━━━━━━━━━\u001b[0m\u001b[37m\u001b[0m \u001b[1m0s\u001b[0m 6ms/step\n",
      " configuració  embedding dim  val_accuracy  f1_score_val  test_accuracy  f1_score_test\n",
      "            5           1000      0.991784      0.838227       0.991231       0.725522\n",
      "            6           1000      0.991057      0.802289       0.991231       0.738703\n",
      "            8           1000      0.991057      0.775875       0.990961       0.708326\n",
      "            2           1000      0.990548      0.768800       0.990150       0.676171\n",
      "            7           1000      0.990863      0.749790       0.991427       0.752661\n",
      "            1           1000      0.990354      0.740529       0.989978       0.656160\n",
      "            3           1000      0.989458      0.709144       0.989044       0.621713\n",
      "            4           1000      0.989942      0.705394       0.989904       0.643526\n"
     ]
    }
   ],
   "source": [
    "random.seed(42)\n",
    "np.random.seed(42)\n",
    "tf.random.set_seed(42)\n",
    "\n",
    "emb = 1000\n",
    "results = []\n",
    "\n",
    "for config in range(1,9):\n",
    "  accuracy_val, accuracy_test, f1_score_val, f1_score_test = model(train_pad_sequences, val_pad_sequences, test_pad_sequences, train_labels_one_hot, val_labels_one_hot, test_labels_one_hot,\n",
    "                        len(unique_words_dict) + 1, emb, max_sequence_length, num_classes, config)\n",
    "  results.append({\n",
    "        'configuració': config,\n",
    "        'embedding dim': emb,\n",
    "        'val_accuracy': accuracy_val,\n",
    "        'f1_score_val': f1_score_val,\n",
    "        'test_accuracy': accuracy_test,\n",
    "        'f1_score_test': f1_score_test\n",
    "    })\n",
    "\n",
    "results_df = pd.DataFrame(results)\n",
    "results_df = results_df.sort_values(by='f1_score_val', ascending=False)\n",
    "print(results_df.to_string(index=False))"
   ]
  },
  {
   "cell_type": "markdown",
   "metadata": {
    "id": "Nu2RuC1DzV-s"
   },
   "source": [
    "### 5. Transformers"
   ]
  },
  {
   "cell_type": "code",
   "execution_count": null,
   "metadata": {
    "id": "9IQPCWygzcd0"
   },
   "outputs": [],
   "source": [
    "def model(X_train, X_val, X_test, y_train, y_val, y_test, vocab_size, embedding_dim, max_sequence_length, num_classes, config):\n",
    "    model = Sequential()\n",
    "    model.add(Embedding(input_dim=vocab_size, output_dim=embedding_dim, input_length=max_sequence_length))\n",
    "\n",
    "    if config == 2:\n",
    "        model.add(TransformerBlock(embed_dim=embedding_dim, num_heads=8, ff_dim=64))\n",
    "\n",
    "    elif config == 3:\n",
    "        model.add(TransformerBlock(embed_dim=embedding_dim, num_heads=4, ff_dim=64))\n",
    "\n",
    "    elif config == 4:\n",
    "        model.add(TransformerBlock(embed_dim=embedding_dim, num_heads=8, ff_dim=128))\n",
    "\n",
    "    elif config == 5:\n",
    "        model.add(TransformerBlock(embed_dim=embedding_dim, num_heads=16, ff_dim=256))\n",
    "\n",
    "    elif config == 6:\n",
    "        model.add(TransformerBlock(embed_dim=embedding_dim, num_heads=8, ff_dim=64))\n",
    "        model.add(TransformerBlock(embed_dim=embedding_dim, num_heads=4, ff_dim=128))\n",
    "\n",
    "    # Capa densa\n",
    "    model.add(Bidirectional(GRU(128, return_sequences=True)))\n",
    "    model.add(Dense(64, activation='relu'))\n",
    "    model.add(TimeDistributed(Dense(num_classes, activation='softmax')))\n",
    "\n",
    "    # Compilar el model\n",
    "    model.compile(optimizer='adam', loss='categorical_crossentropy', metrics=['accuracy'])\n",
    "\n",
    "    # Entrenament\n",
    "    batch_size = 32\n",
    "    epochs = 10\n",
    "    history = model.fit(X_train, y_train, batch_size=batch_size, epochs=epochs, validation_data=(X_val, y_val))\n",
    "\n",
    "    # Avaluació\n",
    "    loss_val, accuracy_val = model.evaluate(X_val, y_val, batch_size=batch_size)\n",
    "    loss_test, accuracy_test = model.evaluate(X_test, y_test, batch_size=batch_size)\n",
    "\n",
    "    # F1-SCORE\n",
    "    val_true_labels = np.argmax(y_val, axis=2).flatten()\n",
    "    test_true_labels = np.argmax(y_test, axis=2).flatten()\n",
    "\n",
    "    val_predictions = model.predict(X_val, batch_size=batch_size)\n",
    "    test_predictions = model.predict(X_test, batch_size=batch_size)\n",
    "\n",
    "    val_predicted_labels = np.argmax(val_predictions, axis=2).flatten()\n",
    "    test_predicted_labels = np.argmax(test_predictions, axis=2).flatten()\n",
    "\n",
    "    f1_score_val = f1_score(val_true_labels, val_predicted_labels, average='macro')\n",
    "    f1_score_test = f1_score(test_true_labels, test_predicted_labels, average='macro')\n",
    "\n",
    "    return accuracy_val, accuracy_test, f1_score_val, f1_score_test"
   ]
  },
  {
   "cell_type": "code",
   "execution_count": null,
   "metadata": {
    "colab": {
     "base_uri": "https://localhost:8080/"
    },
    "id": "T4ds_GVPzhHD",
    "outputId": "f53476b7-a666-444f-c148-16aa48cde56b"
   },
   "outputs": [
    {
     "name": "stderr",
     "output_type": "stream",
     "text": [
      "/usr/local/lib/python3.10/dist-packages/keras/src/layers/core/embedding.py:90: UserWarning: Argument `input_length` is deprecated. Just remove it.\n",
      "  warnings.warn(\n"
     ]
    },
    {
     "name": "stdout",
     "output_type": "stream",
     "text": [
      "Epoch 1/10\n",
      "\u001b[1m128/128\u001b[0m \u001b[32m━━━━━━━━━━━━━━━━━━━━\u001b[0m\u001b[37m\u001b[0m \u001b[1m7s\u001b[0m 23ms/step - accuracy: 0.8731 - loss: 1.0239 - val_accuracy: 0.9757 - val_loss: 0.1651\n",
      "Epoch 2/10\n",
      "\u001b[1m128/128\u001b[0m \u001b[32m━━━━━━━━━━━━━━━━━━━━\u001b[0m\u001b[37m\u001b[0m \u001b[1m3s\u001b[0m 19ms/step - accuracy: 0.9828 - loss: 0.0918 - val_accuracy: 0.9843 - val_loss: 0.1148\n",
      "Epoch 3/10\n",
      "\u001b[1m128/128\u001b[0m \u001b[32m━━━━━━━━━━━━━━━━━━━━\u001b[0m\u001b[37m\u001b[0m \u001b[1m2s\u001b[0m 17ms/step - accuracy: 0.9914 - loss: 0.0402 - val_accuracy: 0.9877 - val_loss: 0.1048\n",
      "Epoch 4/10\n",
      "\u001b[1m128/128\u001b[0m \u001b[32m━━━━━━━━━━━━━━━━━━━━\u001b[0m\u001b[37m\u001b[0m \u001b[1m2s\u001b[0m 17ms/step - accuracy: 0.9949 - loss: 0.0237 - val_accuracy: 0.9891 - val_loss: 0.1005\n",
      "Epoch 5/10\n",
      "\u001b[1m128/128\u001b[0m \u001b[32m━━━━━━━━━━━━━━━━━━━━\u001b[0m\u001b[37m\u001b[0m \u001b[1m2s\u001b[0m 16ms/step - accuracy: 0.9966 - loss: 0.0157 - val_accuracy: 0.9899 - val_loss: 0.0986\n",
      "Epoch 6/10\n",
      "\u001b[1m128/128\u001b[0m \u001b[32m━━━━━━━━━━━━━━━━━━━━\u001b[0m\u001b[37m\u001b[0m \u001b[1m3s\u001b[0m 15ms/step - accuracy: 0.9976 - loss: 0.0111 - val_accuracy: 0.9905 - val_loss: 0.0975\n",
      "Epoch 7/10\n",
      "\u001b[1m128/128\u001b[0m \u001b[32m━━━━━━━━━━━━━━━━━━━━\u001b[0m\u001b[37m\u001b[0m \u001b[1m2s\u001b[0m 17ms/step - accuracy: 0.9984 - loss: 0.0080 - val_accuracy: 0.9909 - val_loss: 0.0977\n",
      "Epoch 8/10\n",
      "\u001b[1m128/128\u001b[0m \u001b[32m━━━━━━━━━━━━━━━━━━━━\u001b[0m\u001b[37m\u001b[0m \u001b[1m3s\u001b[0m 20ms/step - accuracy: 0.9987 - loss: 0.0060 - val_accuracy: 0.9911 - val_loss: 0.0982\n",
      "Epoch 9/10\n",
      "\u001b[1m128/128\u001b[0m \u001b[32m━━━━━━━━━━━━━━━━━━━━\u001b[0m\u001b[37m\u001b[0m \u001b[1m5s\u001b[0m 16ms/step - accuracy: 0.9991 - loss: 0.0042 - val_accuracy: 0.9914 - val_loss: 0.0992\n",
      "Epoch 10/10\n",
      "\u001b[1m128/128\u001b[0m \u001b[32m━━━━━━━━━━━━━━━━━━━━\u001b[0m\u001b[37m\u001b[0m \u001b[1m2s\u001b[0m 16ms/step - accuracy: 0.9993 - loss: 0.0031 - val_accuracy: 0.9915 - val_loss: 0.1000\n",
      "\u001b[1m29/29\u001b[0m \u001b[32m━━━━━━━━━━━━━━━━━━━━\u001b[0m\u001b[37m\u001b[0m \u001b[1m0s\u001b[0m 5ms/step - accuracy: 0.9925 - loss: 0.0859\n",
      "\u001b[1m28/28\u001b[0m \u001b[32m━━━━━━━━━━━━━━━━━━━━\u001b[0m\u001b[37m\u001b[0m \u001b[1m0s\u001b[0m 6ms/step - accuracy: 0.9909 - loss: 0.0976\n",
      "\u001b[1m29/29\u001b[0m \u001b[32m━━━━━━━━━━━━━━━━━━━━\u001b[0m\u001b[37m\u001b[0m \u001b[1m1s\u001b[0m 21ms/step\n",
      "\u001b[1m28/28\u001b[0m \u001b[32m━━━━━━━━━━━━━━━━━━━━\u001b[0m\u001b[37m\u001b[0m \u001b[1m0s\u001b[0m 5ms/step\n"
     ]
    },
    {
     "name": "stderr",
     "output_type": "stream",
     "text": [
      "/usr/local/lib/python3.10/dist-packages/keras/src/layers/core/embedding.py:90: UserWarning: Argument `input_length` is deprecated. Just remove it.\n",
      "  warnings.warn(\n"
     ]
    },
    {
     "name": "stdout",
     "output_type": "stream",
     "text": [
      "Epoch 1/10\n",
      "\u001b[1m128/128\u001b[0m \u001b[32m━━━━━━━━━━━━━━━━━━━━\u001b[0m\u001b[37m\u001b[0m \u001b[1m29s\u001b[0m 166ms/step - accuracy: 0.8201 - loss: 1.0295 - val_accuracy: 0.9350 - val_loss: 0.3044\n",
      "Epoch 2/10\n",
      "\u001b[1m128/128\u001b[0m \u001b[32m━━━━━━━━━━━━━━━━━━━━\u001b[0m\u001b[37m\u001b[0m \u001b[1m21s\u001b[0m 163ms/step - accuracy: 0.9465 - loss: 0.2500 - val_accuracy: 0.9574 - val_loss: 0.2164\n",
      "Epoch 3/10\n",
      "\u001b[1m128/128\u001b[0m \u001b[32m━━━━━━━━━━━━━━━━━━━━\u001b[0m\u001b[37m\u001b[0m \u001b[1m21s\u001b[0m 166ms/step - accuracy: 0.9637 - loss: 0.1609 - val_accuracy: 0.9691 - val_loss: 0.1809\n",
      "Epoch 4/10\n",
      "\u001b[1m128/128\u001b[0m \u001b[32m━━━━━━━━━━━━━━━━━━━━\u001b[0m\u001b[37m\u001b[0m \u001b[1m41s\u001b[0m 167ms/step - accuracy: 0.9729 - loss: 0.1216 - val_accuracy: 0.9734 - val_loss: 0.1571\n",
      "Epoch 5/10\n",
      "\u001b[1m128/128\u001b[0m \u001b[32m━━━━━━━━━━━━━━━━━━━━\u001b[0m\u001b[37m\u001b[0m \u001b[1m41s\u001b[0m 167ms/step - accuracy: 0.9798 - loss: 0.0903 - val_accuracy: 0.9792 - val_loss: 0.1345\n",
      "Epoch 6/10\n",
      "\u001b[1m128/128\u001b[0m \u001b[32m━━━━━━━━━━━━━━━━━━━━\u001b[0m\u001b[37m\u001b[0m \u001b[1m22s\u001b[0m 169ms/step - accuracy: 0.9850 - loss: 0.0673 - val_accuracy: 0.9813 - val_loss: 0.1257\n",
      "Epoch 7/10\n",
      "\u001b[1m128/128\u001b[0m \u001b[32m━━━━━━━━━━━━━━━━━━━━\u001b[0m\u001b[37m\u001b[0m \u001b[1m41s\u001b[0m 166ms/step - accuracy: 0.9883 - loss: 0.0526 - val_accuracy: 0.9836 - val_loss: 0.1143\n",
      "Epoch 8/10\n",
      "\u001b[1m128/128\u001b[0m \u001b[32m━━━━━━━━━━━━━━━━━━━━\u001b[0m\u001b[37m\u001b[0m \u001b[1m41s\u001b[0m 170ms/step - accuracy: 0.9904 - loss: 0.0416 - val_accuracy: 0.9846 - val_loss: 0.1108\n",
      "Epoch 9/10\n",
      "\u001b[1m128/128\u001b[0m \u001b[32m━━━━━━━━━━━━━━━━━━━━\u001b[0m\u001b[37m\u001b[0m \u001b[1m22s\u001b[0m 169ms/step - accuracy: 0.9917 - loss: 0.0352 - val_accuracy: 0.9860 - val_loss: 0.1050\n",
      "Epoch 10/10\n",
      "\u001b[1m128/128\u001b[0m \u001b[32m━━━━━━━━━━━━━━━━━━━━\u001b[0m\u001b[37m\u001b[0m \u001b[1m41s\u001b[0m 166ms/step - accuracy: 0.9933 - loss: 0.0285 - val_accuracy: 0.9869 - val_loss: 0.1026\n",
      "\u001b[1m29/29\u001b[0m \u001b[32m━━━━━━━━━━━━━━━━━━━━\u001b[0m\u001b[37m\u001b[0m \u001b[1m1s\u001b[0m 41ms/step - accuracy: 0.9880 - loss: 0.0899\n",
      "\u001b[1m28/28\u001b[0m \u001b[32m━━━━━━━━━━━━━━━━━━━━\u001b[0m\u001b[37m\u001b[0m \u001b[1m1s\u001b[0m 41ms/step - accuracy: 0.9868 - loss: 0.0979\n",
      "\u001b[1m29/29\u001b[0m \u001b[32m━━━━━━━━━━━━━━━━━━━━\u001b[0m\u001b[37m\u001b[0m \u001b[1m2s\u001b[0m 60ms/step\n",
      "\u001b[1m28/28\u001b[0m \u001b[32m━━━━━━━━━━━━━━━━━━━━\u001b[0m\u001b[37m\u001b[0m \u001b[1m1s\u001b[0m 42ms/step\n"
     ]
    },
    {
     "name": "stderr",
     "output_type": "stream",
     "text": [
      "/usr/local/lib/python3.10/dist-packages/keras/src/layers/core/embedding.py:90: UserWarning: Argument `input_length` is deprecated. Just remove it.\n",
      "  warnings.warn(\n"
     ]
    },
    {
     "name": "stdout",
     "output_type": "stream",
     "text": [
      "Epoch 1/10\n",
      "\u001b[1m128/128\u001b[0m \u001b[32m━━━━━━━━━━━━━━━━━━━━\u001b[0m\u001b[37m\u001b[0m \u001b[1m20s\u001b[0m 99ms/step - accuracy: 0.8411 - loss: 0.8854 - val_accuracy: 0.9566 - val_loss: 0.2110\n",
      "Epoch 2/10\n",
      "\u001b[1m128/128\u001b[0m \u001b[32m━━━━━━━━━━━━━━━━━━━━\u001b[0m\u001b[37m\u001b[0m \u001b[1m20s\u001b[0m 93ms/step - accuracy: 0.9691 - loss: 0.1518 - val_accuracy: 0.9785 - val_loss: 0.1208\n",
      "Epoch 3/10\n",
      "\u001b[1m128/128\u001b[0m \u001b[32m━━━━━━━━━━━━━━━━━━━━\u001b[0m\u001b[37m\u001b[0m \u001b[1m12s\u001b[0m 93ms/step - accuracy: 0.9847 - loss: 0.0713 - val_accuracy: 0.9844 - val_loss: 0.0999\n",
      "Epoch 4/10\n",
      "\u001b[1m128/128\u001b[0m \u001b[32m━━━━━━━━━━━━━━━━━━━━\u001b[0m\u001b[37m\u001b[0m \u001b[1m20s\u001b[0m 93ms/step - accuracy: 0.9909 - loss: 0.0426 - val_accuracy: 0.9870 - val_loss: 0.0918\n",
      "Epoch 5/10\n",
      "\u001b[1m128/128\u001b[0m \u001b[32m━━━━━━━━━━━━━━━━━━━━\u001b[0m\u001b[37m\u001b[0m \u001b[1m21s\u001b[0m 93ms/step - accuracy: 0.9940 - loss: 0.0285 - val_accuracy: 0.9885 - val_loss: 0.0865\n",
      "Epoch 6/10\n",
      "\u001b[1m128/128\u001b[0m \u001b[32m━━━━━━━━━━━━━━━━━━━━\u001b[0m\u001b[37m\u001b[0m \u001b[1m13s\u001b[0m 99ms/step - accuracy: 0.9953 - loss: 0.0214 - val_accuracy: 0.9892 - val_loss: 0.0867\n",
      "Epoch 7/10\n",
      "\u001b[1m128/128\u001b[0m \u001b[32m━━━━━━━━━━━━━━━━━━━━\u001b[0m\u001b[37m\u001b[0m \u001b[1m20s\u001b[0m 93ms/step - accuracy: 0.9957 - loss: 0.0185 - val_accuracy: 0.9895 - val_loss: 0.0861\n",
      "Epoch 8/10\n",
      "\u001b[1m128/128\u001b[0m \u001b[32m━━━━━━━━━━━━━━━━━━━━\u001b[0m\u001b[37m\u001b[0m \u001b[1m20s\u001b[0m 93ms/step - accuracy: 0.9967 - loss: 0.0148 - val_accuracy: 0.9899 - val_loss: 0.0864\n",
      "Epoch 9/10\n",
      "\u001b[1m128/128\u001b[0m \u001b[32m━━━━━━━━━━━━━━━━━━━━\u001b[0m\u001b[37m\u001b[0m \u001b[1m21s\u001b[0m 94ms/step - accuracy: 0.9972 - loss: 0.0128 - val_accuracy: 0.9899 - val_loss: 0.0868\n",
      "Epoch 10/10\n",
      "\u001b[1m128/128\u001b[0m \u001b[32m━━━━━━━━━━━━━━━━━━━━\u001b[0m\u001b[37m\u001b[0m \u001b[1m12s\u001b[0m 94ms/step - accuracy: 0.9975 - loss: 0.0108 - val_accuracy: 0.9899 - val_loss: 0.0897\n",
      "\u001b[1m29/29\u001b[0m \u001b[32m━━━━━━━━━━━━━━━━━━━━\u001b[0m\u001b[37m\u001b[0m \u001b[1m1s\u001b[0m 23ms/step - accuracy: 0.9906 - loss: 0.0766\n",
      "\u001b[1m28/28\u001b[0m \u001b[32m━━━━━━━━━━━━━━━━━━━━\u001b[0m\u001b[37m\u001b[0m \u001b[1m1s\u001b[0m 24ms/step - accuracy: 0.9894 - loss: 0.0859\n",
      "\u001b[1m29/29\u001b[0m \u001b[32m━━━━━━━━━━━━━━━━━━━━\u001b[0m\u001b[37m\u001b[0m \u001b[1m2s\u001b[0m 41ms/step\n",
      "\u001b[1m28/28\u001b[0m \u001b[32m━━━━━━━━━━━━━━━━━━━━\u001b[0m\u001b[37m\u001b[0m \u001b[1m1s\u001b[0m 21ms/step\n"
     ]
    },
    {
     "name": "stderr",
     "output_type": "stream",
     "text": [
      "/usr/local/lib/python3.10/dist-packages/keras/src/layers/core/embedding.py:90: UserWarning: Argument `input_length` is deprecated. Just remove it.\n",
      "  warnings.warn(\n"
     ]
    },
    {
     "name": "stdout",
     "output_type": "stream",
     "text": [
      "Epoch 1/10\n",
      "\u001b[1m128/128\u001b[0m \u001b[32m━━━━━━━━━━━━━━━━━━━━\u001b[0m\u001b[37m\u001b[0m \u001b[1m30s\u001b[0m 173ms/step - accuracy: 0.8288 - loss: 0.8792 - val_accuracy: 0.9592 - val_loss: 0.2070\n",
      "Epoch 2/10\n",
      "\u001b[1m128/128\u001b[0m \u001b[32m━━━━━━━━━━━━━━━━━━━━\u001b[0m\u001b[37m\u001b[0m \u001b[1m40s\u001b[0m 169ms/step - accuracy: 0.9689 - loss: 0.1498 - val_accuracy: 0.9752 - val_loss: 0.1350\n",
      "Epoch 3/10\n",
      "\u001b[1m128/128\u001b[0m \u001b[32m━━━━━━━━━━━━━━━━━━━━\u001b[0m\u001b[37m\u001b[0m \u001b[1m41s\u001b[0m 170ms/step - accuracy: 0.9784 - loss: 0.0993 - val_accuracy: 0.9749 - val_loss: 0.1353\n",
      "Epoch 4/10\n",
      "\u001b[1m128/128\u001b[0m \u001b[32m━━━━━━━━━━━━━━━━━━━━\u001b[0m\u001b[37m\u001b[0m \u001b[1m41s\u001b[0m 169ms/step - accuracy: 0.9811 - loss: 0.0814 - val_accuracy: 0.9815 - val_loss: 0.1094\n",
      "Epoch 5/10\n",
      "\u001b[1m128/128\u001b[0m \u001b[32m━━━━━━━━━━━━━━━━━━━━\u001b[0m\u001b[37m\u001b[0m \u001b[1m41s\u001b[0m 169ms/step - accuracy: 0.9876 - loss: 0.0533 - val_accuracy: 0.9848 - val_loss: 0.0984\n",
      "Epoch 6/10\n",
      "\u001b[1m128/128\u001b[0m \u001b[32m━━━━━━━━━━━━━━━━━━━━\u001b[0m\u001b[37m\u001b[0m \u001b[1m41s\u001b[0m 169ms/step - accuracy: 0.9909 - loss: 0.0400 - val_accuracy: 0.9855 - val_loss: 0.0947\n",
      "Epoch 7/10\n",
      "\u001b[1m128/128\u001b[0m \u001b[32m━━━━━━━━━━━━━━━━━━━━\u001b[0m\u001b[37m\u001b[0m \u001b[1m41s\u001b[0m 168ms/step - accuracy: 0.9923 - loss: 0.0324 - val_accuracy: 0.9869 - val_loss: 0.0894\n",
      "Epoch 8/10\n",
      "\u001b[1m128/128\u001b[0m \u001b[32m━━━━━━━━━━━━━━━━━━━━\u001b[0m\u001b[37m\u001b[0m \u001b[1m22s\u001b[0m 170ms/step - accuracy: 0.9936 - loss: 0.0262 - val_accuracy: 0.9873 - val_loss: 0.0887\n",
      "Epoch 9/10\n",
      "\u001b[1m128/128\u001b[0m \u001b[32m━━━━━━━━━━━━━━━━━━━━\u001b[0m\u001b[37m\u001b[0m \u001b[1m41s\u001b[0m 167ms/step - accuracy: 0.9946 - loss: 0.0229 - val_accuracy: 0.9881 - val_loss: 0.0863\n",
      "Epoch 10/10\n",
      "\u001b[1m128/128\u001b[0m \u001b[32m━━━━━━━━━━━━━━━━━━━━\u001b[0m\u001b[37m\u001b[0m \u001b[1m41s\u001b[0m 170ms/step - accuracy: 0.9955 - loss: 0.0197 - val_accuracy: 0.9886 - val_loss: 0.0856\n",
      "\u001b[1m29/29\u001b[0m \u001b[32m━━━━━━━━━━━━━━━━━━━━\u001b[0m\u001b[37m\u001b[0m \u001b[1m1s\u001b[0m 42ms/step - accuracy: 0.9900 - loss: 0.0736\n",
      "\u001b[1m28/28\u001b[0m \u001b[32m━━━━━━━━━━━━━━━━━━━━\u001b[0m\u001b[37m\u001b[0m \u001b[1m1s\u001b[0m 40ms/step - accuracy: 0.9883 - loss: 0.0848\n",
      "\u001b[1m29/29\u001b[0m \u001b[32m━━━━━━━━━━━━━━━━━━━━\u001b[0m\u001b[37m\u001b[0m \u001b[1m2s\u001b[0m 59ms/step\n",
      "\u001b[1m28/28\u001b[0m \u001b[32m━━━━━━━━━━━━━━━━━━━━\u001b[0m\u001b[37m\u001b[0m \u001b[1m1s\u001b[0m 40ms/step\n"
     ]
    },
    {
     "name": "stderr",
     "output_type": "stream",
     "text": [
      "/usr/local/lib/python3.10/dist-packages/keras/src/layers/core/embedding.py:90: UserWarning: Argument `input_length` is deprecated. Just remove it.\n",
      "  warnings.warn(\n"
     ]
    },
    {
     "name": "stdout",
     "output_type": "stream",
     "text": [
      "Epoch 1/10\n",
      "\u001b[1m128/128\u001b[0m \u001b[32m━━━━━━━━━━━━━━━━━━━━\u001b[0m\u001b[37m\u001b[0m \u001b[1m49s\u001b[0m 330ms/step - accuracy: 0.7933 - loss: 1.0023 - val_accuracy: 0.9142 - val_loss: 0.4102\n",
      "Epoch 2/10\n",
      "\u001b[1m128/128\u001b[0m \u001b[32m━━━━━━━━━━━━━━━━━━━━\u001b[0m\u001b[37m\u001b[0m \u001b[1m81s\u001b[0m 323ms/step - accuracy: 0.9341 - loss: 0.3019 - val_accuracy: 0.9591 - val_loss: 0.1980\n",
      "Epoch 3/10\n",
      "\u001b[1m128/128\u001b[0m \u001b[32m━━━━━━━━━━━━━━━━━━━━\u001b[0m\u001b[37m\u001b[0m \u001b[1m82s\u001b[0m 327ms/step - accuracy: 0.9682 - loss: 0.1420 - val_accuracy: 0.9731 - val_loss: 0.1509\n",
      "Epoch 4/10\n",
      "\u001b[1m128/128\u001b[0m \u001b[32m━━━━━━━━━━━━━━━━━━━━\u001b[0m\u001b[37m\u001b[0m \u001b[1m82s\u001b[0m 326ms/step - accuracy: 0.9798 - loss: 0.0904 - val_accuracy: 0.9795 - val_loss: 0.1224\n",
      "Epoch 5/10\n",
      "\u001b[1m128/128\u001b[0m \u001b[32m━━━━━━━━━━━━━━━━━━━━\u001b[0m\u001b[37m\u001b[0m \u001b[1m41s\u001b[0m 321ms/step - accuracy: 0.9848 - loss: 0.0645 - val_accuracy: 0.9831 - val_loss: 0.1116\n",
      "Epoch 6/10\n",
      "\u001b[1m128/128\u001b[0m \u001b[32m━━━━━━━━━━━━━━━━━━━━\u001b[0m\u001b[37m\u001b[0m \u001b[1m82s\u001b[0m 323ms/step - accuracy: 0.9879 - loss: 0.0505 - val_accuracy: 0.9835 - val_loss: 0.1057\n",
      "Epoch 7/10\n",
      "\u001b[1m128/128\u001b[0m \u001b[32m━━━━━━━━━━━━━━━━━━━━\u001b[0m\u001b[37m\u001b[0m \u001b[1m41s\u001b[0m 321ms/step - accuracy: 0.9897 - loss: 0.0428 - val_accuracy: 0.9840 - val_loss: 0.1037\n",
      "Epoch 8/10\n",
      "\u001b[1m128/128\u001b[0m \u001b[32m━━━━━━━━━━━━━━━━━━━━\u001b[0m\u001b[37m\u001b[0m \u001b[1m83s\u001b[0m 327ms/step - accuracy: 0.9913 - loss: 0.0361 - val_accuracy: 0.9853 - val_loss: 0.1013\n",
      "Epoch 9/10\n",
      "\u001b[1m128/128\u001b[0m \u001b[32m━━━━━━━━━━━━━━━━━━━━\u001b[0m\u001b[37m\u001b[0m \u001b[1m82s\u001b[0m 327ms/step - accuracy: 0.9927 - loss: 0.0306 - val_accuracy: 0.9864 - val_loss: 0.0994\n",
      "Epoch 10/10\n",
      "\u001b[1m128/128\u001b[0m \u001b[32m━━━━━━━━━━━━━━━━━━━━\u001b[0m\u001b[37m\u001b[0m \u001b[1m82s\u001b[0m 327ms/step - accuracy: 0.9933 - loss: 0.0274 - val_accuracy: 0.9868 - val_loss: 0.0984\n",
      "\u001b[1m29/29\u001b[0m \u001b[32m━━━━━━━━━━━━━━━━━━━━\u001b[0m\u001b[37m\u001b[0m \u001b[1m2s\u001b[0m 77ms/step - accuracy: 0.9878 - loss: 0.0864\n",
      "\u001b[1m28/28\u001b[0m \u001b[32m━━━━━━━━━━━━━━━━━━━━\u001b[0m\u001b[37m\u001b[0m \u001b[1m2s\u001b[0m 78ms/step - accuracy: 0.9869 - loss: 0.0938\n",
      "\u001b[1m29/29\u001b[0m \u001b[32m━━━━━━━━━━━━━━━━━━━━\u001b[0m\u001b[37m\u001b[0m \u001b[1m3s\u001b[0m 94ms/step\n",
      "\u001b[1m28/28\u001b[0m \u001b[32m━━━━━━━━━━━━━━━━━━━━\u001b[0m\u001b[37m\u001b[0m \u001b[1m2s\u001b[0m 79ms/step\n"
     ]
    },
    {
     "name": "stderr",
     "output_type": "stream",
     "text": [
      "/usr/local/lib/python3.10/dist-packages/keras/src/layers/core/embedding.py:90: UserWarning: Argument `input_length` is deprecated. Just remove it.\n",
      "  warnings.warn(\n"
     ]
    },
    {
     "name": "stdout",
     "output_type": "stream",
     "text": [
      "Epoch 1/10\n",
      "\u001b[1m128/128\u001b[0m \u001b[32m━━━━━━━━━━━━━━━━━━━━\u001b[0m\u001b[37m\u001b[0m \u001b[1m42s\u001b[0m 254ms/step - accuracy: 0.8067 - loss: 0.9587 - val_accuracy: 0.8670 - val_loss: 0.5873\n",
      "Epoch 2/10\n",
      "\u001b[1m128/128\u001b[0m \u001b[32m━━━━━━━━━━━━━━━━━━━━\u001b[0m\u001b[37m\u001b[0m \u001b[1m40s\u001b[0m 244ms/step - accuracy: 0.8672 - loss: 0.5941 - val_accuracy: 0.8787 - val_loss: 0.5295\n",
      "Epoch 3/10\n",
      "\u001b[1m128/128\u001b[0m \u001b[32m━━━━━━━━━━━━━━━━━━━━\u001b[0m\u001b[37m\u001b[0m \u001b[1m41s\u001b[0m 246ms/step - accuracy: 0.8948 - loss: 0.4792 - val_accuracy: 0.9140 - val_loss: 0.4003\n",
      "Epoch 4/10\n",
      "\u001b[1m128/128\u001b[0m \u001b[32m━━━━━━━━━━━━━━━━━━━━\u001b[0m\u001b[37m\u001b[0m \u001b[1m41s\u001b[0m 245ms/step - accuracy: 0.9145 - loss: 0.3915 - val_accuracy: 0.9141 - val_loss: 0.3896\n",
      "Epoch 5/10\n",
      "\u001b[1m128/128\u001b[0m \u001b[32m━━━━━━━━━━━━━━━━━━━━\u001b[0m\u001b[37m\u001b[0m \u001b[1m32s\u001b[0m 251ms/step - accuracy: 0.9118 - loss: 0.3909 - val_accuracy: 0.8779 - val_loss: 0.5739\n",
      "Epoch 6/10\n",
      "\u001b[1m128/128\u001b[0m \u001b[32m━━━━━━━━━━━━━━━━━━━━\u001b[0m\u001b[37m\u001b[0m \u001b[1m40s\u001b[0m 245ms/step - accuracy: 0.8817 - loss: 0.5278 - val_accuracy: 0.8876 - val_loss: 0.4920\n",
      "Epoch 7/10\n",
      "\u001b[1m128/128\u001b[0m \u001b[32m━━━━━━━━━━━━━━━━━━━━\u001b[0m\u001b[37m\u001b[0m \u001b[1m41s\u001b[0m 244ms/step - accuracy: 0.8900 - loss: 0.4703 - val_accuracy: 0.8882 - val_loss: 0.4756\n",
      "Epoch 8/10\n",
      "\u001b[1m128/128\u001b[0m \u001b[32m━━━━━━━━━━━━━━━━━━━━\u001b[0m\u001b[37m\u001b[0m \u001b[1m41s\u001b[0m 244ms/step - accuracy: 0.8905 - loss: 0.4583 - val_accuracy: 0.8883 - val_loss: 0.4722\n",
      "Epoch 9/10\n",
      "\u001b[1m128/128\u001b[0m \u001b[32m━━━━━━━━━━━━━━━━━━━━\u001b[0m\u001b[37m\u001b[0m \u001b[1m31s\u001b[0m 245ms/step - accuracy: 0.8908 - loss: 0.4506 - val_accuracy: 0.8917 - val_loss: 0.4508\n",
      "Epoch 10/10\n",
      "\u001b[1m128/128\u001b[0m \u001b[32m━━━━━━━━━━━━━━━━━━━━\u001b[0m\u001b[37m\u001b[0m \u001b[1m41s\u001b[0m 244ms/step - accuracy: 0.8912 - loss: 0.4452 - val_accuracy: 0.8904 - val_loss: 0.4516\n",
      "\u001b[1m29/29\u001b[0m \u001b[32m━━━━━━━━━━━━━━━━━━━━\u001b[0m\u001b[37m\u001b[0m \u001b[1m2s\u001b[0m 62ms/step - accuracy: 0.8901 - loss: 0.4538\n",
      "\u001b[1m28/28\u001b[0m \u001b[32m━━━━━━━━━━━━━━━━━━━━\u001b[0m\u001b[37m\u001b[0m \u001b[1m2s\u001b[0m 63ms/step - accuracy: 0.8863 - loss: 0.4926\n",
      "\u001b[1m29/29\u001b[0m \u001b[32m━━━━━━━━━━━━━━━━━━━━\u001b[0m\u001b[37m\u001b[0m \u001b[1m3s\u001b[0m 82ms/step\n",
      "\u001b[1m28/28\u001b[0m \u001b[32m━━━━━━━━━━━━━━━━━━━━\u001b[0m\u001b[37m\u001b[0m \u001b[1m2s\u001b[0m 61ms/step\n",
      " configuració  embedding dim  val_accuracy  f1_score_val  test_accuracy  f1_score_test\n",
      "            1           1000      0.991493      0.799044       0.991132       0.734888\n",
      "            3           1000      0.989918      0.728981       0.990027       0.659899\n",
      "            4           1000      0.988609      0.646457       0.989093       0.576224\n",
      "            5           1000      0.986840      0.587653       0.987644       0.523819\n",
      "            2           1000      0.986937      0.583986       0.988160       0.545030\n",
      "            6           1000      0.890408      0.018817       0.893491       0.019038\n"
     ]
    }
   ],
   "source": [
    "random.seed(42)\n",
    "np.random.seed(42)\n",
    "tf.random.set_seed(42)\n",
    "\n",
    "emb = 1000\n",
    "results = []\n",
    "\n",
    "for config in range(1,7):\n",
    "    accuracy_val, accuracy_test, f1_score_val, f1_score_test = model(\n",
    "        train_pad_sequences, val_pad_sequences, test_pad_sequences,\n",
    "        train_labels_one_hot, val_labels_one_hot, test_labels_one_hot,\n",
    "        len(unique_words_dict) + 1, emb, max_sequence_length, num_classes, config\n",
    "    )\n",
    "    results.append({\n",
    "        'configuració': config,\n",
    "        'embedding dim': emb,\n",
    "        'val_accuracy': accuracy_val,\n",
    "        'f1_score_val': f1_score_val,\n",
    "        'test_accuracy': accuracy_test,\n",
    "        'f1_score_test': f1_score_test\n",
    "    })\n",
    "\n",
    "results_df = pd.DataFrame(results)\n",
    "results_df = results_df.sort_values(by='f1_score_val', ascending=False)\n",
    "print(results_df.to_string(index=False))"
   ]
  },
  {
   "cell_type": "markdown",
   "metadata": {
    "id": "nG2tYEgpLOIx"
   },
   "source": [
    "### 6. Regularització"
   ]
  },
  {
   "cell_type": "code",
   "execution_count": null,
   "metadata": {
    "id": "m82fPPNbK9iH"
   },
   "outputs": [],
   "source": [
    "def model(X_train, X_val, X_test, y_train, y_val, y_test, vocab_size, embedding_dim, max_sequence_length, num_classes, config):\n",
    "    model = Sequential()\n",
    "    model.add(Embedding(input_dim=vocab_size, output_dim=embedding_dim, input_length=max_sequence_length))\n",
    "\n",
    "    if config == 1:\n",
    "        model.add(Bidirectional(GRU(128, return_sequences=True)))\n",
    "        model.add(Dropout(0.2))\n",
    "    elif config == 2:\n",
    "        model.add(Dropout(0.3))\n",
    "        model.add(Bidirectional(GRU(128, return_sequences=True)))\n",
    "        model.add(Dropout(0.2))\n",
    "    elif config == 3:\n",
    "        model.add(Dropout(0.3))\n",
    "        model.add(Bidirectional(GRU(128, return_sequences=True)))\n",
    "        model.add(Dropout(0.5))\n",
    "    elif config == 4:\n",
    "        model.add(Dropout(0.4))\n",
    "        model.add(Bidirectional(GRU(128, return_sequences=True)))\n",
    "        model.add(Dropout(0.4))\n",
    "    elif config == 5:\n",
    "        model.add(Bidirectional(GRU(128, return_sequences=True)))\n",
    "        model.add(Dense(64, activation='relu'))\n",
    "        model.add(Dropout(0.6))\n",
    "    elif config == 6:\n",
    "        model.add(Dropout(0.3))\n",
    "        model.add(Bidirectional(GRU(128, return_sequences=True)))\n",
    "        model.add(Dropout(0.4))\n",
    "        model.add(Dense(64, activation='relu'))\n",
    "        model.add(Dropout(0.5))\n",
    "\n",
    "    model.add(Dense(64, activation='relu'))\n",
    "    model.add(TimeDistributed(Dense(num_classes, activation='softmax')))\n",
    "\n",
    "    # Compilar el model\n",
    "    model.compile(optimizer='adam', loss='categorical_crossentropy', metrics=['accuracy'])\n",
    "\n",
    "    # Entrenament\n",
    "    batch_size = 32\n",
    "    epochs = 10\n",
    "    history = model.fit(X_train, y_train, batch_size=batch_size, epochs=epochs, validation_data=(X_val, y_val))\n",
    "\n",
    "    # Avaluació\n",
    "    loss_val, accuracy_val = model.evaluate(X_val, y_val, batch_size=batch_size)\n",
    "    loss_test, accuracy_test = model.evaluate(X_test, y_test, batch_size=batch_size)\n",
    "\n",
    "    # F1-SCORE\n",
    "    val_true_labels = np.argmax(y_val, axis=2).flatten()\n",
    "    test_true_labels = np.argmax(y_test, axis=2).flatten()\n",
    "\n",
    "    val_predictions = model.predict(X_val, batch_size=batch_size)\n",
    "    test_predictions = model.predict(X_test, batch_size=batch_size)\n",
    "\n",
    "    val_predicted_labels = np.argmax(val_predictions, axis=2).flatten()\n",
    "    test_predicted_labels = np.argmax(test_predictions, axis=2).flatten()\n",
    "\n",
    "    f1_score_val = f1_score(val_true_labels, val_predicted_labels, average='macro')\n",
    "    f1_score_test = f1_score(test_true_labels, test_predicted_labels, average='macro')\n",
    "\n",
    "    return accuracy_val, accuracy_test, f1_score_val, f1_score_test, history"
   ]
  },
  {
   "cell_type": "code",
   "execution_count": null,
   "metadata": {
    "colab": {
     "base_uri": "https://localhost:8080/",
     "height": 1000
    },
    "id": "xVd99EL9L6NL",
    "outputId": "5236a579-5c1b-4e04-8e7d-e32224abb454"
   },
   "outputs": [
    {
     "name": "stderr",
     "output_type": "stream",
     "text": [
      "/usr/local/lib/python3.10/dist-packages/keras/src/layers/core/embedding.py:90: UserWarning: Argument `input_length` is deprecated. Just remove it.\n",
      "  warnings.warn(\n"
     ]
    },
    {
     "name": "stdout",
     "output_type": "stream",
     "text": [
      "Epoch 1/10\n",
      "\u001b[1m128/128\u001b[0m \u001b[32m━━━━━━━━━━━━━━━━━━━━\u001b[0m\u001b[37m\u001b[0m \u001b[1m8s\u001b[0m 27ms/step - accuracy: 0.8652 - loss: 1.0035 - val_accuracy: 0.9761 - val_loss: 0.1622\n",
      "Epoch 2/10\n",
      "\u001b[1m128/128\u001b[0m \u001b[32m━━━━━━━━━━━━━━━━━━━━\u001b[0m\u001b[37m\u001b[0m \u001b[1m2s\u001b[0m 18ms/step - accuracy: 0.9822 - loss: 0.0921 - val_accuracy: 0.9844 - val_loss: 0.1150\n",
      "Epoch 3/10\n",
      "\u001b[1m128/128\u001b[0m \u001b[32m━━━━━━━━━━━━━━━━━━━━\u001b[0m\u001b[37m\u001b[0m \u001b[1m2s\u001b[0m 16ms/step - accuracy: 0.9906 - loss: 0.0439 - val_accuracy: 0.9878 - val_loss: 0.1030\n",
      "Epoch 4/10\n",
      "\u001b[1m128/128\u001b[0m \u001b[32m━━━━━━━━━━━━━━━━━━━━\u001b[0m\u001b[37m\u001b[0m \u001b[1m2s\u001b[0m 18ms/step - accuracy: 0.9947 - loss: 0.0256 - val_accuracy: 0.9892 - val_loss: 0.0993\n",
      "Epoch 5/10\n",
      "\u001b[1m128/128\u001b[0m \u001b[32m━━━━━━━━━━━━━━━━━━━━\u001b[0m\u001b[37m\u001b[0m \u001b[1m3s\u001b[0m 18ms/step - accuracy: 0.9964 - loss: 0.0170 - val_accuracy: 0.9903 - val_loss: 0.0978\n",
      "Epoch 6/10\n",
      "\u001b[1m128/128\u001b[0m \u001b[32m━━━━━━━━━━━━━━━━━━━━\u001b[0m\u001b[37m\u001b[0m \u001b[1m2s\u001b[0m 17ms/step - accuracy: 0.9974 - loss: 0.0124 - val_accuracy: 0.9905 - val_loss: 0.0974\n",
      "Epoch 7/10\n",
      "\u001b[1m128/128\u001b[0m \u001b[32m━━━━━━━━━━━━━━━━━━━━\u001b[0m\u001b[37m\u001b[0m \u001b[1m2s\u001b[0m 16ms/step - accuracy: 0.9978 - loss: 0.0094 - val_accuracy: 0.9907 - val_loss: 0.0970\n",
      "Epoch 8/10\n",
      "\u001b[1m128/128\u001b[0m \u001b[32m━━━━━━━━━━━━━━━━━━━━\u001b[0m\u001b[37m\u001b[0m \u001b[1m3s\u001b[0m 16ms/step - accuracy: 0.9984 - loss: 0.0073 - val_accuracy: 0.9911 - val_loss: 0.0972\n",
      "Epoch 9/10\n",
      "\u001b[1m128/128\u001b[0m \u001b[32m━━━━━━━━━━━━━━━━━━━━\u001b[0m\u001b[37m\u001b[0m \u001b[1m3s\u001b[0m 20ms/step - accuracy: 0.9987 - loss: 0.0052 - val_accuracy: 0.9913 - val_loss: 0.0975\n",
      "Epoch 10/10\n",
      "\u001b[1m128/128\u001b[0m \u001b[32m━━━━━━━━━━━━━━━━━━━━\u001b[0m\u001b[37m\u001b[0m \u001b[1m2s\u001b[0m 19ms/step - accuracy: 0.9991 - loss: 0.0038 - val_accuracy: 0.9914 - val_loss: 0.0990\n",
      "\u001b[1m29/29\u001b[0m \u001b[32m━━━━━━━━━━━━━━━━━━━━\u001b[0m\u001b[37m\u001b[0m \u001b[1m0s\u001b[0m 6ms/step - accuracy: 0.9927 - loss: 0.0841\n",
      "\u001b[1m28/28\u001b[0m \u001b[32m━━━━━━━━━━━━━━━━━━━━\u001b[0m\u001b[37m\u001b[0m \u001b[1m0s\u001b[0m 6ms/step - accuracy: 0.9908 - loss: 0.0980\n",
      "\u001b[1m29/29\u001b[0m \u001b[32m━━━━━━━━━━━━━━━━━━━━\u001b[0m\u001b[37m\u001b[0m \u001b[1m1s\u001b[0m 21ms/step\n",
      "\u001b[1m28/28\u001b[0m \u001b[32m━━━━━━━━━━━━━━━━━━━━\u001b[0m\u001b[37m\u001b[0m \u001b[1m0s\u001b[0m 5ms/step\n"
     ]
    },
    {
     "data": {
      "image/png": "[encoded data removed]",
      "text/plain": [
       "<Figure size 1000x400 with 2 Axes>"
      ]
     },
     "metadata": {},
     "output_type": "display_data"
    },
    {
     "name": "stderr",
     "output_type": "stream",
     "text": [
      "/usr/local/lib/python3.10/dist-packages/keras/src/layers/core/embedding.py:90: UserWarning: Argument `input_length` is deprecated. Just remove it.\n",
      "  warnings.warn(\n"
     ]
    },
    {
     "name": "stdout",
     "output_type": "stream",
     "text": [
      "Epoch 1/10\n",
      "\u001b[1m128/128\u001b[0m \u001b[32m━━━━━━━━━━━━━━━━━━━━\u001b[0m\u001b[37m\u001b[0m \u001b[1m8s\u001b[0m 27ms/step - accuracy: 0.8567 - loss: 1.0687 - val_accuracy: 0.9738 - val_loss: 0.1751\n",
      "Epoch 2/10\n",
      "\u001b[1m128/128\u001b[0m \u001b[32m━━━━━━━━━━━━━━━━━━━━\u001b[0m\u001b[37m\u001b[0m \u001b[1m4s\u001b[0m 17ms/step - accuracy: 0.9812 - loss: 0.1009 - val_accuracy: 0.9837 - val_loss: 0.1165\n",
      "Epoch 3/10\n",
      "\u001b[1m128/128\u001b[0m \u001b[32m━━━━━━━━━━━━━━━━━━━━\u001b[0m\u001b[37m\u001b[0m \u001b[1m2s\u001b[0m 17ms/step - accuracy: 0.9905 - loss: 0.0446 - val_accuracy: 0.9878 - val_loss: 0.1058\n",
      "Epoch 4/10\n",
      "\u001b[1m128/128\u001b[0m \u001b[32m━━━━━━━━━━━━━━━━━━━━\u001b[0m\u001b[37m\u001b[0m \u001b[1m2s\u001b[0m 17ms/step - accuracy: 0.9945 - loss: 0.0267 - val_accuracy: 0.9892 - val_loss: 0.0998\n",
      "Epoch 5/10\n",
      "\u001b[1m128/128\u001b[0m \u001b[32m━━━━━━━━━━━━━━━━━━━━\u001b[0m\u001b[37m\u001b[0m \u001b[1m2s\u001b[0m 18ms/step - accuracy: 0.9964 - loss: 0.0175 - val_accuracy: 0.9897 - val_loss: 0.0980\n",
      "Epoch 6/10\n",
      "\u001b[1m128/128\u001b[0m \u001b[32m━━━━━━━━━━━━━━━━━━━━\u001b[0m\u001b[37m\u001b[0m \u001b[1m3s\u001b[0m 21ms/step - accuracy: 0.9974 - loss: 0.0128 - val_accuracy: 0.9903 - val_loss: 0.0970\n",
      "Epoch 7/10\n",
      "\u001b[1m128/128\u001b[0m \u001b[32m━━━━━━━━━━━━━━━━━━━━\u001b[0m\u001b[37m\u001b[0m \u001b[1m2s\u001b[0m 18ms/step - accuracy: 0.9980 - loss: 0.0097 - val_accuracy: 0.9907 - val_loss: 0.0964\n",
      "Epoch 8/10\n",
      "\u001b[1m128/128\u001b[0m \u001b[32m━━━━━━━━━━━━━━━━━━━━\u001b[0m\u001b[37m\u001b[0m \u001b[1m2s\u001b[0m 16ms/step - accuracy: 0.9984 - loss: 0.0074 - val_accuracy: 0.9912 - val_loss: 0.0970\n",
      "Epoch 9/10\n",
      "\u001b[1m128/128\u001b[0m \u001b[32m━━━━━━━━━━━━━━━━━━━━\u001b[0m\u001b[37m\u001b[0m \u001b[1m3s\u001b[0m 18ms/step - accuracy: 0.9985 - loss: 0.0059 - val_accuracy: 0.9912 - val_loss: 0.0973\n",
      "Epoch 10/10\n",
      "\u001b[1m128/128\u001b[0m \u001b[32m━━━━━━━━━━━━━━━━━━━━\u001b[0m\u001b[37m\u001b[0m \u001b[1m2s\u001b[0m 17ms/step - accuracy: 0.9990 - loss: 0.0046 - val_accuracy: 0.9914 - val_loss: 0.0979\n",
      "\u001b[1m29/29\u001b[0m \u001b[32m━━━━━━━━━━━━━━━━━━━━\u001b[0m\u001b[37m\u001b[0m \u001b[1m0s\u001b[0m 9ms/step - accuracy: 0.9927 - loss: 0.0837\n",
      "\u001b[1m28/28\u001b[0m \u001b[32m━━━━━━━━━━━━━━━━━━━━\u001b[0m\u001b[37m\u001b[0m \u001b[1m0s\u001b[0m 8ms/step - accuracy: 0.9908 - loss: 0.0970\n",
      "\u001b[1m29/29\u001b[0m \u001b[32m━━━━━━━━━━━━━━━━━━━━\u001b[0m\u001b[37m\u001b[0m \u001b[1m2s\u001b[0m 33ms/step\n",
      "\u001b[1m28/28\u001b[0m \u001b[32m━━━━━━━━━━━━━━━━━━━━\u001b[0m\u001b[37m\u001b[0m \u001b[1m0s\u001b[0m 4ms/step\n"
     ]
    },
    {
     "data": {
      "image/png": "[encoded data removed]",
      "text/plain": [
       "<Figure size 1000x400 with 2 Axes>"
      ]
     },
     "metadata": {},
     "output_type": "display_data"
    },
    {
     "name": "stderr",
     "output_type": "stream",
     "text": [
      "/usr/local/lib/python3.10/dist-packages/keras/src/layers/core/embedding.py:90: UserWarning: Argument `input_length` is deprecated. Just remove it.\n",
      "  warnings.warn(\n"
     ]
    },
    {
     "name": "stdout",
     "output_type": "stream",
     "text": [
      "Epoch 1/10\n",
      "\u001b[1m128/128\u001b[0m \u001b[32m━━━━━━━━━━━━━━━━━━━━\u001b[0m\u001b[37m\u001b[0m \u001b[1m7s\u001b[0m 22ms/step - accuracy: 0.8483 - loss: 1.1015 - val_accuracy: 0.9675 - val_loss: 0.1881\n",
      "Epoch 2/10\n",
      "\u001b[1m128/128\u001b[0m \u001b[32m━━━━━━━━━━━━━━━━━━━━\u001b[0m\u001b[37m\u001b[0m \u001b[1m2s\u001b[0m 17ms/step - accuracy: 0.9755 - loss: 0.1257 - val_accuracy: 0.9804 - val_loss: 0.1269\n",
      "Epoch 3/10\n",
      "\u001b[1m128/128\u001b[0m \u001b[32m━━━━━━━━━━━━━━━━━━━━\u001b[0m\u001b[37m\u001b[0m \u001b[1m3s\u001b[0m 21ms/step - accuracy: 0.9866 - loss: 0.0619 - val_accuracy: 0.9856 - val_loss: 0.1121\n",
      "Epoch 4/10\n",
      "\u001b[1m128/128\u001b[0m \u001b[32m━━━━━━━━━━━━━━━━━━━━\u001b[0m\u001b[37m\u001b[0m \u001b[1m5s\u001b[0m 17ms/step - accuracy: 0.9922 - loss: 0.0375 - val_accuracy: 0.9878 - val_loss: 0.1046\n",
      "Epoch 5/10\n",
      "\u001b[1m128/128\u001b[0m \u001b[32m━━━━━━━━━━━━━━━━━━━━\u001b[0m\u001b[37m\u001b[0m \u001b[1m2s\u001b[0m 17ms/step - accuracy: 0.9946 - loss: 0.0245 - val_accuracy: 0.9893 - val_loss: 0.1017\n",
      "Epoch 6/10\n",
      "\u001b[1m128/128\u001b[0m \u001b[32m━━━━━━━━━━━━━━━━━━━━\u001b[0m\u001b[37m\u001b[0m \u001b[1m2s\u001b[0m 16ms/step - accuracy: 0.9961 - loss: 0.0177 - val_accuracy: 0.9903 - val_loss: 0.1001\n",
      "Epoch 7/10\n",
      "\u001b[1m128/128\u001b[0m \u001b[32m━━━━━━━━━━━━━━━━━━━━\u001b[0m\u001b[37m\u001b[0m \u001b[1m3s\u001b[0m 22ms/step - accuracy: 0.9972 - loss: 0.0137 - val_accuracy: 0.9909 - val_loss: 0.0998\n",
      "Epoch 8/10\n",
      "\u001b[1m128/128\u001b[0m \u001b[32m━━━━━━━━━━━━━━━━━━━━\u001b[0m\u001b[37m\u001b[0m \u001b[1m2s\u001b[0m 17ms/step - accuracy: 0.9976 - loss: 0.0108 - val_accuracy: 0.9910 - val_loss: 0.0999\n",
      "Epoch 9/10\n",
      "\u001b[1m128/128\u001b[0m \u001b[32m━━━━━━━━━━━━━━━━━━━━\u001b[0m\u001b[37m\u001b[0m \u001b[1m3s\u001b[0m 17ms/step - accuracy: 0.9980 - loss: 0.0087 - val_accuracy: 0.9908 - val_loss: 0.1005\n",
      "Epoch 10/10\n",
      "\u001b[1m128/128\u001b[0m \u001b[32m━━━━━━━━━━━━━━━━━━━━\u001b[0m\u001b[37m\u001b[0m \u001b[1m3s\u001b[0m 16ms/step - accuracy: 0.9982 - loss: 0.0075 - val_accuracy: 0.9913 - val_loss: 0.1002\n",
      "\u001b[1m29/29\u001b[0m \u001b[32m━━━━━━━━━━━━━━━━━━━━\u001b[0m\u001b[37m\u001b[0m \u001b[1m0s\u001b[0m 6ms/step - accuracy: 0.9924 - loss: 0.0856\n",
      "\u001b[1m28/28\u001b[0m \u001b[32m━━━━━━━━━━━━━━━━━━━━\u001b[0m\u001b[37m\u001b[0m \u001b[1m0s\u001b[0m 6ms/step - accuracy: 0.9907 - loss: 0.0985\n",
      "\u001b[1m29/29\u001b[0m \u001b[32m━━━━━━━━━━━━━━━━━━━━\u001b[0m\u001b[37m\u001b[0m \u001b[1m1s\u001b[0m 21ms/step\n",
      "\u001b[1m28/28\u001b[0m \u001b[32m━━━━━━━━━━━━━━━━━━━━\u001b[0m\u001b[37m\u001b[0m \u001b[1m0s\u001b[0m 5ms/step\n"
     ]
    },
    {
     "data": {
      "image/png": "[encoded data removed]",
      "text/plain": [
       "<Figure size 1000x400 with 2 Axes>"
      ]
     },
     "metadata": {},
     "output_type": "display_data"
    },
    {
     "name": "stderr",
     "output_type": "stream",
     "text": [
      "/usr/local/lib/python3.10/dist-packages/keras/src/layers/core/embedding.py:90: UserWarning: Argument `input_length` is deprecated. Just remove it.\n",
      "  warnings.warn(\n"
     ]
    },
    {
     "name": "stdout",
     "output_type": "stream",
     "text": [
      "Epoch 1/10\n",
      "\u001b[1m128/128\u001b[0m \u001b[32m━━━━━━━━━━━━━━━━━━━━\u001b[0m\u001b[37m\u001b[0m \u001b[1m8s\u001b[0m 23ms/step - accuracy: 0.8349 - loss: 1.1436 - val_accuracy: 0.9685 - val_loss: 0.1923\n",
      "Epoch 2/10\n",
      "\u001b[1m128/128\u001b[0m \u001b[32m━━━━━━━━━━━━━━━━━━━━\u001b[0m\u001b[37m\u001b[0m \u001b[1m2s\u001b[0m 17ms/step - accuracy: 0.9765 - loss: 0.1220 - val_accuracy: 0.9818 - val_loss: 0.1287\n",
      "Epoch 3/10\n",
      "\u001b[1m128/128\u001b[0m \u001b[32m━━━━━━━━━━━━━━━━━━━━\u001b[0m\u001b[37m\u001b[0m \u001b[1m2s\u001b[0m 17ms/step - accuracy: 0.9871 - loss: 0.0605 - val_accuracy: 0.9858 - val_loss: 0.1152\n",
      "Epoch 4/10\n",
      "\u001b[1m128/128\u001b[0m \u001b[32m━━━━━━━━━━━━━━━━━━━━\u001b[0m\u001b[37m\u001b[0m \u001b[1m3s\u001b[0m 22ms/step - accuracy: 0.9915 - loss: 0.0387 - val_accuracy: 0.9878 - val_loss: 0.1071\n",
      "Epoch 5/10\n",
      "\u001b[1m128/128\u001b[0m \u001b[32m━━━━━━━━━━━━━━━━━━━━\u001b[0m\u001b[37m\u001b[0m \u001b[1m2s\u001b[0m 17ms/step - accuracy: 0.9941 - loss: 0.0272 - val_accuracy: 0.9891 - val_loss: 0.1017\n",
      "Epoch 6/10\n",
      "\u001b[1m128/128\u001b[0m \u001b[32m━━━━━━━━━━━━━━━━━━━━\u001b[0m\u001b[37m\u001b[0m \u001b[1m2s\u001b[0m 17ms/step - accuracy: 0.9956 - loss: 0.0194 - val_accuracy: 0.9897 - val_loss: 0.1005\n",
      "Epoch 7/10\n",
      "\u001b[1m128/128\u001b[0m \u001b[32m━━━━━━━━━━━━━━━━━━━━\u001b[0m\u001b[37m\u001b[0m \u001b[1m2s\u001b[0m 17ms/step - accuracy: 0.9967 - loss: 0.0150 - val_accuracy: 0.9903 - val_loss: 0.0994\n",
      "Epoch 8/10\n",
      "\u001b[1m128/128\u001b[0m \u001b[32m━━━━━━━━━━━━━━━━━━━━\u001b[0m\u001b[37m\u001b[0m \u001b[1m3s\u001b[0m 17ms/step - accuracy: 0.9974 - loss: 0.0113 - val_accuracy: 0.9908 - val_loss: 0.0989\n",
      "Epoch 9/10\n",
      "\u001b[1m128/128\u001b[0m \u001b[32m━━━━━━━━━━━━━━━━━━━━\u001b[0m\u001b[37m\u001b[0m \u001b[1m3s\u001b[0m 21ms/step - accuracy: 0.9979 - loss: 0.0088 - val_accuracy: 0.9910 - val_loss: 0.0990\n",
      "Epoch 10/10\n",
      "\u001b[1m128/128\u001b[0m \u001b[32m━━━━━━━━━━━━━━━━━━━━\u001b[0m\u001b[37m\u001b[0m \u001b[1m5s\u001b[0m 18ms/step - accuracy: 0.9984 - loss: 0.0071 - val_accuracy: 0.9912 - val_loss: 0.0991\n",
      "\u001b[1m29/29\u001b[0m \u001b[32m━━━━━━━━━━━━━━━━━━━━\u001b[0m\u001b[37m\u001b[0m \u001b[1m0s\u001b[0m 5ms/step - accuracy: 0.9920 - loss: 0.0852\n",
      "\u001b[1m28/28\u001b[0m \u001b[32m━━━━━━━━━━━━━━━━━━━━\u001b[0m\u001b[37m\u001b[0m \u001b[1m0s\u001b[0m 6ms/step - accuracy: 0.9910 - loss: 0.0983\n",
      "\u001b[1m29/29\u001b[0m \u001b[32m━━━━━━━━━━━━━━━━━━━━\u001b[0m\u001b[37m\u001b[0m \u001b[1m1s\u001b[0m 21ms/step\n",
      "\u001b[1m28/28\u001b[0m \u001b[32m━━━━━━━━━━━━━━━━━━━━\u001b[0m\u001b[37m\u001b[0m \u001b[1m0s\u001b[0m 4ms/step\n"
     ]
    },
    {
     "data": {
      "image/png": "[encoded data removed]",
      "text/plain": [
       "<Figure size 1000x400 with 2 Axes>"
      ]
     },
     "metadata": {},
     "output_type": "display_data"
    },
    {
     "name": "stderr",
     "output_type": "stream",
     "text": [
      "/usr/local/lib/python3.10/dist-packages/keras/src/layers/core/embedding.py:90: UserWarning: Argument `input_length` is deprecated. Just remove it.\n",
      "  warnings.warn(\n"
     ]
    },
    {
     "name": "stdout",
     "output_type": "stream",
     "text": [
      "Epoch 1/10\n",
      "\u001b[1m128/128\u001b[0m \u001b[32m━━━━━━━━━━━━━━━━━━━━\u001b[0m\u001b[37m\u001b[0m \u001b[1m8s\u001b[0m 23ms/step - accuracy: 0.7852 - loss: 1.2454 - val_accuracy: 0.9502 - val_loss: 0.2520\n",
      "Epoch 2/10\n",
      "\u001b[1m128/128\u001b[0m \u001b[32m━━━━━━━━━━━━━━━━━━━━\u001b[0m\u001b[37m\u001b[0m \u001b[1m2s\u001b[0m 17ms/step - accuracy: 0.9537 - loss: 0.1990 - val_accuracy: 0.9689 - val_loss: 0.1878\n",
      "Epoch 3/10\n",
      "\u001b[1m128/128\u001b[0m \u001b[32m━━━━━━━━━━━━━━━━━━━━\u001b[0m\u001b[37m\u001b[0m \u001b[1m2s\u001b[0m 17ms/step - accuracy: 0.9676 - loss: 0.1335 - val_accuracy: 0.9779 - val_loss: 0.1581\n",
      "Epoch 4/10\n",
      "\u001b[1m128/128\u001b[0m \u001b[32m━━━━━━━━━━━━━━━━━━━━\u001b[0m\u001b[37m\u001b[0m \u001b[1m3s\u001b[0m 17ms/step - accuracy: 0.9755 - loss: 0.0991 - val_accuracy: 0.9804 - val_loss: 0.1439\n",
      "Epoch 5/10\n",
      "\u001b[1m128/128\u001b[0m \u001b[32m━━━━━━━━━━━━━━━━━━━━\u001b[0m\u001b[37m\u001b[0m \u001b[1m3s\u001b[0m 22ms/step - accuracy: 0.9795 - loss: 0.0795 - val_accuracy: 0.9826 - val_loss: 0.1350\n",
      "Epoch 6/10\n",
      "\u001b[1m128/128\u001b[0m \u001b[32m━━━━━━━━━━━━━━━━━━━━\u001b[0m\u001b[37m\u001b[0m \u001b[1m4s\u001b[0m 17ms/step - accuracy: 0.9820 - loss: 0.0668 - val_accuracy: 0.9852 - val_loss: 0.1289\n",
      "Epoch 7/10\n",
      "\u001b[1m128/128\u001b[0m \u001b[32m━━━━━━━━━━━━━━━━━━━━\u001b[0m\u001b[37m\u001b[0m \u001b[1m2s\u001b[0m 17ms/step - accuracy: 0.9842 - loss: 0.0576 - val_accuracy: 0.9865 - val_loss: 0.1243\n",
      "Epoch 8/10\n",
      "\u001b[1m128/128\u001b[0m \u001b[32m━━━━━━━━━━━━━━━━━━━━\u001b[0m\u001b[37m\u001b[0m \u001b[1m3s\u001b[0m 17ms/step - accuracy: 0.9867 - loss: 0.0485 - val_accuracy: 0.9880 - val_loss: 0.1200\n",
      "Epoch 9/10\n",
      "\u001b[1m128/128\u001b[0m \u001b[32m━━━━━━━━━━━━━━━━━━━━\u001b[0m\u001b[37m\u001b[0m \u001b[1m3s\u001b[0m 22ms/step - accuracy: 0.9882 - loss: 0.0422 - val_accuracy: 0.9885 - val_loss: 0.1177\n",
      "Epoch 10/10\n",
      "\u001b[1m128/128\u001b[0m \u001b[32m━━━━━━━━━━━━━━━━━━━━\u001b[0m\u001b[37m\u001b[0m \u001b[1m2s\u001b[0m 17ms/step - accuracy: 0.9890 - loss: 0.0376 - val_accuracy: 0.9892 - val_loss: 0.1154\n",
      "\u001b[1m29/29\u001b[0m \u001b[32m━━━━━━━━━━━━━━━━━━━━\u001b[0m\u001b[37m\u001b[0m \u001b[1m0s\u001b[0m 6ms/step - accuracy: 0.9900 - loss: 0.0994\n",
      "\u001b[1m28/28\u001b[0m \u001b[32m━━━━━━━━━━━━━━━━━━━━\u001b[0m\u001b[37m\u001b[0m \u001b[1m0s\u001b[0m 6ms/step - accuracy: 0.9899 - loss: 0.1088\n",
      "\u001b[1m29/29\u001b[0m \u001b[32m━━━━━━━━━━━━━━━━━━━━\u001b[0m\u001b[37m\u001b[0m \u001b[1m1s\u001b[0m 21ms/step\n",
      "\u001b[1m28/28\u001b[0m \u001b[32m━━━━━━━━━━━━━━━━━━━━\u001b[0m\u001b[37m\u001b[0m \u001b[1m0s\u001b[0m 5ms/step\n"
     ]
    },
    {
     "data": {
      "image/png": "[encoded data removed]",
      "text/plain": [
       "<Figure size 1000x400 with 2 Axes>"
      ]
     },
     "metadata": {},
     "output_type": "display_data"
    },
    {
     "name": "stderr",
     "output_type": "stream",
     "text": [
      "/usr/local/lib/python3.10/dist-packages/keras/src/layers/core/embedding.py:90: UserWarning: Argument `input_length` is deprecated. Just remove it.\n",
      "  warnings.warn(\n"
     ]
    },
    {
     "name": "stdout",
     "output_type": "stream",
     "text": [
      "Epoch 1/10\n",
      "\u001b[1m128/128\u001b[0m \u001b[32m━━━━━━━━━━━━━━━━━━━━\u001b[0m\u001b[37m\u001b[0m \u001b[1m9s\u001b[0m 28ms/step - accuracy: 0.7870 - loss: 1.2843 - val_accuracy: 0.9499 - val_loss: 0.2517\n",
      "Epoch 2/10\n",
      "\u001b[1m128/128\u001b[0m \u001b[32m━━━━━━━━━━━━━━━━━━━━\u001b[0m\u001b[37m\u001b[0m \u001b[1m2s\u001b[0m 17ms/step - accuracy: 0.9532 - loss: 0.2012 - val_accuracy: 0.9710 - val_loss: 0.1934\n",
      "Epoch 3/10\n",
      "\u001b[1m128/128\u001b[0m \u001b[32m━━━━━━━━━━━━━━━━━━━━\u001b[0m\u001b[37m\u001b[0m \u001b[1m3s\u001b[0m 18ms/step - accuracy: 0.9689 - loss: 0.1354 - val_accuracy: 0.9783 - val_loss: 0.1572\n",
      "Epoch 4/10\n",
      "\u001b[1m128/128\u001b[0m \u001b[32m━━━━━━━━━━━━━━━━━━━━\u001b[0m\u001b[37m\u001b[0m \u001b[1m3s\u001b[0m 18ms/step - accuracy: 0.9768 - loss: 0.0970 - val_accuracy: 0.9811 - val_loss: 0.1417\n",
      "Epoch 5/10\n",
      "\u001b[1m128/128\u001b[0m \u001b[32m━━━━━━━━━━━━━━━━━━━━\u001b[0m\u001b[37m\u001b[0m \u001b[1m3s\u001b[0m 20ms/step - accuracy: 0.9809 - loss: 0.0748 - val_accuracy: 0.9830 - val_loss: 0.1323\n",
      "Epoch 6/10\n",
      "\u001b[1m128/128\u001b[0m \u001b[32m━━━━━━━━━━━━━━━━━━━━\u001b[0m\u001b[37m\u001b[0m \u001b[1m5s\u001b[0m 18ms/step - accuracy: 0.9836 - loss: 0.0620 - val_accuracy: 0.9852 - val_loss: 0.1269\n",
      "Epoch 7/10\n",
      "\u001b[1m128/128\u001b[0m \u001b[32m━━━━━━━━━━━━━━━━━━━━\u001b[0m\u001b[37m\u001b[0m \u001b[1m2s\u001b[0m 18ms/step - accuracy: 0.9864 - loss: 0.0509 - val_accuracy: 0.9868 - val_loss: 0.1218\n",
      "Epoch 8/10\n",
      "\u001b[1m128/128\u001b[0m \u001b[32m━━━━━━━━━━━━━━━━━━━━\u001b[0m\u001b[37m\u001b[0m \u001b[1m2s\u001b[0m 18ms/step - accuracy: 0.9884 - loss: 0.0427 - val_accuracy: 0.9874 - val_loss: 0.1207\n",
      "Epoch 9/10\n",
      "\u001b[1m128/128\u001b[0m \u001b[32m━━━━━━━━━━━━━━━━━━━━\u001b[0m\u001b[37m\u001b[0m \u001b[1m3s\u001b[0m 20ms/step - accuracy: 0.9900 - loss: 0.0366 - val_accuracy: 0.9884 - val_loss: 0.1176\n",
      "Epoch 10/10\n",
      "\u001b[1m128/128\u001b[0m \u001b[32m━━━━━━━━━━━━━━━━━━━━\u001b[0m\u001b[37m\u001b[0m \u001b[1m3s\u001b[0m 21ms/step - accuracy: 0.9914 - loss: 0.0321 - val_accuracy: 0.9892 - val_loss: 0.1159\n",
      "\u001b[1m29/29\u001b[0m \u001b[32m━━━━━━━━━━━━━━━━━━━━\u001b[0m\u001b[37m\u001b[0m \u001b[1m0s\u001b[0m 6ms/step - accuracy: 0.9902 - loss: 0.0987\n",
      "\u001b[1m28/28\u001b[0m \u001b[32m━━━━━━━━━━━━━━━━━━━━\u001b[0m\u001b[37m\u001b[0m \u001b[1m0s\u001b[0m 6ms/step - accuracy: 0.9893 - loss: 0.1057\n",
      "\u001b[1m29/29\u001b[0m \u001b[32m━━━━━━━━━━━━━━━━━━━━\u001b[0m\u001b[37m\u001b[0m \u001b[1m1s\u001b[0m 22ms/step\n",
      "\u001b[1m28/28\u001b[0m \u001b[32m━━━━━━━━━━━━━━━━━━━━\u001b[0m\u001b[37m\u001b[0m \u001b[1m0s\u001b[0m 4ms/step\n"
     ]
    },
    {
     "data": {
      "image/png": "[encoded data removed]",
      "text/plain": [
       "<Figure size 1000x400 with 2 Axes>"
      ]
     },
     "metadata": {},
     "output_type": "display_data"
    },
    {
     "name": "stdout",
     "output_type": "stream",
     "text": [
      " configuració  val_accuracy  f1_score_val  test_accuracy  f1_score_test\n",
      "            4      0.991178      0.790498       0.991255       0.721117\n",
      "            2      0.991372      0.780739       0.990911       0.696119\n",
      "            1      0.991445      0.777087       0.991010       0.709529\n",
      "            3      0.991275      0.764143       0.991059       0.704827\n",
      "            6      0.989167      0.626754       0.989659       0.558485\n",
      "            5      0.989240      0.587294       0.990101       0.567907\n"
     ]
    }
   ],
   "source": [
    "import random\n",
    "\n",
    "random.seed(42)\n",
    "np.random.seed(42)\n",
    "tf.random.set_seed(42)\n",
    "\n",
    "emb = 1000\n",
    "results = []\n",
    "\n",
    "for config in range(1,7):\n",
    "    accuracy_val, accuracy_test, f1_score_val, f1_score_test, history = model(\n",
    "        train_pad_sequences, val_pad_sequences, test_pad_sequences,\n",
    "        train_labels_one_hot, val_labels_one_hot, test_labels_one_hot,\n",
    "        len(unique_words_dict) + 1, emb, max_sequence_length, num_classes, config)\n",
    "    results.append({\n",
    "        'configuració': config,\n",
    "        'val_accuracy': accuracy_val,\n",
    "        'f1_score_val': f1_score_val,\n",
    "        'test_accuracy': accuracy_test,\n",
    "        'f1_score_test': f1_score_test\n",
    "    })\n",
    "    plot_curves(history)\n",
    "\n",
    "results_df = pd.DataFrame(results)\n",
    "results_df = results_df.sort_values(by='f1_score_val', ascending=False)\n",
    "print(results_df.to_string(index=False))"
   ]
  },
  {
   "cell_type": "markdown",
   "metadata": {
    "id": "3T8O3mHhP8tp"
   },
   "source": [
    "## Model final"
   ]
  },
  {
   "cell_type": "code",
   "execution_count": 17,
   "metadata": {
    "colab": {
     "base_uri": "https://localhost:8080/",
     "height": 1000
    },
    "id": "2z0yDYBDPDj8",
    "outputId": "892df950-f173-49c8-cb9a-f0dcb5deaa5e"
   },
   "outputs": [
    {
     "name": "stdout",
     "output_type": "stream",
     "text": [
      "Epoch 1/20\n"
     ]
    },
    {
     "name": "stderr",
     "output_type": "stream",
     "text": [
      "C:\\Users\\marta\\AppData\\Roaming\\Python\\Python311\\site-packages\\keras\\src\\layers\\core\\embedding.py:90: UserWarning: Argument `input_length` is deprecated. Just remove it.\n",
      "  warnings.warn(\n"
     ]
    },
    {
     "name": "stdout",
     "output_type": "stream",
     "text": [
      "\u001b[1m128/128\u001b[0m \u001b[32m━━━━━━━━━━━━━━━━━━━━\u001b[0m\u001b[37m\u001b[0m \u001b[1m15s\u001b[0m 83ms/step - accuracy: 0.8731 - loss: 1.0239 - val_accuracy: 0.9757 - val_loss: 0.1651\n",
      "Epoch 2/20\n",
      "\u001b[1m128/128\u001b[0m \u001b[32m━━━━━━━━━━━━━━━━━━━━\u001b[0m\u001b[37m\u001b[0m \u001b[1m10s\u001b[0m 80ms/step - accuracy: 0.9828 - loss: 0.0918 - val_accuracy: 0.9843 - val_loss: 0.1148\n",
      "Epoch 3/20\n",
      "\u001b[1m128/128\u001b[0m \u001b[32m━━━━━━━━━━━━━━━━━━━━\u001b[0m\u001b[37m\u001b[0m \u001b[1m10s\u001b[0m 81ms/step - accuracy: 0.9914 - loss: 0.0402 - val_accuracy: 0.9877 - val_loss: 0.1048\n",
      "Epoch 4/20\n",
      "\u001b[1m128/128\u001b[0m \u001b[32m━━━━━━━━━━━━━━━━━━━━\u001b[0m\u001b[37m\u001b[0m \u001b[1m10s\u001b[0m 81ms/step - accuracy: 0.9949 - loss: 0.0237 - val_accuracy: 0.9891 - val_loss: 0.1005\n",
      "Epoch 5/20\n",
      "\u001b[1m128/128\u001b[0m \u001b[32m━━━━━━━━━━━━━━━━━━━━\u001b[0m\u001b[37m\u001b[0m \u001b[1m10s\u001b[0m 79ms/step - accuracy: 0.9966 - loss: 0.0157 - val_accuracy: 0.9899 - val_loss: 0.0986\n",
      "Epoch 6/20\n",
      "\u001b[1m128/128\u001b[0m \u001b[32m━━━━━━━━━━━━━━━━━━━━\u001b[0m\u001b[37m\u001b[0m \u001b[1m10s\u001b[0m 80ms/step - accuracy: 0.9976 - loss: 0.0111 - val_accuracy: 0.9905 - val_loss: 0.0975\n",
      "Epoch 7/20\n",
      "\u001b[1m128/128\u001b[0m \u001b[32m━━━━━━━━━━━━━━━━━━━━\u001b[0m\u001b[37m\u001b[0m \u001b[1m10s\u001b[0m 80ms/step - accuracy: 0.9984 - loss: 0.0080 - val_accuracy: 0.9909 - val_loss: 0.0979\n",
      "Epoch 8/20\n",
      "\u001b[1m128/128\u001b[0m \u001b[32m━━━━━━━━━━━━━━━━━━━━\u001b[0m\u001b[37m\u001b[0m \u001b[1m10s\u001b[0m 80ms/step - accuracy: 0.9987 - loss: 0.0060 - val_accuracy: 0.9911 - val_loss: 0.0983\n",
      "Epoch 9/20\n",
      "\u001b[1m128/128\u001b[0m \u001b[32m━━━━━━━━━━━━━━━━━━━━\u001b[0m\u001b[37m\u001b[0m \u001b[1m11s\u001b[0m 83ms/step - accuracy: 0.9991 - loss: 0.0042 - val_accuracy: 0.9914 - val_loss: 0.0992\n",
      "Epoch 10/20\n",
      "\u001b[1m128/128\u001b[0m \u001b[32m━━━━━━━━━━━━━━━━━━━━\u001b[0m\u001b[37m\u001b[0m \u001b[1m11s\u001b[0m 82ms/step - accuracy: 0.9992 - loss: 0.0031 - val_accuracy: 0.9915 - val_loss: 0.1001\n",
      "Epoch 11/20\n",
      "\u001b[1m128/128\u001b[0m \u001b[32m━━━━━━━━━━━━━━━━━━━━\u001b[0m\u001b[37m\u001b[0m \u001b[1m10s\u001b[0m 81ms/step - accuracy: 0.9995 - loss: 0.0025 - val_accuracy: 0.9916 - val_loss: 0.1015\n",
      "Epoch 12/20\n",
      "\u001b[1m128/128\u001b[0m \u001b[32m━━━━━━━━━━━━━━━━━━━━\u001b[0m\u001b[37m\u001b[0m \u001b[1m10s\u001b[0m 81ms/step - accuracy: 0.9997 - loss: 0.0018 - val_accuracy: 0.9915 - val_loss: 0.1027\n",
      "Epoch 13/20\n",
      "\u001b[1m128/128\u001b[0m \u001b[32m━━━━━━━━━━━━━━━━━━━━\u001b[0m\u001b[37m\u001b[0m \u001b[1m10s\u001b[0m 81ms/step - accuracy: 0.9997 - loss: 0.0014 - val_accuracy: 0.9915 - val_loss: 0.1035\n",
      "Epoch 14/20\n",
      "\u001b[1m128/128\u001b[0m \u001b[32m━━━━━━━━━━━━━━━━━━━━\u001b[0m\u001b[37m\u001b[0m \u001b[1m10s\u001b[0m 80ms/step - accuracy: 0.9998 - loss: 0.0011 - val_accuracy: 0.9915 - val_loss: 0.1043\n",
      "Epoch 15/20\n",
      "\u001b[1m128/128\u001b[0m \u001b[32m━━━━━━━━━━━━━━━━━━━━\u001b[0m\u001b[37m\u001b[0m \u001b[1m10s\u001b[0m 82ms/step - accuracy: 0.9998 - loss: 7.9035e-04 - val_accuracy: 0.9916 - val_loss: 0.1049\n",
      "Epoch 16/20\n",
      "\u001b[1m128/128\u001b[0m \u001b[32m━━━━━━━━━━━━━━━━━━━━\u001b[0m\u001b[37m\u001b[0m \u001b[1m11s\u001b[0m 83ms/step - accuracy: 0.9999 - loss: 6.8116e-04 - val_accuracy: 0.9915 - val_loss: 0.1056\n",
      "Epoch 17/20\n",
      "\u001b[1m128/128\u001b[0m \u001b[32m━━━━━━━━━━━━━━━━━━━━\u001b[0m\u001b[37m\u001b[0m \u001b[1m11s\u001b[0m 83ms/step - accuracy: 0.9999 - loss: 5.9517e-04 - val_accuracy: 0.9916 - val_loss: 0.1056\n",
      "Epoch 18/20\n",
      "\u001b[1m128/128\u001b[0m \u001b[32m━━━━━━━━━━━━━━━━━━━━\u001b[0m\u001b[37m\u001b[0m \u001b[1m11s\u001b[0m 84ms/step - accuracy: 0.9999 - loss: 4.9388e-04 - val_accuracy: 0.9916 - val_loss: 0.1061\n",
      "Epoch 19/20\n",
      "\u001b[1m128/128\u001b[0m \u001b[32m━━━━━━━━━━━━━━━━━━━━\u001b[0m\u001b[37m\u001b[0m \u001b[1m11s\u001b[0m 85ms/step - accuracy: 1.0000 - loss: 4.3713e-04 - val_accuracy: 0.9915 - val_loss: 0.1069\n",
      "Epoch 20/20\n",
      "\u001b[1m128/128\u001b[0m \u001b[32m━━━━━━━━━━━━━━━━━━━━\u001b[0m\u001b[37m\u001b[0m \u001b[1m11s\u001b[0m 84ms/step - accuracy: 1.0000 - loss: 4.0655e-04 - val_accuracy: 0.9915 - val_loss: 0.1075\n",
      "\u001b[1m29/29\u001b[0m \u001b[32m━━━━━━━━━━━━━━━━━━━━\u001b[0m\u001b[37m\u001b[0m \u001b[1m1s\u001b[0m 23ms/step - accuracy: 0.9925 - loss: 0.0923\n",
      "\u001b[1m28/28\u001b[0m \u001b[32m━━━━━━━━━━━━━━━━━━━━\u001b[0m\u001b[37m\u001b[0m \u001b[1m1s\u001b[0m 23ms/step - accuracy: 0.9912 - loss: 0.1028\n",
      "\u001b[1m29/29\u001b[0m \u001b[32m━━━━━━━━━━━━━━━━━━━━\u001b[0m\u001b[37m\u001b[0m \u001b[1m2s\u001b[0m 40ms/step\n",
      "\u001b[1m28/28\u001b[0m \u001b[32m━━━━━━━━━━━━━━━━━━━━\u001b[0m\u001b[37m\u001b[0m \u001b[1m1s\u001b[0m 21ms/step\n"
     ]
    },
    {
     "data": {
      "image/png": "[encoded data removed]",
      "text/plain": [
       "<Figure size 1000x400 with 2 Axes>"
      ]
     },
     "metadata": {},
     "output_type": "display_data"
    },
    {
     "name": "stdout",
     "output_type": "stream",
     "text": [
      " val_accuracy  f1_score_val  test_accuracy  f1_score_test\n",
      "     0.991517      0.835674       0.991624       0.763682\n"
     ]
    }
   ],
   "source": [
    "random.seed(42)\n",
    "np.random.seed(42)\n",
    "tf.random.set_seed(42)\n",
    "\n",
    "embedding_dim = 1000\n",
    "vocab_size = len(unique_words_dict) + 1\n",
    "\n",
    "model = Sequential()\n",
    "model.add(Embedding(input_dim=vocab_size, output_dim=embedding_dim, input_length=max_sequence_length))\n",
    "model.add(Bidirectional(GRU(128, return_sequences=True)))\n",
    "model.add(Dense(64, activation='relu'))\n",
    "model.add(TimeDistributed(Dense(num_classes, activation='softmax')))\n",
    "\n",
    "# Compilar el model\n",
    "model.compile(optimizer='adam', loss='categorical_crossentropy', metrics=['accuracy'])\n",
    "\n",
    "# Entrenament\n",
    "batch_size = 32\n",
    "epochs = 20\n",
    "history = model.fit(train_pad_sequences, train_labels_one_hot, batch_size=batch_size, epochs=epochs, validation_data=(val_pad_sequences, val_labels_one_hot))\n",
    "\n",
    "# Avaluació\n",
    "loss_val, accuracy_val = model.evaluate(val_pad_sequences, val_labels_one_hot, batch_size=batch_size)\n",
    "loss_test, accuracy_test = model.evaluate(test_pad_sequences, test_labels_one_hot, batch_size=batch_size)\n",
    "\n",
    "# F1-SCORE\n",
    "val_true_labels = np.argmax(val_labels_one_hot, axis=2).flatten()\n",
    "test_true_labels = np.argmax(test_labels_one_hot, axis=2).flatten()\n",
    "\n",
    "val_predictions = model.predict(val_pad_sequences, batch_size=batch_size)\n",
    "test_predictions = model.predict(test_pad_sequences, batch_size=batch_size)\n",
    "\n",
    "val_predicted_labels = np.argmax(val_predictions, axis=2).flatten()\n",
    "test_predicted_labels = np.argmax(test_predictions, axis=2).flatten()\n",
    "\n",
    "f1_score_val = f1_score(val_true_labels, val_predicted_labels, average='macro')\n",
    "f1_score_test = f1_score(test_true_labels, test_predicted_labels, average='macro')\n",
    "\n",
    "results = []\n",
    "results.append({\n",
    "    'val_accuracy': accuracy_val,\n",
    "    'f1_score_val': f1_score_val,\n",
    "    'test_accuracy': accuracy_test,\n",
    "    'f1_score_test': f1_score_test\n",
    "})\n",
    "plot_curves(history)\n",
    "results_df = pd.DataFrame(results)\n",
    "results_df = results_df.sort_values(by='f1_score_val', ascending=False)\n",
    "print(results_df.to_string(index=False))"
   ]
  },
  {
   "cell_type": "markdown",
   "metadata": {
    "id": "Dr2eNm7qJr4F"
   },
   "source": [
    "---\n",
    "\n",
    "<h1><a name=\"section-four\"> 4. Lliurable </a></h1>\n",
    "\n",
    "Heu d'entregar un document PDF de com a **màxim 10 pàgines** que incloga els resultats de tots els exercicis així com una explicació de cadascun dels resultats i de la modificació que heu fet. L'estructura del document és:\n",
    "\n",
    "1. Introducció.\n",
    "2. Experiments i Resultats (amb raonament).\n",
    "3. Conclusions.\n",
    "\n",
    "No cal que afegiu el vostre codi al document, podeu entregar el *notebook* juntament amb el document.\n",
    "\n",
    " ---"
   ]
  }
 ],
 "metadata": {
  "accelerator": "GPU",
  "colab": {
   "gpuType": "T4",
   "provenance": []
  },
  "kernelspec": {
   "display_name": "Python 3",
   "name": "python3"
  },
  "language_info": {
   "codemirror_mode": {
    "name": "ipython",
    "version": 3
   },
   "file_extension": ".py",
   "mimetype": "text/x-python",
   "name": "python",
   "nbconvert_exporter": "python",
   "pygments_lexer": "ipython3",
   "version": "3.11.7"
  }
 },
 "nbformat": 4,
 "nbformat_minor": 0
}
